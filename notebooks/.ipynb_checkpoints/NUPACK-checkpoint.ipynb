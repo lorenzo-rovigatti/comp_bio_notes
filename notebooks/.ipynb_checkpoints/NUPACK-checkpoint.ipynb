{
 "cells": [
  {
   "cell_type": "markdown",
   "id": "ae5e6ee4",
   "metadata": {},
   "source": [
    "# NUPACK tutorial\n",
    "\n",
    "In order to use this notebook, download the latest version of the package [here](https://nupack.org/download/overview) (you will need to register). Installation instructions are [here]. On Mac/Linux it should be enough to unzip the file and run the following command:\n",
    "\n",
    "```bash\n",
    "python3 -m pip install -U nupack -f ~/Downloads/nupack-VERSION/package\n",
    "```\n",
    "\n",
    "where you will have to adjust the path to match the location where you unzipped the folder."
   ]
  },
  {
   "cell_type": "markdown",
   "id": "2e9b5f93-8ee4-41a5-a362-f85be23c0790",
   "metadata": {},
   "source": [
    "This tutorial has been adapted from the [official NUPACK documentation](https://nbviewer.org/github/Piercelab-Caltech/nupack-docs/blob/main/examples/analysis/tube-analysis.ipynb).\n",
    "\n",
    "Here we will analyze a test tube containing 2 strand species that interact to form all complex species of up to 4 strands. We set the concentrations of both strands to $5 \\times 10^{-6}$ M, the material to `DNA' and the temperature to $23^\\circ$ C.\n",
    "\n",
    "The two strands are intended to form a bipedal walker complex '(a+b)' with a duplex torso and single-stranded legs (see [Shin and Pierce, J Am Chem Soc, 2004](https://doi.org/10.1021/ja047543j)).\n",
    "\n",
    "Here we calculate the partition function, equilibrium pair probability matrix, MFE proxy structure(s), and equilibrium concentration for each complex species in the tube, as well as the ensemble pair fractions for the tube ensemble."
   ]
  },
  {
   "cell_type": "code",
   "execution_count": 3,
   "id": "452357ab-617d-47ac-822a-3b8bd9e6ec8b",
   "metadata": {},
   "outputs": [],
   "source": [
    "# Import NUPACK Python module\n",
    "from nupack import *"
   ]
  },
  {
   "cell_type": "code",
   "execution_count": 4,
   "id": "6fee59a8-4af9-4c6b-bc5a-9093540160c1",
   "metadata": {},
   "outputs": [
    {
     "data": {
      "text/html": [
       "<b>Complex results:</b> <table border=\"1\" class=\"dataframe\">\n",
       "  <thead>\n",
       "    <tr style=\"text-align: right;\">\n",
       "      <th>Complex</th>\n",
       "      <th>Pfunc</th>\n",
       "      <th>ΔG (kcal/mol)</th>\n",
       "      <th>MFE (kcal/mol)</th>\n",
       "    </tr>\n",
       "  </thead>\n",
       "  <tbody>\n",
       "    <tr>\n",
       "      <td>(a)</td>\n",
       "      <td>4.8748e+4</td>\n",
       "      <td>-6.353</td>\n",
       "      <td>-5.141</td>\n",
       "    </tr>\n",
       "    <tr>\n",
       "      <td>(b)</td>\n",
       "      <td>8.7537e+6</td>\n",
       "      <td>-9.407</td>\n",
       "      <td>-8.529</td>\n",
       "    </tr>\n",
       "    <tr>\n",
       "      <td>(a+a)</td>\n",
       "      <td>9.7092e+16</td>\n",
       "      <td>-23.019</td>\n",
       "      <td>-22.044</td>\n",
       "    </tr>\n",
       "    <tr>\n",
       "      <td>(a+b)</td>\n",
       "      <td>4.1688e+30</td>\n",
       "      <td>-41.492</td>\n",
       "      <td>-38.547</td>\n",
       "    </tr>\n",
       "    <tr>\n",
       "      <td>(b+b)</td>\n",
       "      <td>2.0381e+18</td>\n",
       "      <td>-24.810</td>\n",
       "      <td>-22.722</td>\n",
       "    </tr>\n",
       "    <tr>\n",
       "      <td>(a+a+a)</td>\n",
       "      <td>2.5957e+27</td>\n",
       "      <td>-37.148</td>\n",
       "      <td>-34.926</td>\n",
       "    </tr>\n",
       "    <tr>\n",
       "      <td>(a+a+b)</td>\n",
       "      <td>1.2658e+43</td>\n",
       "      <td>-58.407</td>\n",
       "      <td>-56.167</td>\n",
       "    </tr>\n",
       "    <tr>\n",
       "      <td>(a+b+b)</td>\n",
       "      <td>8.4192e+42</td>\n",
       "      <td>-58.167</td>\n",
       "      <td>-53.124</td>\n",
       "    </tr>\n",
       "    <tr>\n",
       "      <td>(b+b+b)</td>\n",
       "      <td>1.9407e+30</td>\n",
       "      <td>-41.042</td>\n",
       "      <td>-36.918</td>\n",
       "    </tr>\n",
       "    <tr>\n",
       "      <td>(a+a+a+a)</td>\n",
       "      <td>5.9410e+39</td>\n",
       "      <td>-53.896</td>\n",
       "      <td>-51.829</td>\n",
       "    </tr>\n",
       "    <tr>\n",
       "      <td>(a+a+a+b)</td>\n",
       "      <td>3.9996e+53</td>\n",
       "      <td>-72.635</td>\n",
       "      <td>-69.048</td>\n",
       "    </tr>\n",
       "    <tr>\n",
       "      <td>(a+a+b+b)</td>\n",
       "      <td>4.4989e+63</td>\n",
       "      <td>-86.255</td>\n",
       "      <td>-79.755</td>\n",
       "    </tr>\n",
       "    <tr>\n",
       "      <td>(a+b+a+b)</td>\n",
       "      <td>4.1249e+68</td>\n",
       "      <td>-92.979</td>\n",
       "      <td>-90.290</td>\n",
       "    </tr>\n",
       "    <tr>\n",
       "      <td>(a+b+b+b)</td>\n",
       "      <td>1.4056e+55</td>\n",
       "      <td>-74.729</td>\n",
       "      <td>-68.553</td>\n",
       "    </tr>\n",
       "    <tr>\n",
       "      <td>(b+b+b+b)</td>\n",
       "      <td>2.9430e+42</td>\n",
       "      <td>-57.548</td>\n",
       "      <td>-52.288</td>\n",
       "    </tr>\n",
       "  </tbody>\n",
       "</table> <b>Concentration results:</b> <table border=\"1\" class=\"dataframe\">\n",
       "  <thead>\n",
       "    <tr style=\"text-align: right;\">\n",
       "      <th>Complex</th>\n",
       "      <th>Tube t1 (M)</th>\n",
       "      <th></th>\n",
       "    </tr>\n",
       "  </thead>\n",
       "  <tbody>\n",
       "    <tr>\n",
       "      <td>(a+b)</td>\n",
       "      <td>1.901e-06</td>\n",
       "      <td></td>\n",
       "    </tr>\n",
       "    <tr>\n",
       "      <td>(a+b+a+b)</td>\n",
       "      <td>1.549e-06</td>\n",
       "      <td></td>\n",
       "    </tr>\n",
       "    <tr>\n",
       "      <td>(a+a+b+b)</td>\n",
       "      <td>1.690e-11</td>\n",
       "      <td></td>\n",
       "    </tr>\n",
       "    <tr>\n",
       "      <td>(b)</td>\n",
       "      <td>5.793e-12</td>\n",
       "      <td></td>\n",
       "    </tr>\n",
       "    <tr>\n",
       "      <td>(a+a+b)</td>\n",
       "      <td>3.978e-12</td>\n",
       "      <td></td>\n",
       "    </tr>\n",
       "    <tr>\n",
       "      <td>(a)</td>\n",
       "      <td>1.860e-12</td>\n",
       "      <td></td>\n",
       "    </tr>\n",
       "    <tr>\n",
       "      <td>(a+b+b)</td>\n",
       "      <td>4.589e-14</td>\n",
       "      <td></td>\n",
       "    </tr>\n",
       "    <tr>\n",
       "      <td>(a+a)</td>\n",
       "      <td>2.553e-18</td>\n",
       "      <td></td>\n",
       "    </tr>\n",
       "    <tr>\n",
       "      <td>(a+a+a+b)</td>\n",
       "      <td>8.663e-20</td>\n",
       "      <td></td>\n",
       "    </tr>\n",
       "    <tr>\n",
       "      <td>(b+b)</td>\n",
       "      <td>1.612e-20</td>\n",
       "      <td></td>\n",
       "    </tr>\n",
       "    <tr>\n",
       "      <td>(a+b+b+b)</td>\n",
       "      <td>9.155e-22</td>\n",
       "      <td></td>\n",
       "    </tr>\n",
       "    <tr>\n",
       "      <td>(a+a+a)</td>\n",
       "      <td>4.705e-26</td>\n",
       "      <td></td>\n",
       "    </tr>\n",
       "    <tr>\n",
       "      <td>(b+b+b)</td>\n",
       "      <td>1.834e-28</td>\n",
       "      <td></td>\n",
       "    </tr>\n",
       "    <tr>\n",
       "      <td>(a+a+a+a)</td>\n",
       "      <td>7.421e-32</td>\n",
       "      <td></td>\n",
       "    </tr>\n",
       "    <tr>\n",
       "      <td>(b+b+b+b)</td>\n",
       "      <td>3.324e-36</td>\n",
       "      <td></td>\n",
       "    </tr>\n",
       "  </tbody>\n",
       "</table>"
      ],
      "text/plain": [
       "Result(tubes={<Tube Tube t1>: <nupack.analysis.TubeResult object at 0x7f75549b6750>}, complexes=<nupack.analysis.ComplexDict object at 0x7f759d3a5350>)"
      ]
     },
     "execution_count": 4,
     "metadata": {},
     "output_type": "execute_result"
    }
   ],
   "source": [
    "# Define physical model\n",
    "my_model = Model(material='dna', celsius=23)\n",
    "\n",
    "# Define strand species\n",
    "a = Strand('GGCTGGTTTCTGCTCTCTAGTTCGCGAGGTGCAATCTCCTATC', name='a')\n",
    "b = Strand('GTCTGGGATGCTGGATACTGAACCTAGAGAGCAGAAACCAGCC', name='b')\n",
    "\n",
    "# Define tube ensemble containing strands at specified concentrations \n",
    "# interacting to form all complexes up to 4 strands\n",
    "t1 = Tube(strands={a:5e-6, b:5e-6}, complexes=SetSpec(max_size=4), name='Tube t1')\n",
    "\n",
    "# Analyze the tube ensemble\n",
    "# Calculate pfunc (default), pairs, mfe, concentration (default) for each complex \n",
    "# Since pairs is specified, calculate ensemble pair fractions for the tube ensemble\n",
    "tube_result = tube_analysis(tubes=[t1], compute=['pairs', 'mfe'], model=my_model)\n",
    "tube_result"
   ]
  },
  {
   "cell_type": "code",
   "execution_count": 5,
   "id": "bf967c51-b492-416f-9dd4-188f4b7341ac",
   "metadata": {},
   "outputs": [
    {
     "name": "stdout",
     "output_type": "stream",
     "text": [
      "\n",
      "MFE proxy structure(s) for walker (a+b):\n",
      "     0: ((((((((((((((((((((((.((.....)))).........+..........(.(....).)...)))))))))))))))))))) (-38.55 kcal/mol)\n"
     ]
    }
   ],
   "source": [
    "# MFE proxy structure for bipedal walker complex '(a+b)'\n",
    "walker_result = tube_result['(a+b)']\n",
    "print('\\nMFE proxy structure(s) for walker (a+b):')\n",
    "for i, s in enumerate(walker_result.mfe):\n",
    "    print('    %2d: %s (%.2f kcal/mol)' % (i, s.structure, s.energy))"
   ]
  },
  {
   "cell_type": "code",
   "execution_count": 6,
   "id": "cfa2af29-9fb5-4624-aca5-2d5b82b0c595",
   "metadata": {},
   "outputs": [
    {
     "data": {
      "image/png": "[encoded data removed]",
      "text/plain": [
       "<Figure size 640x480 with 2 Axes>"
      ]
     },
     "metadata": {},
     "output_type": "display_data"
    }
   ],
   "source": [
    "# Plot the equilibrium pair probability matrix for bipedal walker complex '(a+b)'\n",
    "import matplotlib.pyplot as plt\n",
    "plt.imshow(walker_result.pairs.to_array())\n",
    "plt.xlabel('Base index')\n",
    "plt.ylabel('Base index')\n",
    "plt.title('Pair probabilities for complex (a+b)')\n",
    "plt.colorbar()\n",
    "plt.clim(0, 1)"
   ]
  },
  {
   "cell_type": "code",
   "execution_count": 7,
   "id": "7f1755c2-8089-4218-8437-73276fb45fdd",
   "metadata": {},
   "outputs": [
    {
     "data": {
      "image/png": "[encoded data removed]",
      "text/plain": [
       "<Figure size 640x480 with 2 Axes>"
      ]
     },
     "metadata": {},
     "output_type": "display_data"
    }
   ],
   "source": [
    "# Plot the ensemble pair fractions for the tube \n",
    "plt.imshow(tube_result[t1].ensemble_pair_fractions.to_array())\n",
    "plt.xlabel('Base index')\n",
    "plt.ylabel('Base index')\n",
    "plt.title('Ensemble pair fractions for ' + ', '.join(s.name for s in t1.strands))\n",
    "plt.colorbar()\n",
    "plt.clim(0, 1)"
   ]
  },
  {
   "cell_type": "code",
   "execution_count": null,
   "id": "eb82a2e8-89f3-4bd6-b63d-444d2519024e",
   "metadata": {},
   "outputs": [],
   "source": []
  }
 ],
 "metadata": {
  "kernelspec": {
   "display_name": "Python 3 (ipykernel)",
   "language": "python",
   "name": "python3"
  },
  "language_info": {
   "codemirror_mode": {
    "name": "ipython",
    "version": 3
   },
   "file_extension": ".py",
   "mimetype": "text/x-python",
   "name": "python",
   "nbconvert_exporter": "python",
   "pygments_lexer": "ipython3",
   "version": "3.11.9"
  }
 },
 "nbformat": 4,
 "nbformat_minor": 5
}
