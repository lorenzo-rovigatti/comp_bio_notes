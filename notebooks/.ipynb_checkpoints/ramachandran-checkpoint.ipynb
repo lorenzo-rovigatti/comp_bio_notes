{
 "cells": [
  {
   "cell_type": "markdown",
   "id": "29fd0fd6",
   "metadata": {},
   "source": [
    "---\n",
    "title: Dihedrals and Ramachandran plots\n",
    "---"
   ]
  },
  {
   "cell_type": "markdown",
   "id": "b864b157",
   "metadata": {},
   "source": [
    "This notebook requires biopython and PeptideBuilder, which can be installed through pip with\n",
    "\n",
    "```\n",
    "pip install biopython PeptideBuilder\n",
    "```"
   ]
  },
  {
   "cell_type": "code",
   "execution_count": 1,
   "id": "7122d97d",
   "metadata": {},
   "outputs": [],
   "source": [
    "import Bio\n",
    "import PeptideBuilder as PB\n",
    "import itertools\n",
    "import numpy as np"
   ]
  },
  {
   "cell_type": "code",
   "execution_count": 61,
   "id": "7fd39646",
   "metadata": {},
   "outputs": [],
   "source": [
    "VDW_RADII = {\n",
    "    \"H\" : 1.20,\n",
    "    \"C\" : 1.70,\n",
    "    \"N\" : 1.55,\n",
    "    \"O\" : 1.52,\n",
    "    \"P\" : 1.80,\n",
    "    \"S\" : 1.80,\n",
    "}\n",
    "\n",
    "RAM_ALLOWED_RADII = {\n",
    "    \"CC\" : 3.20,\n",
    "    \"CO\" : 2.80,\n",
    "    \"OC\" : 2.80,\n",
    "    \"CN\" : 2.90,\n",
    "    \"NC\" : 2.90,\n",
    "    \"CH\" : 2.40,\n",
    "    \"HC\" : 2.40,\n",
    "    \"OO\" : 2.80,\n",
    "    \"ON\" : 2.70,\n",
    "    \"NO\" : 2.70,\n",
    "    \"OH\" : 2.40,\n",
    "    \"HO\" : 2.40,\n",
    "    \"NN\" : 2.70,\n",
    "    \"NH\" : 2.40,\n",
    "    \"HN\" : 2.40,\n",
    "    \"HH\" : 2.00,\n",
    "}\n",
    "\n",
    "# returns 1 if there are clashes, 0 otherwise\n",
    "def energy(structure):\n",
    "    exclude_interactions = {\n",
    "        \"CA\" : [\"N\", \"H\"],\n",
    "        \"CB\" : [],\n",
    "        \"C\" : [\"CA\", \"N\", \"O\", \"H\"],\n",
    "        \"O\" : [\"N\", \"CA\"],\n",
    "        \"N\" : [],\n",
    "        \"H\" : []\n",
    "    }\n",
    "    \n",
    "    def overlap(p, q):\n",
    "        p_elem = p.name[0]\n",
    "        q_elem = q.name[0]\n",
    "        #radius = (VDW_RADII[p_elem] + VDW_RADII[q_elem]) * 0.88 # heuristic rescaling factor used by Ramachandran et al\n",
    "        radius = (RAM_ALLOWED_RADII[p_elem + q_elem])\n",
    "        return np.linalg.norm(p - q) < radius\n",
    "        \n",
    "    \n",
    "    residues = list(structure.get_residues())\n",
    "    for idx, residue in enumerate(residues[:-1]):\n",
    "        next_res = residues[idx + 1]\n",
    "        for p_atom in residue.get_atoms():\n",
    "            for q_atom in next_res.get_atoms():\n",
    "                if not q_atom.name in exclude_interactions[p_atom.name]:\n",
    "                    if overlap(p_atom, q_atom):\n",
    "                        #print(p_atom.name, q_atom.name)\n",
    "                        return 1\n",
    "        \n",
    "    return 0\n",
    "\n",
    "\n",
    "def calculate_normal_vector(a, b, c):\n",
    "    ab = b - a\n",
    "    ac = c - a\n",
    "    normal = np.cross(ab, ac)\n",
    "    return normal / np.linalg.norm(normal)\n",
    "\n",
    "\n",
    "def add_hydrogens(C, N, Ca):\n",
    "    N_pos = np.array(N.get_coord())\n",
    "    Ca_pos = np.array(Ca.get_coord())\n",
    "    C_pos = np.array(C.get_coord())\n",
    "\n",
    "    normal_vector = calculate_normal_vector(N_pos, Ca_pos, C_pos)\n",
    "    hydrogen_N_pos = N_pos - normal_vector * 1.01\n",
    "    H_atom = Bio.PDB.Atom.Atom('H', hydrogen_N_pos, 0.0, 1.0, ' ', ' H', 0, 'H')\n",
    "    residue.add(H_atom)"
   ]
  },
  {
   "cell_type": "code",
   "execution_count": 62,
   "id": "b4c0b3b4",
   "metadata": {},
   "outputs": [],
   "source": [
    "geo_ends = PB.Geometry.geometry(\"G\")\n",
    "structure = PB.initialize_res(geo_ends)\n",
    "PB.add_residue(structure, \"G\", -5, 0)\n",
    "PB.add_residue(structure, geo_ends)\n",
    "\n",
    "for residue in structure.get_residues():\n",
    "    add_hydrogens(residue)\n",
    "\n",
    "out = Bio.PDB.PDBIO()\n",
    "out.set_structure(structure)\n",
    "out.save(\"example.pdb\")"
   ]
  },
  {
   "cell_type": "code",
   "execution_count": 74,
   "id": "18288963",
   "metadata": {
    "scrolled": false
   },
   "outputs": [],
   "source": [
    "import matplotlib.pyplot as plt\n",
    "from matplotlib import colors\n",
    "\n",
    "phis = np.array(list(range(-180, 181, 10)))\n",
    "psis = np.array(list(range(-180, 181, 10)))\n",
    "energies = np.zeros((phis.shape[0], psis.shape[0]))\n",
    "first_geo = PB.Geometry.geometry(\"G\")\n",
    "for i, phi in enumerate(phis):\n",
    "    second_geo = PB.Geometry.geometry(\"G\")\n",
    "    second_geo.phi = phi\n",
    "    for j, psi in enumerate(psis):\n",
    "        third_geo = PB.Geometry.geometry(\"G\")\n",
    "        third_geo.psi_im1 = psi\n",
    "        \n",
    "        structure = PB.initialize_res(first_geo)\n",
    "        PB.add_residue(structure, second_geo)\n",
    "        PB.add_residue(structure, third_geo)\n",
    "        \n",
    "        add_hydrogens(residue[0][\"C\"], residue[1][\"N\"], residue[1][\"CA\"])\n",
    "        add_hydrogens(residue[1][\"C\"], residue[2][\"N\"], residue[2][\"CA\"])\n",
    "        \n",
    "        energies[j, i] = energy(structure)\n"
   ]
  },
  {
   "cell_type": "code",
   "execution_count": 75,
   "id": "7a189ec8",
   "metadata": {},
   "outputs": [
    {
     "data": {
      "image/png": "[encoded data removed]",
      "text/plain": [
       "<Figure size 640x480 with 1 Axes>"
      ]
     },
     "metadata": {},
     "output_type": "display_data"
    }
   ],
   "source": [
    "def format_axis(axis):\n",
    "    zero_lines_kwargs = {\n",
    "        \"colors\" : [\"Grey\"], \n",
    "        \"alpha\" : 0.4, \n",
    "        \"zorder\" : 3, \n",
    "        \"linewidths\" : [1]\n",
    "        }\n",
    "\n",
    "    axis.grid(alpha=0.4, linestyle=\"--\", linewidth=1, color=\"Grey\", zorder=3)\n",
    "    axis.hlines(0, -180, 180, **zero_lines_kwargs)\n",
    "    axis.vlines(0, -180, 180, **zero_lines_kwargs)\n",
    "    \n",
    "    axis.set_xlim((-180, 180))\n",
    "    axis.set_ylim((-180, 180))\n",
    "    axis.set_xlabel(u\"$\\phi$ (\\u00B0)\")\t# phi\n",
    "    axis.set_ylabel(u\"$\\psi$ (\\u00B0)\")\t# psi\n",
    "\n",
    "    axis.set_xticks([-180, -120, -60, 0, 60, 120, 180])\n",
    "    axis.set_yticks([-180, -120, -60, 0, 60, 120, 180])\n",
    "\n",
    "    ax_linewidth = 2\n",
    "    axis.spines[\"left\"].set_linewidth(ax_linewidth)\n",
    "    axis.spines[\"bottom\"].set_linewidth(ax_linewidth)\n",
    "    \n",
    "fig, ax = plt.subplots()\n",
    "kwargs = {\n",
    "    \"bins\" : 140, \n",
    "    \"norm\" : colors.PowerNorm(0.1),\n",
    "    \"alpha\" : 1}\n",
    "\n",
    "ax.imshow(energies, extent=(-180, 180, -180, 180))\n",
    "format_axis(ax)"
   ]
  },
  {
   "cell_type": "code",
   "execution_count": 89,
   "id": "907fc2e1",
   "metadata": {},
   "outputs": [],
   "source": [
    "out = Bio.PDB.PDBIO()\n",
    "out.set_structure(structure)\n",
    "out.save(\"example.pdb\")"
   ]
  },
  {
   "cell_type": "code",
   "execution_count": null,
   "id": "3943c18e",
   "metadata": {},
   "outputs": [],
   "source": []
  }
 ],
 "metadata": {
  "kernelspec": {
   "display_name": "Python 3 (ipykernel)",
   "language": "python",
   "name": "python3"
  },
  "language_info": {
   "codemirror_mode": {
    "name": "ipython",
    "version": 3
   },
   "file_extension": ".py",
   "mimetype": "text/x-python",
   "name": "python",
   "nbconvert_exporter": "python",
   "pygments_lexer": "ipython3",
   "version": "3.11.5"
  }
 },
 "nbformat": 4,
 "nbformat_minor": 5
}
