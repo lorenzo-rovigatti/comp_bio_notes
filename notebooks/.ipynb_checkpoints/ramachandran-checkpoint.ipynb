{
 "cells": [
  {
   "cell_type": "markdown",
   "id": "29fd0fd6",
   "metadata": {},
   "source": [
    "---\n",
    "title: Dihedrals and Ramachandran plots\n",
    "---"
   ]
  },
  {
   "cell_type": "markdown",
   "id": "b864b157",
   "metadata": {},
   "source": [
    "This notebook requires biopython and PeptideBuilder, which can be installed through pip with\n",
    "\n",
    "```\n",
    "pip install biopython PeptideBuilder\n",
    "```"
   ]
  },
  {
   "cell_type": "code",
   "execution_count": 1,
   "id": "7122d97d",
   "metadata": {},
   "outputs": [],
   "source": [
    "import Bio\n",
    "import PeptideBuilder as PB\n",
    "import itertools\n",
    "import numpy as np"
   ]
  },
  {
   "cell_type": "code",
   "execution_count": 72,
   "id": "7fd39646",
   "metadata": {},
   "outputs": [],
   "source": [
    "VDW_RADII = {\n",
    "    \"H\" : 1.20,\n",
    "    \"C\" : 1.70,\n",
    "    \"N\" : 1.55,\n",
    "    \"O\" : 1.52,\n",
    "    \"P\" : 1.80,\n",
    "    \"S\" : 1.80,\n",
    "}\n",
    "\n",
    "# returns 1 if there are clashes, 0 otherwise\n",
    "def energy(structure):\n",
    "    exclude_interactions = {\n",
    "        \"CA\" : [\"N\",],\n",
    "        \"CB\" : [],\n",
    "        \"C\" : [\"CA\", \"N\", \"O\"],\n",
    "        \"O\" : [\"N\", \"CA\"],\n",
    "        \"N\" : []\n",
    "    }\n",
    "    \n",
    "    def overlap(p, q):\n",
    "        p_elem = p.name[0]\n",
    "        q_elem = q.name[0]\n",
    "        radius = (VDW_RADII[p_elem] + VDW_RADII[q_elem]) * 0.88 # heuristic rescaling factor used by Ramachandran et al\n",
    "        return np.linalg.norm(p - q) < radius\n",
    "        \n",
    "    \n",
    "    residues = list(structure.get_residues())\n",
    "    for idx, residue in enumerate(residues[:-1]):\n",
    "        next_res = residues[idx + 1]\n",
    "        for p_atom in residue.get_atoms():\n",
    "            for q_atom in next_res.get_atoms():\n",
    "                if not q_atom.name in exclude_interactions[p_atom.name]:\n",
    "                    if overlap(p_atom, q_atom):\n",
    "                        print(p_atom.name, q_atom.name)\n",
    "                        return 1\n",
    "        \n",
    "    return 0"
   ]
  },
  {
   "cell_type": "code",
   "execution_count": 73,
   "id": "b4c0b3b4",
   "metadata": {},
   "outputs": [
    {
     "name": "stdout",
     "output_type": "stream",
     "text": [
      "N N\n",
      "1\n",
      "('X', 0, 'A', (' ', 1, ' '), ('N', ' '))\n",
      "('X', 0, 'A', (' ', 1, ' '), ('CA', ' '))\n",
      "('X', 0, 'A', (' ', 1, ' '), ('C', ' '))\n",
      "('X', 0, 'A', (' ', 1, ' '), ('O', ' '))\n",
      "('X', 0, 'A', (' ', 2, ' '), ('N', ' '))\n",
      "('X', 0, 'A', (' ', 2, ' '), ('CA', ' '))\n",
      "('X', 0, 'A', (' ', 2, ' '), ('C', ' '))\n",
      "('X', 0, 'A', (' ', 2, ' '), ('O', ' '))\n",
      "('X', 0, 'A', (' ', 3, ' '), ('N', ' '))\n",
      "('X', 0, 'A', (' ', 3, ' '), ('CA', ' '))\n",
      "('X', 0, 'A', (' ', 3, ' '), ('C', ' '))\n",
      "('X', 0, 'A', (' ', 3, ' '), ('O', ' '))\n"
     ]
    }
   ],
   "source": [
    "geo_ends = PB.Geometry.geometry(\"G\")\n",
    "structure = PB.initialize_res(geo_ends)\n",
    "PB.add_residue(structure, \"G\", -5, 0)\n",
    "PB.add_residue(structure, geo_ends)\n",
    "\n",
    "print(energy(structure))\n",
    "\n",
    "for a in structure.get_atoms():\n",
    "    print(a.get_full_id())"
   ]
  },
  {
   "cell_type": "code",
   "execution_count": 78,
   "id": "18288963",
   "metadata": {
    "scrolled": false
   },
   "outputs": [
    {
     "name": "stdout",
     "output_type": "stream",
     "text": [
      "C CB\n",
      "C CB\n",
      "C CB\n",
      "C CB\n",
      "C CB\n",
      "C CB\n",
      "C CB\n",
      "C CB\n",
      "C CB\n",
      "C CB\n",
      "C CB\n",
      "C CB\n",
      "C CB\n",
      "C CB\n",
      "C CB\n",
      "N N\n",
      "N N\n",
      "N N\n",
      "N N\n",
      "N N\n",
      "N N\n",
      "N N\n",
      "C CB\n",
      "C CB\n",
      "C CB\n",
      "C CB\n",
      "C CB\n",
      "C CB\n",
      "C CB\n",
      "C CB\n",
      "C CB\n",
      "C CB\n",
      "C CB\n",
      "C CB\n",
      "C CB\n",
      "C CB\n",
      "C CB\n"
     ]
    },
    {
     "ename": "KeyError",
     "evalue": "'CB'",
     "output_type": "error",
     "traceback": [
      "\u001b[0;31m---------------------------------------------------------------------------\u001b[0m",
      "\u001b[0;31mKeyError\u001b[0m                                  Traceback (most recent call last)",
      "Cell \u001b[0;32mIn[78], line 17\u001b[0m\n\u001b[1;32m     14\u001b[0m PB\u001b[38;5;241m.\u001b[39madd_residue(structure, \u001b[38;5;124m\"\u001b[39m\u001b[38;5;124mA\u001b[39m\u001b[38;5;124m\"\u001b[39m, phi, psi)\n\u001b[1;32m     15\u001b[0m PB\u001b[38;5;241m.\u001b[39madd_residue(structure, geo_ends)\n\u001b[0;32m---> 17\u001b[0m E \u001b[38;5;241m=\u001b[39m \u001b[43menergy\u001b[49m\u001b[43m(\u001b[49m\u001b[43mstructure\u001b[49m\u001b[43m)\u001b[49m\n\u001b[1;32m     18\u001b[0m energies[j, i] \u001b[38;5;241m=\u001b[39m E\n\u001b[1;32m     19\u001b[0m \u001b[38;5;28;01mif\u001b[39;00m E \u001b[38;5;241m==\u001b[39m \u001b[38;5;241m0\u001b[39m:\n",
      "Cell \u001b[0;32mIn[72], line 31\u001b[0m, in \u001b[0;36menergy\u001b[0;34m(structure)\u001b[0m\n\u001b[1;32m     29\u001b[0m \u001b[38;5;28;01mfor\u001b[39;00m p_atom \u001b[38;5;129;01min\u001b[39;00m residue\u001b[38;5;241m.\u001b[39mget_atoms():\n\u001b[1;32m     30\u001b[0m     \u001b[38;5;28;01mfor\u001b[39;00m q_atom \u001b[38;5;129;01min\u001b[39;00m next_res\u001b[38;5;241m.\u001b[39mget_atoms():\n\u001b[0;32m---> 31\u001b[0m         \u001b[38;5;28;01mif\u001b[39;00m \u001b[38;5;129;01mnot\u001b[39;00m q_atom\u001b[38;5;241m.\u001b[39mname \u001b[38;5;129;01min\u001b[39;00m \u001b[43mexclude_interactions\u001b[49m\u001b[43m[\u001b[49m\u001b[43mp_atom\u001b[49m\u001b[38;5;241;43m.\u001b[39;49m\u001b[43mname\u001b[49m\u001b[43m]\u001b[49m:\n\u001b[1;32m     32\u001b[0m             \u001b[38;5;28;01mif\u001b[39;00m overlap(p_atom, q_atom):\n\u001b[1;32m     33\u001b[0m                 \u001b[38;5;28mprint\u001b[39m(p_atom\u001b[38;5;241m.\u001b[39mname, q_atom\u001b[38;5;241m.\u001b[39mname)\n",
      "\u001b[0;31mKeyError\u001b[0m: 'CB'"
     ]
    }
   ],
   "source": [
    "import matplotlib.pyplot as plt\n",
    "from matplotlib import colors\n",
    "\n",
    "# create a peptide consisting of 3 glycines, adapter from PeptideBuilder's example\n",
    "phis = np.array(list(range(-180, 181, 10)))\n",
    "psis = np.array(list(range(-180, 181, 10)))\n",
    "forbidden_psi = []\n",
    "forbidden_phi = []\n",
    "energies = np.zeros((phis.shape[0], psis.shape[0]))\n",
    "for i, phi in enumerate(phis):\n",
    "    for j, psi in enumerate(psis):\n",
    "        geo_ends = PB.Geometry.geometry(\"G\")\n",
    "        structure = PB.initialize_res(geo_ends)\n",
    "        PB.add_residue(structure, \"A\", phi, psi)\n",
    "        PB.add_residue(structure, geo_ends)\n",
    "        \n",
    "        E = energy(structure)\n",
    "        energies[j, i] = E\n",
    "        if E == 0:\n",
    "            forbidden_phi.append(phi)\n",
    "            forbidden_psi.append(psi)\n",
    "            \n",
    "np.savetxt(\"combs.dat\", energies)"
   ]
  },
  {
   "cell_type": "code",
   "execution_count": 77,
   "id": "7a189ec8",
   "metadata": {},
   "outputs": [
    {
     "data": {
      "image/png": "[encoded data removed]",
      "text/plain": [
       "<Figure size 640x480 with 1 Axes>"
      ]
     },
     "metadata": {},
     "output_type": "display_data"
    }
   ],
   "source": [
    "def format_axis(axis):\n",
    "    zero_lines_kwargs = {\n",
    "        \"colors\" : [\"Grey\"], \n",
    "        \"alpha\" : 0.4, \n",
    "        \"zorder\" : 3, \n",
    "        \"linewidths\" : [1]\n",
    "        }\n",
    "\n",
    "    axis.grid(alpha=0.4, linestyle=\"--\", linewidth=1, color=\"Grey\", zorder=3)\n",
    "    axis.hlines(0, -180, 180, **zero_lines_kwargs)\n",
    "    axis.vlines(0, -180, 180, **zero_lines_kwargs)\n",
    "    \n",
    "    axis.set_xlim((-180, 180))\n",
    "    axis.set_ylim((-180, 180))\n",
    "    axis.set_xlabel(u\"$\\phi$ (\\u00B0)\")\t# phi\n",
    "    axis.set_ylabel(u\"$\\psi$ (\\u00B0)\")\t# psi\n",
    "\n",
    "    axis.set_xticks([-180, -120, -60, 0, 60, 120, 180])\n",
    "    axis.set_yticks([-180, -120, -60, 0, 60, 120, 180])\n",
    "\n",
    "    ax_linewidth = 2\n",
    "    axis.spines[\"left\"].set_linewidth(ax_linewidth)\n",
    "    axis.spines[\"bottom\"].set_linewidth(ax_linewidth)\n",
    "    \n",
    "fig, ax = plt.subplots()\n",
    "kwargs = {\n",
    "    \"bins\" : 140, \n",
    "    \"norm\" : colors.PowerNorm(0.1),\n",
    "    \"alpha\" : 1}\n",
    "#ax.hist2d(forbidden_phi, forbidden_psi, **kwargs)\n",
    "ax.imshow(energies, extent=(-180, 180, -180, 180))\n",
    "format_axis(ax)"
   ]
  },
  {
   "cell_type": "code",
   "execution_count": 89,
   "id": "907fc2e1",
   "metadata": {},
   "outputs": [],
   "source": [
    "out = Bio.PDB.PDBIO()\n",
    "out.set_structure(structure)\n",
    "out.save(\"example.pdb\")"
   ]
  },
  {
   "cell_type": "code",
   "execution_count": null,
   "id": "3943c18e",
   "metadata": {},
   "outputs": [],
   "source": []
  }
 ],
 "metadata": {
  "kernelspec": {
   "display_name": "Python 3 (ipykernel)",
   "language": "python",
   "name": "python3"
  },
  "language_info": {
   "codemirror_mode": {
    "name": "ipython",
    "version": 3
   },
   "file_extension": ".py",
   "mimetype": "text/x-python",
   "name": "python",
   "nbconvert_exporter": "python",
   "pygments_lexer": "ipython3",
   "version": "3.10.9"
  }
 },
 "nbformat": 4,
 "nbformat_minor": 5
}
