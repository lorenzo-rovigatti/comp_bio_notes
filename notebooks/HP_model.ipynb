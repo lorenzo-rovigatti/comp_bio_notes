{
 "cells": [
  {
   "cell_type": "markdown",
   "id": "664ae59b",
   "metadata": {},
   "source": [
    "# The HP model\n",
    "\n",
    "This notebook contains code that exhaustively enumerates all possible conformations of an HP lattice protein. There are also functions to\n",
    "\n",
    "* count the number of topological contacts\n",
    "* compute the energy of a given conformation and sequence\n",
    "* select the compact conformations out of a set of generic conformations\n",
    "* given a sequence and a set of conformations, find the lowest-energy structures\n",
    "* use `matplotlib` to show a conformation\n",
    "\n",
    "At the end you can also find some example code that uses these functions."
   ]
  },
  {
   "cell_type": "code",
   "execution_count": 1,
   "id": "8acf7010",
   "metadata": {},
   "outputs": [],
   "source": [
    "import sys\n",
    "import numpy as np\n",
    "import random\n",
    "import matplotlib.pyplot as plt\n",
    "import itertools\n",
    "import numpy as np"
   ]
  },
  {
   "cell_type": "code",
   "execution_count": 2,
   "id": "45bc1546",
   "metadata": {},
   "outputs": [],
   "source": [
    "# On a square lattice there are four possible directions (up, right, down, left)\n",
    "DIRECTIONS = [(0, 1), (1, 0), (0, -1), (-1, 0)]\n",
    "\n",
    "# Return all possible conformations of a given length\n",
    "def generate_conformations(length):\n",
    "    # there is a single conformation of length 2 that is not related to others by rotations or translations\n",
    "    if length == 2:\n",
    "        return [[(0, 0), (0, 1)]] # this return stops the recursion of the next line\n",
    "    \n",
    "    # Recursive call: get all possible conformations for length - 1\n",
    "    smaller_conformations = generate_conformations(length - 1)\n",
    "    conformations = []\n",
    "    \n",
    "    for conf in smaller_conformations:\n",
    "        last_point = conf[-1]\n",
    "        for direction in DIRECTIONS:\n",
    "            new_point = (last_point[0] + direction[0], last_point[1] + direction[1])\n",
    "            if new_point not in conf: # check that there are no overlaps\n",
    "                # generate the new configuration\n",
    "                new_conf = conf + [new_point]\n",
    "                # generate its mirror image\n",
    "                mirror_conf = [(-x, y) for x, y in new_conf]\n",
    "                # pick one of the two using the lexographic order through min\n",
    "                conformations.append(min(new_conf, mirror_conf))\n",
    "    \n",
    "    # make sure that only one of the two mirror images of each configuration is retained\n",
    "    conformations.sort()\n",
    "    return list(conformations for conformations, _ in itertools.groupby(conformations))\n",
    "\n",
    "# Return the number of topological contacts in a conformation\n",
    "def count_topological_contacts(conformation):\n",
    "    count = 0\n",
    "    length = len(conformation)\n",
    "    for i in range(length):\n",
    "        for j in range(i + 2, length): # + 2 to skip connected neighbours\n",
    "            if is_adjacent(conformation[i], conformation[j]):\n",
    "                count += 1\n",
    "    return count\n",
    "\n",
    "# Return the conformations with the maximum compactness (i.e. with the maximum number of topological contacts)\n",
    "def select_compact_conformations(conformations):\n",
    "    max_topological_contacts = 0\n",
    "    compact_conformations = []\n",
    "\n",
    "    for conf in conformations:\n",
    "        topological_contacts = count_topological_contacts(conf)\n",
    "        if topological_contacts > max_topological_contacts:\n",
    "            max_topological_contacts = topological_contacts\n",
    "            compact_conformations = [conf]\n",
    "        elif topological_contacts == max_topological_contacts:\n",
    "            compact_conformations.append(conf)\n",
    "    \n",
    "    return max_topological_contacts, compact_conformations\n",
    "\n",
    "# Return the energy of a conformation for a given HP sequence\n",
    "def calculate_energy(conformation, sequence):\n",
    "    energy = 0\n",
    "    length = len(conformation)\n",
    "    for i in range(length):\n",
    "        if sequence[i] == 'H':\n",
    "            for j in range(i + 2, length): # + 2 to skip connected neighbours\n",
    "                if sequence[j] == 'H' and is_adjacent(conformation[i], conformation[j]):\n",
    "                    energy -= 1\n",
    "    return energy\n",
    "\n",
    "# Check if two points are adjacent in the lattice\n",
    "def is_adjacent(point1, point2):\n",
    "    return abs(point1[0] - point2[0]) + abs(point1[1] - point2[1]) == 1\n",
    "\n",
    "# Return the lowest energy conformations\n",
    "def find_lowest_energy_conformations(sequence, conformations):\n",
    "    length = len(sequence)\n",
    "    if length != len(conformations[0]):\n",
    "        print(f\"The length of the sequence ({length}) is different from that of the conformations ({len(conformations[0])})\")\n",
    "    lowest_energy = float('inf')\n",
    "    lowest_energy_conformations = []\n",
    "\n",
    "    for conf in conformations:\n",
    "        energy = calculate_energy(conf, sequence)\n",
    "        if energy < lowest_energy:\n",
    "            lowest_energy = energy\n",
    "            lowest_energy_conformations = [conf]\n",
    "        elif energy == lowest_energy:\n",
    "            lowest_energy_conformations.append(conf)\n",
    "\n",
    "    return lowest_energy, lowest_energy_conformations\n",
    "\n",
    "# Plot the conformation, with each residue coloured according to the sequence\n",
    "def plot_conformation(conformation, sequence):\n",
    "    # define colors for H and P residues\n",
    "    color_map = {'H': 'blue', 'P': 'red'}\n",
    "    # used to shift the 'H' and 'P' labels so that they do not overlap with the symbols\n",
    "    label_shift = 0.05\n",
    "    \n",
    "    # extract x and y coordinates\n",
    "    x_coords, y_coords = zip(*conformation)\n",
    "    \n",
    "    # plot the conformation as a line connecting points\n",
    "    plt.plot(x_coords, y_coords, color='black', linestyle='-', marker='o', linewidth=2)\n",
    "    \n",
    "    # plot each residue with its corresponding color\n",
    "    for i, (x, y) in enumerate(conformation):\n",
    "        plt.plot(x, y, marker='o', color=color_map[sequence[i]], markersize=10)\n",
    "        # the first residue is labelled differently to highlight where the chain begins\n",
    "        if i == 0:\n",
    "            label = sequence[i] + \" (N)\"\n",
    "        else:\n",
    "            label = sequence[i]\n",
    "        plt.text(x - label_shift, y + label_shift, label, fontsize=12, ha='right', va='bottom')\n",
    "\n",
    "    plt.axis('equal')\n",
    "    plt.grid(True)\n",
    "    plt.title(f\"Conformation for sequence: {sequence}\")\n",
    "    plt.axis('off')\n",
    "    plt.show()"
   ]
  },
  {
   "cell_type": "code",
   "execution_count": 3,
   "id": "c9ee9837",
   "metadata": {},
   "outputs": [
    {
     "name": "stdout",
     "output_type": "stream",
     "text": [
      "Number of total conformations: 110188\n",
      "Number of compact conformations: 360 (7 topological contacts)\n",
      "Number of lowest-energy conformations: 1\n",
      "Lowest Energy: -7\n"
     ]
    },
    {
     "data": {
      "image/png": "[encoded data removed]",
      "text/plain": [
       "<Figure size 640x480 with 1 Axes>"
      ]
     },
     "metadata": {},
     "output_type": "display_data"
    }
   ],
   "source": [
    "sequence = \"HPPHHPHHPHPHHH\"\n",
    "\n",
    "conformations = generate_conformations(len(sequence))\n",
    "max_topological_contacts, compact_conformations = select_compact_conformations(conformations)\n",
    "lowest_energy, lowest_energy_conformations = find_lowest_energy_conformations(sequence, compact_conformations)\n",
    "\n",
    "print(f\"Number of total conformations: {len(conformations)}\")\n",
    "print(f\"Number of compact conformations: {len(compact_conformations)} ({max_topological_contacts} topological contacts)\")\n",
    "print(f\"Number of lowest-energy conformations: {len(lowest_energy_conformations)}\")\n",
    "print(\"Lowest Energy:\", lowest_energy)\n",
    "plot_conformation(lowest_energy_conformations[0], sequence)"
   ]
  },
  {
   "cell_type": "code",
   "execution_count": 14,
   "id": "122c774b",
   "metadata": {},
   "outputs": [
    {
     "name": "stdout",
     "output_type": "stream",
     "text": [
      "Number of total conformations: 2034\n",
      "Number of compact conformations: 98 (4 topological contacts)\n"
     ]
    },
    {
     "data": {
      "image/png": "[encoded data removed]",
      "text/plain": [
       "<Figure size 640x480 with 1 Axes>"
      ]
     },
     "metadata": {},
     "output_type": "display_data"
    }
   ],
   "source": [
    "def generate_all_sequences(length):\n",
    "    return [''.join(seq) for seq in itertools.product('HP', repeat=length)]\n",
    "\n",
    "N = 10\n",
    "conformations = generate_conformations(N)\n",
    "max_topological_contacts, compact_conformations = select_compact_conformations(conformations)\n",
    "print(f\"Number of total conformations: {len(conformations)}\")\n",
    "print(f\"Number of compact conformations: {len(compact_conformations)} ({max_topological_contacts} topological contacts)\")\n",
    "N_natives = []\n",
    "for sequence in generate_all_sequences(N):\n",
    "    lowest_energy, lowest_energy_conformations = find_lowest_energy_conformations(sequence, compact_conformations)\n",
    "    N_natives.append(len(lowest_energy_conformations))\n",
    "\n",
    "plt.xlim(0, 20.5)\n",
    "plt.xticks(np.arange(0, 25, 5)) # set the tick label to multiples of 5\n",
    "plt.hist(N_natives, bins=range(1, max(N_natives) + 1), ec='black', align='left', rwidth=0.8);"
   ]
  },
  {
   "cell_type": "code",
   "execution_count": null,
   "id": "3bd1f9dc",
   "metadata": {},
   "outputs": [],
   "source": []
  }
 ],
 "metadata": {
  "kernelspec": {
   "display_name": "Python 3 (ipykernel)",
   "language": "python",
   "name": "python3"
  },
  "language_info": {
   "codemirror_mode": {
    "name": "ipython",
    "version": 3
   },
   "file_extension": ".py",
   "mimetype": "text/x-python",
   "name": "python",
   "nbconvert_exporter": "python",
   "pygments_lexer": "ipython3",
   "version": "3.11.9"
  }
 },
 "nbformat": 4,
 "nbformat_minor": 5
}
