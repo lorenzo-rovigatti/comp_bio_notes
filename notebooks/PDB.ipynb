{
 "cells": [
  {
   "cell_type": "markdown",
   "id": "c08b0865-fdb9-4e84-aa56-2b44b6a5b120",
   "metadata": {},
   "source": [
    "# PDB files\n",
    "\n",
    "Here I will show how to parse PDB and PDBx/mmCIF files to obtain some structural data, and possibly to visualise the 3D conformation. We will use [Biopython](https://biopython.org/), which is a fairly comprehensive Python library to handle many use cases. Before starting, don't forget to install it:\n",
    "\n",
    "```\n",
    "pip install biopython\n",
    "```\n",
    "\n",
    "Focussing on structural data, Biopython can parse most of the standard file formats (PDB, PDBx/mmCIF, and more). "
   ]
  },
  {
   "cell_type": "code",
   "execution_count": 6,
   "id": "30c1f6c3-6f9d-417c-beb6-21f9a9c25b6b",
   "metadata": {},
   "outputs": [
    {
     "name": "stderr",
     "output_type": "stream",
     "text": [
      "/home/lorenzo/.local/lib/python3.10/site-packages/Bio/PDB/StructureBuilder.py:89: PDBConstructionWarning: WARNING: Chain A is discontinuous at line 4370.\n",
      "  warnings.warn(\n",
      "/home/lorenzo/.local/lib/python3.10/site-packages/Bio/PDB/StructureBuilder.py:89: PDBConstructionWarning: WARNING: Chain B is discontinuous at line 4413.\n",
      "  warnings.warn(\n",
      "/home/lorenzo/.local/lib/python3.10/site-packages/Bio/PDB/StructureBuilder.py:89: PDBConstructionWarning: WARNING: Chain C is discontinuous at line 4456.\n",
      "  warnings.warn(\n",
      "/home/lorenzo/.local/lib/python3.10/site-packages/Bio/PDB/StructureBuilder.py:89: PDBConstructionWarning: WARNING: Chain D is discontinuous at line 4499.\n",
      "  warnings.warn(\n",
      "/home/lorenzo/.local/lib/python3.10/site-packages/Bio/PDB/StructureBuilder.py:89: PDBConstructionWarning: WARNING: Chain A is discontinuous at line 4542.\n",
      "  warnings.warn(\n",
      "/home/lorenzo/.local/lib/python3.10/site-packages/Bio/PDB/StructureBuilder.py:89: PDBConstructionWarning: WARNING: Chain B is discontinuous at line 4667.\n",
      "  warnings.warn(\n",
      "/home/lorenzo/.local/lib/python3.10/site-packages/Bio/PDB/StructureBuilder.py:89: PDBConstructionWarning: WARNING: Chain C is discontinuous at line 4781.\n",
      "  warnings.warn(\n",
      "/home/lorenzo/.local/lib/python3.10/site-packages/Bio/PDB/StructureBuilder.py:89: PDBConstructionWarning: WARNING: Chain D is discontinuous at line 4881.\n",
      "  warnings.warn(\n"
     ]
    }
   ],
   "source": [
    "from Bio.PDB.MMCIFParser import MMCIFParser\n",
    "\n",
    "cif_parser = MMCIFParser()\n",
    "cif_structure = cif_parser.get_structure(\"1a3n\", \"1a3n.cif\")"
   ]
  },
  {
   "cell_type": "code",
   "execution_count": 9,
   "id": "c3edc801-8203-4c87-bc87-10133891ce3a",
   "metadata": {},
   "outputs": [
    {
     "name": "stderr",
     "output_type": "stream",
     "text": [
      "/home/lorenzo/.local/lib/python3.10/site-packages/Bio/PDB/StructureBuilder.py:89: PDBConstructionWarning: WARNING: Chain A is discontinuous at line 4891.\n",
      "  warnings.warn(\n",
      "/home/lorenzo/.local/lib/python3.10/site-packages/Bio/PDB/StructureBuilder.py:89: PDBConstructionWarning: WARNING: Chain B is discontinuous at line 4934.\n",
      "  warnings.warn(\n",
      "/home/lorenzo/.local/lib/python3.10/site-packages/Bio/PDB/StructureBuilder.py:89: PDBConstructionWarning: WARNING: Chain C is discontinuous at line 4977.\n",
      "  warnings.warn(\n",
      "/home/lorenzo/.local/lib/python3.10/site-packages/Bio/PDB/StructureBuilder.py:89: PDBConstructionWarning: WARNING: Chain D is discontinuous at line 5020.\n",
      "  warnings.warn(\n",
      "/home/lorenzo/.local/lib/python3.10/site-packages/Bio/PDB/StructureBuilder.py:89: PDBConstructionWarning: WARNING: Chain A is discontinuous at line 5063.\n",
      "  warnings.warn(\n",
      "/home/lorenzo/.local/lib/python3.10/site-packages/Bio/PDB/StructureBuilder.py:89: PDBConstructionWarning: WARNING: Chain B is discontinuous at line 5188.\n",
      "  warnings.warn(\n",
      "/home/lorenzo/.local/lib/python3.10/site-packages/Bio/PDB/StructureBuilder.py:89: PDBConstructionWarning: WARNING: Chain C is discontinuous at line 5302.\n",
      "  warnings.warn(\n",
      "/home/lorenzo/.local/lib/python3.10/site-packages/Bio/PDB/StructureBuilder.py:89: PDBConstructionWarning: WARNING: Chain D is discontinuous at line 5402.\n",
      "  warnings.warn(\n"
     ]
    }
   ],
   "source": [
    "from Bio.PDB.PDBParser import PDBParser\n",
    "\n",
    "pdb_parser = PDBParser(PERMISSIVE=1)\n",
    "pdb_structure = pdb_parser.get_structure(\"1a3n\", \"1a3n.pdb\")"
   ]
  },
  {
   "cell_type": "markdown",
   "id": "b50c4804-3752-48de-8462-342e29ae64a5",
   "metadata": {},
   "source": [
    "## Visualisation\n",
    "\n",
    "In addition to the tools discussed during the lecture, it is also possible to visualise a PDB file directly in a Jupyter notebook with [nglview](), which can be installed on `conda` with:\n",
    "\n",
    "```\n",
    "$ conda install nglview -c conda-forge\n",
    "```\n",
    "\n",
    "or through `pip`:\n",
    "\n",
    "```\n",
    "$ pip install nglview\n",
    "```\n",
    "\n",
    "**Nota Bene:** in some cases you also have to manually install `jupyterlab`, and often the visualisation will not work regardless."
   ]
  },
  {
   "cell_type": "code",
   "execution_count": 3,
   "id": "912478d2-9552-4268-8444-4e5fa9442e70",
   "metadata": {},
   "outputs": [
    {
     "name": "stdout",
     "output_type": "stream",
     "text": [
      "3.1.2\n"
     ]
    }
   ],
   "source": [
    "import nglview\n",
    "print(nglview.__version__)"
   ]
  },
  {
   "cell_type": "code",
   "execution_count": 2,
   "id": "4b11c8f1-d110-42fb-b27a-8fda95cd0aef",
   "metadata": {
    "scrolled": true
   },
   "outputs": [
    {
     "data": {
      "application/vnd.jupyter.widget-view+json": {
       "model_id": "f9d2ad1369614cb28735cd822e8878d7",
       "version_major": 2,
       "version_minor": 0
      },
      "text/plain": [
       "NGLWidget()"
      ]
     },
     "metadata": {},
     "output_type": "display_data"
    }
   ],
   "source": [
    "view = nglview.show_file(\"../files/1ecl.pdb\")\n",
    "view"
   ]
  },
  {
   "cell_type": "code",
   "execution_count": null,
   "id": "11eb5d12-f3da-468b-932c-55de218e211a",
   "metadata": {},
   "outputs": [],
   "source": []
  }
 ],
 "metadata": {
  "kernelspec": {
   "display_name": "Python 3 (ipykernel)",
   "language": "python",
   "name": "python3"
  },
  "language_info": {
   "codemirror_mode": {
    "name": "ipython",
    "version": 3
   },
   "file_extension": ".py",
   "mimetype": "text/x-python",
   "name": "python",
   "nbconvert_exporter": "python",
   "pygments_lexer": "ipython3",
   "version": "3.10.9"
  }
 },
 "nbformat": 4,
 "nbformat_minor": 5
}
