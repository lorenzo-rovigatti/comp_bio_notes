{
 "cells": [
  {
   "cell_type": "markdown",
   "metadata": {
    "id": "5hvgeINUwKa1"
   },
   "source": [
    "# Crash course on Python\n",
    "\n",
    "Based on [this notebook](https://github.com/rpmuller/PythonCrashCourse/blob/master/Python_Crash_Course.ipynb) by Rick Muller, licensed under a [Creative Commons Attribution-ShareAlike 3.0 Unported License](http://creativecommons.org/licenses/by-sa/3.0/deed.en_US).\n",
    "\n",
    "Note that the original notebook is much longer and more detailed."
   ]
  },
  {
   "cell_type": "markdown",
   "metadata": {
    "id": "CEXyzBajwKa3"
   },
   "source": [
    "# Python Overview\n",
    "\n",
    "This is a quick introduction to Python. There are lots of other places to learn the language more thoroughly. I have collected a list of useful links, including ones to other learning resources, at the end of this notebook. If you want a little more depth, [Python Tutorial](http://docs.python.org/3/tutorial/) is a great place to start, as is Zed Shaw's [Learn Python the Hard Way](http://learnpythonthehardway.org/book/).\n",
    "\n",
    "The lessons that follow make use of Jupyter notebooks. Briefly, notebooks have code cells (that are generally followed by result cells) and text cells. The text cells are the stuff that you're reading now."
   ]
  },
  {
   "cell_type": "markdown",
   "metadata": {},
   "source": [
    "## What You Need to Install\n",
    "\n",
    "These notes assume you have a Python distribution that includes:\n",
    "\n",
    "* [Python](http://www.python.org);\n",
    "* [Numpy](http://www.numpy.org), the core numerical extensions for linear algebra and multidimensional arrays;\n",
    "* [Scipy](http://www.scipy.org), additional libraries for scientific programming;\n",
    "* [Matplotlib](http://matplotlib.sf.net), excellent plotting and graphing libraries;\n",
    "* [Jupyter](http://jupyter.org), with the additional libraries required for the notebook interface.\n",
    "\n",
    "The easiest way to install and update all of these is using the [Anaconda package](https://docs.anaconda.com/miniconda/), which contains everything you need for scientific programming."
   ]
  },
  {
   "cell_type": "markdown",
   "metadata": {
    "id": "s3yitPGmwKa3"
   },
   "source": [
    "## Using Python as a Calculator"
   ]
  },
  {
   "cell_type": "markdown",
   "metadata": {
    "id": "actvajCMwKa3"
   },
   "source": [
    "Many of the things I used to use a calculator for, I now use Python for:"
   ]
  },
  {
   "cell_type": "code",
   "execution_count": 1,
   "metadata": {
    "colab": {
     "base_uri": "https://localhost:8080/"
    },
    "id": "wGTRNvcJwKa3",
    "outputId": "5ee0743a-9970-4d37-c0a1-0b1be8726085"
   },
   "outputs": [
    {
     "data": {
      "text/plain": [
       "4"
      ]
     },
     "execution_count": 1,
     "metadata": {},
     "output_type": "execute_result"
    }
   ],
   "source": [
    "2 + 2"
   ]
  },
  {
   "cell_type": "code",
   "execution_count": 2,
   "metadata": {
    "colab": {
     "base_uri": "https://localhost:8080/"
    },
    "id": "EerSzHatwKa5",
    "outputId": "e01f34e3-3b21-4f8d-9e90-c0602df7f7ee"
   },
   "outputs": [
    {
     "data": {
      "text/plain": [
       "5.0"
      ]
     },
     "execution_count": 2,
     "metadata": {},
     "output_type": "execute_result"
    }
   ],
   "source": [
    "(50 - 5 * 6) / 4"
   ]
  },
  {
   "cell_type": "markdown",
   "metadata": {
    "id": "6Eotore-wKa7"
   },
   "source": [
    "Differently from C, in Python an integer division does what you would expect:"
   ]
  },
  {
   "cell_type": "code",
   "execution_count": 3,
   "metadata": {
    "colab": {
     "base_uri": "https://localhost:8080/"
    },
    "id": "QGMT0nDfwKa7",
    "outputId": "a7a7ce30-a7c7-476b-93e2-2b7e13de0f9f"
   },
   "outputs": [
    {
     "data": {
      "text/plain": [
       "2.3333333333333335"
      ]
     },
     "execution_count": 3,
     "metadata": {},
     "output_type": "execute_result"
    }
   ],
   "source": [
    "7 / 3"
   ]
  },
  {
   "cell_type": "markdown",
   "metadata": {
    "id": "-8qlnxoFwKa8"
   },
   "source": [
    "However, sometimes it can be useful to do a proper truncating divisions. In these cases you can use the `//` operator:"
   ]
  },
  {
   "cell_type": "code",
   "execution_count": 4,
   "metadata": {
    "colab": {
     "base_uri": "https://localhost:8080/"
    },
    "id": "jmGQ8DfywKa-",
    "outputId": "2b340de7-9cc4-436e-b782-2ee0a8881891"
   },
   "outputs": [
    {
     "data": {
      "text/plain": [
       "2"
      ]
     },
     "execution_count": 4,
     "metadata": {},
     "output_type": "execute_result"
    }
   ],
   "source": [
    "7 // 3"
   ]
  },
  {
   "cell_type": "markdown",
   "metadata": {
    "id": "ypmwOWdowKa_"
   },
   "source": [
    "Python libraries are called modules, and can be imported with an `import` statement. As an example, consider the `math` module, which is a standard module containing many useful mathematical functions and constants. We can either import the whole module or just the thing(s) we need:"
   ]
  },
  {
   "cell_type": "code",
   "execution_count": 5,
   "metadata": {
    "colab": {
     "base_uri": "https://localhost:8080/"
    },
    "id": "MYcTb9g5wKa_",
    "outputId": "86226941-9d57-4b1b-e5d8-b93dac7056d4"
   },
   "outputs": [
    {
     "data": {
      "text/plain": [
       "9.0"
      ]
     },
     "execution_count": 5,
     "metadata": {},
     "output_type": "execute_result"
    }
   ],
   "source": [
    "import math\n",
    "math.sqrt(81)"
   ]
  },
  {
   "cell_type": "code",
   "execution_count": 6,
   "metadata": {
    "id": "WCkbDgiUw36D"
   },
   "outputs": [
    {
     "data": {
      "text/plain": [
       "9.0"
      ]
     },
     "execution_count": 6,
     "metadata": {},
     "output_type": "execute_result"
    }
   ],
   "source": [
    "from math import sqrt\n",
    "sqrt(81)"
   ]
  },
  {
   "cell_type": "markdown",
   "metadata": {
    "id": "ZZoJmjrSwKbA"
   },
   "source": [
    "You can define variables using the equals (=) sign:"
   ]
  },
  {
   "cell_type": "code",
   "execution_count": 7,
   "metadata": {
    "colab": {
     "base_uri": "https://localhost:8080/"
    },
    "id": "wyreIvmnwKbA",
    "outputId": "97aa0165-ca55-4da3-c1d4-6846d516197f"
   },
   "outputs": [
    {
     "data": {
      "text/plain": [
       "600"
      ]
     },
     "execution_count": 7,
     "metadata": {},
     "output_type": "execute_result"
    }
   ],
   "source": [
    "width = 20\n",
    "length = 30\n",
    "area = length * width\n",
    "area"
   ]
  },
  {
   "cell_type": "markdown",
   "metadata": {
    "id": "8fPUxHyBwKbA"
   },
   "source": [
    "If you try to access a variable that you haven't yet defined, you get an error:"
   ]
  },
  {
   "cell_type": "code",
   "execution_count": 8,
   "metadata": {
    "colab": {
     "base_uri": "https://localhost:8080/",
     "height": 141
    },
    "id": "_czsJCl7wKbA",
    "outputId": "83d6b8e9-d22d-4465-b2b9-8729cf4d351c"
   },
   "outputs": [
    {
     "ename": "NameError",
     "evalue": "name 'volume' is not defined",
     "output_type": "error",
     "traceback": [
      "\u001b[0;31m---------------------------------------------------------------------------\u001b[0m",
      "\u001b[0;31mNameError\u001b[0m                                 Traceback (most recent call last)",
      "Cell \u001b[0;32mIn[8], line 1\u001b[0m\n\u001b[0;32m----> 1\u001b[0m volume\n",
      "\u001b[0;31mNameError\u001b[0m: name 'volume' is not defined"
     ]
    }
   ],
   "source": [
    "volume"
   ]
  },
  {
   "cell_type": "markdown",
   "metadata": {
    "id": "rXOMLdcJwKbB"
   },
   "source": [
    "You can name a variable *almost* anything you want. It needs to start with an alphabetical character or \"\\_\", can contain alphanumeric characters plus underscores (\"\\_\"). Certain words, however, are reserved for the language:\n",
    "\n",
    "    and, as, assert, break, class, continue, def, del, elif, else, except,\n",
    "    exec, finally, for, from, global, if, import, in, is, lambda, not, or,\n",
    "    pass, print, raise, return, try, while, with, yield\n",
    "\n",
    "Trying to define a variable using one of these will result in a syntax error:"
   ]
  },
  {
   "cell_type": "code",
   "execution_count": 9,
   "metadata": {
    "colab": {
     "base_uri": "https://localhost:8080/",
     "height": 106
    },
    "id": "0TjSdBShwKbB",
    "outputId": "bfd99dbf-c680-4e81-c2c1-74f71cdc9578"
   },
   "outputs": [
    {
     "ename": "SyntaxError",
     "evalue": "invalid syntax (3966660672.py, line 1)",
     "output_type": "error",
     "traceback": [
      "\u001b[0;36m  Cell \u001b[0;32mIn[9], line 1\u001b[0;36m\u001b[0m\n\u001b[0;31m    return = 0\u001b[0m\n\u001b[0m           ^\u001b[0m\n\u001b[0;31mSyntaxError\u001b[0m\u001b[0;31m:\u001b[0m invalid syntax\n"
     ]
    }
   ],
   "source": [
    "return = 0"
   ]
  },
  {
   "cell_type": "markdown",
   "metadata": {
    "id": "1IlQMFIgwKbB"
   },
   "source": [
    "The [Python Tutorial](https://docs.python.org/3/tutorial/index.html) has more on using Python as an interactive shell."
   ]
  },
  {
   "cell_type": "markdown",
   "metadata": {
    "id": "OJbpiCMrwKbB"
   },
   "source": [
    "## Strings\n",
    "Strings are lists of printable characters, and can be defined using either single quotes"
   ]
  },
  {
   "cell_type": "code",
   "execution_count": 10,
   "metadata": {
    "colab": {
     "base_uri": "https://localhost:8080/",
     "height": 35
    },
    "id": "fy_DOi5mwKbB",
    "outputId": "a646feea-dbd3-49c3-cbd6-82338019caff"
   },
   "outputs": [
    {
     "data": {
      "text/plain": [
       "'Hello, World!'"
      ]
     },
     "execution_count": 10,
     "metadata": {},
     "output_type": "execute_result"
    }
   ],
   "source": [
    "'Hello, World!'"
   ]
  },
  {
   "cell_type": "markdown",
   "metadata": {
    "id": "XXvkGBExwKbB"
   },
   "source": [
    "or double quotes"
   ]
  },
  {
   "cell_type": "code",
   "execution_count": 11,
   "metadata": {
    "colab": {
     "base_uri": "https://localhost:8080/",
     "height": 35
    },
    "id": "yPw1Cpa7wKbB",
    "outputId": "be15e918-3fba-4ba1-e0cd-985814f07c62"
   },
   "outputs": [
    {
     "data": {
      "text/plain": [
       "'Hello, World!'"
      ]
     },
     "execution_count": 11,
     "metadata": {},
     "output_type": "execute_result"
    }
   ],
   "source": [
    "\"Hello, World!\""
   ]
  },
  {
   "cell_type": "markdown",
   "metadata": {
    "id": "3tNngZoIwKbC"
   },
   "source": [
    "But not both at the same time, unless you want one of the symbols to be part of the string."
   ]
  },
  {
   "cell_type": "code",
   "execution_count": 12,
   "metadata": {
    "colab": {
     "base_uri": "https://localhost:8080/",
     "height": 35
    },
    "id": "9BVfaVU2wKbC",
    "outputId": "a1ab21c2-2f09-496f-bade-bcfe7b7ee365"
   },
   "outputs": [
    {
     "data": {
      "text/plain": [
       "\"He's a Rebel\""
      ]
     },
     "execution_count": 12,
     "metadata": {},
     "output_type": "execute_result"
    }
   ],
   "source": [
    "\"He's a Rebel\""
   ]
  },
  {
   "cell_type": "code",
   "execution_count": 13,
   "metadata": {
    "colab": {
     "base_uri": "https://localhost:8080/",
     "height": 35
    },
    "id": "0HwL4NRZwKbC",
    "outputId": "5c449e52-fef5-4893-a442-995cb1ac1722"
   },
   "outputs": [
    {
     "data": {
      "text/plain": [
       "'She asked, \"How are you today?\"'"
      ]
     },
     "execution_count": 13,
     "metadata": {},
     "output_type": "execute_result"
    }
   ],
   "source": [
    "'She asked, \"How are you today?\"'"
   ]
  },
  {
   "cell_type": "markdown",
   "metadata": {
    "id": "0G0P9s4YwKbC"
   },
   "source": [
    "Just like the other two data objects we're familiar with (integer and floating numbers), you can assign a string to a variable"
   ]
  },
  {
   "cell_type": "code",
   "execution_count": 14,
   "metadata": {
    "id": "4Wi1X2IEwKbC"
   },
   "outputs": [],
   "source": [
    "greeting = \"Hello, World!\""
   ]
  },
  {
   "cell_type": "markdown",
   "metadata": {
    "id": "DG5l_E4cwKbC"
   },
   "source": [
    "The **print** statement is often used for printing character strings:"
   ]
  },
  {
   "cell_type": "code",
   "execution_count": 15,
   "metadata": {
    "colab": {
     "base_uri": "https://localhost:8080/"
    },
    "id": "2xjnX_dowKbC",
    "outputId": "e23b9960-f8af-42ef-ef5e-b41bec36bc08"
   },
   "outputs": [
    {
     "name": "stdout",
     "output_type": "stream",
     "text": [
      "Hello, World!\n"
     ]
    }
   ],
   "source": [
    "print(greeting)"
   ]
  },
  {
   "cell_type": "markdown",
   "metadata": {
    "id": "QJZZchsuwKbD"
   },
   "source": [
    "The `print` function can also print data types other than strings:"
   ]
  },
  {
   "cell_type": "code",
   "execution_count": 16,
   "metadata": {
    "colab": {
     "base_uri": "https://localhost:8080/"
    },
    "id": "PkQFanxBwKbD",
    "outputId": "883412d7-61bd-4bc1-fc85-bf3ba410e225"
   },
   "outputs": [
    {
     "name": "stdout",
     "output_type": "stream",
     "text": [
      "The area is 600\n"
     ]
    }
   ],
   "source": [
    "print(\"The area is\", area)"
   ]
  },
  {
   "cell_type": "markdown",
   "metadata": {
    "id": "x-zMR57uwKbD"
   },
   "source": [
    "In the above snippet, the number 600 (stored in the variable \"area\") is converted into a string before being printed out. Note that from Python 3.6, it is also possible to use f-strings, which are a convenient way to print variables:"
   ]
  },
  {
   "cell_type": "code",
   "execution_count": 17,
   "metadata": {},
   "outputs": [
    {
     "name": "stdout",
     "output_type": "stream",
     "text": [
      "The area is 600\n"
     ]
    }
   ],
   "source": [
    "print(f\"The area is {area}\")"
   ]
  },
  {
   "cell_type": "markdown",
   "metadata": {},
   "source": [
    "This syntax can be used to finely control the output:"
   ]
  },
  {
   "cell_type": "code",
   "execution_count": 18,
   "metadata": {},
   "outputs": [
    {
     "name": "stdout",
     "output_type": "stream",
     "text": [
      "The area is 600.00\n"
     ]
    }
   ],
   "source": [
    "print(f\"The area is {area:.2f}\")"
   ]
  },
  {
   "cell_type": "markdown",
   "metadata": {
    "id": "7-H19U_jwKbE"
   },
   "source": [
    "You can use the + operator to concatenate strings together:"
   ]
  },
  {
   "cell_type": "code",
   "execution_count": 19,
   "metadata": {
    "colab": {
     "base_uri": "https://localhost:8080/"
    },
    "id": "MmX4weoGwKbE",
    "outputId": "80a3c3f4-aa18-4833-bd5b-0eb37d8c427f"
   },
   "outputs": [
    {
     "name": "stdout",
     "output_type": "stream",
     "text": [
      "Hello,World!\n"
     ]
    }
   ],
   "source": [
    "statement = \"Hello,\" + \"World!\"\n",
    "print(statement)"
   ]
  },
  {
   "cell_type": "markdown",
   "metadata": {
    "id": "j7CAWXqFwKbE"
   },
   "source": [
    "Don't forget the space between the strings, if you want one there."
   ]
  },
  {
   "cell_type": "code",
   "execution_count": 20,
   "metadata": {
    "colab": {
     "base_uri": "https://localhost:8080/"
    },
    "id": "oOXGJEC9wKbE",
    "outputId": "6467651e-e2d7-449d-bca2-fd99f9c091e3"
   },
   "outputs": [
    {
     "name": "stdout",
     "output_type": "stream",
     "text": [
      "Hello, World!\n"
     ]
    }
   ],
   "source": [
    "statement = \"Hello, \" + \"World!\"\n",
    "print(statement)"
   ]
  },
  {
   "cell_type": "markdown",
   "metadata": {
    "id": "jaTn_Y9nwKbE"
   },
   "source": [
    "You can use + to concatenate multiple strings in a single statement:"
   ]
  },
  {
   "cell_type": "code",
   "execution_count": 21,
   "metadata": {
    "colab": {
     "base_uri": "https://localhost:8080/"
    },
    "id": "RWiFttaGwKbE",
    "outputId": "1f23c122-4d02-4e3c-a99b-6c91a4219da9"
   },
   "outputs": [
    {
     "name": "stdout",
     "output_type": "stream",
     "text": [
      "This is a longer statement.\n"
     ]
    }
   ],
   "source": [
    "print(\"This \" + \"is \" + \"a \" + \"longer \" + \"statement.\")"
   ]
  },
  {
   "cell_type": "markdown",
   "metadata": {
    "id": "U23__LiByOtv"
   },
   "source": [
    "or use commas:"
   ]
  },
  {
   "cell_type": "code",
   "execution_count": 22,
   "metadata": {
    "colab": {
     "base_uri": "https://localhost:8080/"
    },
    "id": "5ttunevRyRfZ",
    "outputId": "f68ac2d5-c2ee-49b3-92bf-f7928b857ff0"
   },
   "outputs": [
    {
     "name": "stdout",
     "output_type": "stream",
     "text": [
      "This is a longer statement.\n"
     ]
    }
   ],
   "source": [
    "print(\"This\", \"is\", \"a\", \"longer\", \"statement.\")"
   ]
  },
  {
   "cell_type": "markdown",
   "metadata": {
    "id": "dSiSQKcxwKbE"
   },
   "source": [
    "If you have a lot of words to concatenate together, there are other, more efficient ways to do this. But this is fine for linking a few strings together."
   ]
  },
  {
   "cell_type": "markdown",
   "metadata": {
    "id": "6I9sV9k1wKbF"
   },
   "source": [
    "## Lists\n",
    "Very often in a programming language, one wants to keep a group of similar items together. Python does this using a data type called **lists**."
   ]
  },
  {
   "cell_type": "code",
   "execution_count": 23,
   "metadata": {
    "id": "2CRS5y6vwKbF"
   },
   "outputs": [],
   "source": [
    "days_of_the_week = [\"Sunday\", \"Monday\", \"Tuesday\", \"Wednesday\", \"Thursday\", \"Friday\", \"Saturday\"]"
   ]
  },
  {
   "cell_type": "markdown",
   "metadata": {
    "id": "2-mSvndYwKbF"
   },
   "source": [
    "You can access members of the list using the **index** of that item:"
   ]
  },
  {
   "cell_type": "code",
   "execution_count": 24,
   "metadata": {
    "colab": {
     "base_uri": "https://localhost:8080/",
     "height": 35
    },
    "id": "nsyvuogDwKbF",
    "outputId": "a2332f95-8bdf-48cb-da19-4b43351bd2a2"
   },
   "outputs": [
    {
     "data": {
      "text/plain": [
       "'Tuesday'"
      ]
     },
     "execution_count": 24,
     "metadata": {},
     "output_type": "execute_result"
    }
   ],
   "source": [
    "days_of_the_week[2]"
   ]
  },
  {
   "cell_type": "markdown",
   "metadata": {
    "id": "l32rt3mmwKbG"
   },
   "source": [
    "As in C, the index of the first element of a list is 0. Thus, in this example, the 0 element is \"Sunday\", 1 is \"Monday\", and so on.\n",
    "\n",
    "Differently from C, If you need to access the *n*-th element from the end of the list, you can use a negative index. For example, the -1 element of a list is the last element:"
   ]
  },
  {
   "cell_type": "code",
   "execution_count": 25,
   "metadata": {
    "colab": {
     "base_uri": "https://localhost:8080/",
     "height": 35
    },
    "id": "Ktjmcu4PwKbG",
    "outputId": "a333102b-8cb0-4acb-bfe1-ba93dd4c62f0"
   },
   "outputs": [
    {
     "data": {
      "text/plain": [
       "'Saturday'"
      ]
     },
     "execution_count": 25,
     "metadata": {},
     "output_type": "execute_result"
    }
   ],
   "source": [
    "days_of_the_week[-1]"
   ]
  },
  {
   "cell_type": "markdown",
   "metadata": {
    "id": "wuR0qOxywKbG"
   },
   "source": [
    "You can add additional items to the list using the `.append()` method:"
   ]
  },
  {
   "cell_type": "code",
   "execution_count": 26,
   "metadata": {
    "colab": {
     "base_uri": "https://localhost:8080/"
    },
    "id": "70UKMQnkwKbG",
    "outputId": "0f1eef64-b9ea-4fa2-c55d-2eed1f6e7f64"
   },
   "outputs": [
    {
     "name": "stdout",
     "output_type": "stream",
     "text": [
      "['Fortran', 'C', 'C++', 'Python']\n"
     ]
    }
   ],
   "source": [
    "languages = [\"Fortran\", \"C\", \"C++\"]\n",
    "languages.append(\"Python\")\n",
    "print(languages)"
   ]
  },
  {
   "cell_type": "markdown",
   "metadata": {
    "id": "Wmrhvq2KwKbG"
   },
   "source": [
    "The `range()` command is a convenient way to make sequences of numbers:"
   ]
  },
  {
   "cell_type": "code",
   "execution_count": 27,
   "metadata": {
    "colab": {
     "base_uri": "https://localhost:8080/"
    },
    "id": "3zd5i-RxwKbH",
    "outputId": "42678076-d6d1-475d-c876-eff87982f15c"
   },
   "outputs": [
    {
     "data": {
      "text/plain": [
       "range(0, 10)"
      ]
     },
     "execution_count": 27,
     "metadata": {},
     "output_type": "execute_result"
    }
   ],
   "source": [
    "range(10)"
   ]
  },
  {
   "cell_type": "markdown",
   "metadata": {
    "id": "7Ajp358gHCp1"
   },
   "source": [
    "To see the items in the range, you can make a list of it."
   ]
  },
  {
   "cell_type": "code",
   "execution_count": 28,
   "metadata": {
    "colab": {
     "base_uri": "https://localhost:8080/"
    },
    "id": "gBjssBaWHMOD",
    "outputId": "31c1fa44-f345-4672-8932-10267dd3ccb9"
   },
   "outputs": [
    {
     "data": {
      "text/plain": [
       "[0, 1, 2, 3, 4, 5, 6, 7, 8, 9]"
      ]
     },
     "execution_count": 28,
     "metadata": {},
     "output_type": "execute_result"
    }
   ],
   "source": [
    "list(range(10))"
   ]
  },
  {
   "cell_type": "markdown",
   "metadata": {
    "id": "faukd7-ywKbH"
   },
   "source": [
    "Note that `range(n)` starts at 0 and gives the sequential list of integers less than n. If you want to start at a different number, use `range(start, stop)`"
   ]
  },
  {
   "cell_type": "code",
   "execution_count": 29,
   "metadata": {
    "colab": {
     "base_uri": "https://localhost:8080/"
    },
    "id": "zvIPq-WewKbH",
    "outputId": "be8cdc08-f4c8-4adb-ee4d-20aa57c40bde"
   },
   "outputs": [
    {
     "data": {
      "text/plain": [
       "[2, 3, 4, 5, 6, 7]"
      ]
     },
     "execution_count": 29,
     "metadata": {},
     "output_type": "execute_result"
    }
   ],
   "source": [
    "list(range(2,8))"
   ]
  },
  {
   "cell_type": "markdown",
   "metadata": {
    "id": "BB1nmUNlwKbH"
   },
   "source": [
    "The lists created above with range have a *step* of 1 between elements. You can also give a fixed step size via a third command:"
   ]
  },
  {
   "cell_type": "code",
   "execution_count": 33,
   "metadata": {
    "colab": {
     "base_uri": "https://localhost:8080/"
    },
    "id": "6JBxyXIAwKbH",
    "outputId": "9c23091c-6f25-4ba3-96b4-2a1ff4c7fc13"
   },
   "outputs": [
    {
     "data": {
      "text/plain": [
       "[0, 2, 4, 6, 8, 10, 12, 14, 16, 18]"
      ]
     },
     "execution_count": 33,
     "metadata": {},
     "output_type": "execute_result"
    }
   ],
   "source": [
    "evens = range(0, 20, 2)\n",
    "list(evens)"
   ]
  },
  {
   "cell_type": "code",
   "execution_count": 34,
   "metadata": {
    "colab": {
     "base_uri": "https://localhost:8080/"
    },
    "id": "P0MIwLa-wKbH",
    "outputId": "1e4dd9ae-0c5f-48a3-8ba1-ae140a428108"
   },
   "outputs": [
    {
     "data": {
      "text/plain": [
       "6"
      ]
     },
     "execution_count": 34,
     "metadata": {},
     "output_type": "execute_result"
    }
   ],
   "source": [
    "evens[3]"
   ]
  },
  {
   "cell_type": "markdown",
   "metadata": {
    "id": "mdGblmfUwKbI"
   },
   "source": [
    "Lists do not have to hold the same data type. For example,"
   ]
  },
  {
   "cell_type": "code",
   "execution_count": 35,
   "metadata": {
    "colab": {
     "base_uri": "https://localhost:8080/"
    },
    "id": "Wfoq9nJLwKbI",
    "outputId": "7877b533-e55c-45dc-a46c-8c831625d35b"
   },
   "outputs": [
    {
     "data": {
      "text/plain": [
       "['Today', 7, 99.3, '']"
      ]
     },
     "execution_count": 35,
     "metadata": {},
     "output_type": "execute_result"
    }
   ],
   "source": [
    "[\"Today\", 7, 99.3, \"\"]"
   ]
  },
  {
   "cell_type": "markdown",
   "metadata": {
    "id": "ep-1ARIKwKbI"
   },
   "source": [
    "You can find out how long a list is using the `len()` command:"
   ]
  },
  {
   "cell_type": "code",
   "execution_count": 36,
   "metadata": {
    "colab": {
     "base_uri": "https://localhost:8080/"
    },
    "id": "Z6DHDrH0wKbI",
    "outputId": "503685cd-ea3a-49d4-cf1b-489073a43877"
   },
   "outputs": [
    {
     "data": {
      "text/plain": [
       "10"
      ]
     },
     "execution_count": 36,
     "metadata": {},
     "output_type": "execute_result"
    }
   ],
   "source": [
    "len(evens)"
   ]
  },
  {
   "cell_type": "markdown",
   "metadata": {
    "id": "y12vDUiOwKbI"
   },
   "source": [
    "## Iteration, Indentation, and Blocks\n",
    "One of the most useful things you can do with lists is to *iterate* through them, *i.e.* to go through each element one at a time. To do this in Python, we use the `for` statement:"
   ]
  },
  {
   "cell_type": "code",
   "execution_count": 37,
   "metadata": {
    "colab": {
     "base_uri": "https://localhost:8080/"
    },
    "id": "02gFR5E8wKbJ",
    "outputId": "14e4bda4-80a2-41c5-9fd8-e359d6324069"
   },
   "outputs": [
    {
     "name": "stdout",
     "output_type": "stream",
     "text": [
      "Sunday\n",
      "Monday\n",
      "Tuesday\n",
      "Wednesday\n",
      "Thursday\n",
      "Friday\n",
      "Saturday\n"
     ]
    }
   ],
   "source": [
    "for day in days_of_the_week:\n",
    "    print(day)"
   ]
  },
  {
   "cell_type": "markdown",
   "metadata": {
    "id": "F8wAYBJGwKbJ"
   },
   "source": [
    "(Almost) every programming language defines blocks of code in some way. In C, one uses curly braces `{}` to define these blocks.\n",
    "\n",
    "Python uses a colon, `:`, followed by indentation level to define code blocks. A block is made by consecutive lines that have the same indentation level. In the above example the block was only a single line, but we could have had longer blocks as well:"
   ]
  },
  {
   "cell_type": "code",
   "execution_count": 38,
   "metadata": {
    "colab": {
     "base_uri": "https://localhost:8080/"
    },
    "id": "3Z01hYcYwKbJ",
    "outputId": "0c211679-b295-452e-fda7-f05c6ff8c55d"
   },
   "outputs": [
    {
     "name": "stdout",
     "output_type": "stream",
     "text": [
      "Today is Sunday\n",
      "Today is Monday\n",
      "Today is Tuesday\n",
      "Today is Wednesday\n",
      "Today is Thursday\n",
      "Today is Friday\n",
      "Today is Saturday\n"
     ]
    }
   ],
   "source": [
    "for day in days_of_the_week:\n",
    "    statement = \"Today is \" + day\n",
    "    print(statement)"
   ]
  },
  {
   "cell_type": "markdown",
   "metadata": {
    "id": "4gOWp5bQwKbJ"
   },
   "source": [
    "The **range()** command is particularly useful with the **for** statement to execute loops of a specified length:"
   ]
  },
  {
   "cell_type": "code",
   "execution_count": 39,
   "metadata": {
    "colab": {
     "base_uri": "https://localhost:8080/"
    },
    "id": "pswlgMZVwKbJ",
    "outputId": "0a008010-9800-4d31-f36d-1c667c4f72c3"
   },
   "outputs": [
    {
     "name": "stdout",
     "output_type": "stream",
     "text": [
      "The square of  0  is  0\n",
      "The square of  1  is  1\n",
      "The square of  2  is  4\n",
      "The square of  3  is  9\n",
      "The square of  4  is  16\n",
      "The square of  5  is  25\n",
      "The square of  6  is  36\n",
      "The square of  7  is  49\n",
      "The square of  8  is  64\n",
      "The square of  9  is  81\n",
      "The square of  10  is  100\n",
      "The square of  11  is  121\n",
      "The square of  12  is  144\n",
      "The square of  13  is  169\n",
      "The square of  14  is  196\n",
      "The square of  15  is  225\n",
      "The square of  16  is  256\n",
      "The square of  17  is  289\n",
      "The square of  18  is  324\n",
      "The square of  19  is  361\n"
     ]
    }
   ],
   "source": [
    "for i in range(20):\n",
    "    print(\"The square of \", i, \" is \", i * i)"
   ]
  },
  {
   "cell_type": "markdown",
   "metadata": {
    "id": "m2_Ocw_pwKbK"
   },
   "source": [
    "## Slicing\n",
    "\n",
    "Strings are sequences of things, just like lists. Therefore, as with lists, you can iterate through the letters in a string:"
   ]
  },
  {
   "cell_type": "code",
   "execution_count": 40,
   "metadata": {
    "colab": {
     "base_uri": "https://localhost:8080/"
    },
    "id": "nYV01mXUwKbK",
    "outputId": "b49c1916-a75d-48a9-b6ab-60ae21420910"
   },
   "outputs": [
    {
     "name": "stdout",
     "output_type": "stream",
     "text": [
      "S\n",
      "u\n",
      "n\n",
      "d\n",
      "a\n",
      "y\n"
     ]
    }
   ],
   "source": [
    "for letter in \"Sunday\":\n",
    "    print(letter)"
   ]
  },
  {
   "cell_type": "markdown",
   "metadata": {
    "id": "x9y8XrK_wKbL"
   },
   "source": [
    "This is only occasionally useful. Slightly more useful is the *slicing* operation, which you can also use on any sequence. We already know that we can use *indexing* to get the first element of a list:"
   ]
  },
  {
   "cell_type": "code",
   "execution_count": 41,
   "metadata": {
    "colab": {
     "base_uri": "https://localhost:8080/",
     "height": 35
    },
    "id": "Pl_ER_sGwKbL",
    "outputId": "990a20f0-c34d-42da-e779-fec0a5d396ec"
   },
   "outputs": [
    {
     "data": {
      "text/plain": [
       "'Sunday'"
      ]
     },
     "execution_count": 41,
     "metadata": {},
     "output_type": "execute_result"
    }
   ],
   "source": [
    "days_of_the_week[0]"
   ]
  },
  {
   "cell_type": "markdown",
   "metadata": {
    "id": "UOwnICTowKbL"
   },
   "source": [
    "By extending this notation, we can obtain subsequences. For instance, a sequence containing the first two elements of a list can be generated with"
   ]
  },
  {
   "cell_type": "code",
   "execution_count": 42,
   "metadata": {
    "colab": {
     "base_uri": "https://localhost:8080/"
    },
    "id": "ELj_Kp7PwKbL",
    "outputId": "a6727e11-18be-408e-9d20-c94722075af6"
   },
   "outputs": [
    {
     "data": {
      "text/plain": [
       "['Sunday', 'Monday']"
      ]
     },
     "execution_count": 42,
     "metadata": {},
     "output_type": "execute_result"
    }
   ],
   "source": [
    "days_of_the_week[0:2]"
   ]
  },
  {
   "cell_type": "markdown",
   "metadata": {
    "id": "xjOIXwwFwKbL"
   },
   "source": [
    "or simply"
   ]
  },
  {
   "cell_type": "code",
   "execution_count": 43,
   "metadata": {
    "colab": {
     "base_uri": "https://localhost:8080/"
    },
    "id": "CaR0GiNiwKbM",
    "outputId": "5a5aaf01-c5a5-49c3-e4e9-3a084f122f86"
   },
   "outputs": [
    {
     "data": {
      "text/plain": [
       "['Sunday', 'Monday']"
      ]
     },
     "execution_count": 43,
     "metadata": {},
     "output_type": "execute_result"
    }
   ],
   "source": [
    "days_of_the_week[:2]"
   ]
  },
  {
   "cell_type": "markdown",
   "metadata": {
    "id": "6hmQdIeLwKbM"
   },
   "source": [
    "If we want the last items of the list, we can do this with negative slicing:"
   ]
  },
  {
   "cell_type": "code",
   "execution_count": 44,
   "metadata": {
    "colab": {
     "base_uri": "https://localhost:8080/"
    },
    "id": "pTa5CDFXwKbM",
    "outputId": "81c86d41-7cfa-47fa-e3ce-de0cd2c1b065"
   },
   "outputs": [
    {
     "data": {
      "text/plain": [
       "['Friday', 'Saturday']"
      ]
     },
     "execution_count": 44,
     "metadata": {},
     "output_type": "execute_result"
    }
   ],
   "source": [
    "days_of_the_week[-2:]"
   ]
  },
  {
   "cell_type": "markdown",
   "metadata": {
    "id": "MlYxlEaEwKbM"
   },
   "source": [
    "which is somewhat logically consistent with negative indices accessing the last elements of the list.\n",
    "\n",
    "You can do:"
   ]
  },
  {
   "cell_type": "code",
   "execution_count": 45,
   "metadata": {
    "colab": {
     "base_uri": "https://localhost:8080/"
    },
    "id": "FEN8tqITwKbM",
    "outputId": "abae29c8-797b-44fd-fd46-4097f9e85721"
   },
   "outputs": [
    {
     "data": {
      "text/plain": [
       "['Monday', 'Tuesday', 'Wednesday', 'Thursday', 'Friday']"
      ]
     },
     "execution_count": 45,
     "metadata": {},
     "output_type": "execute_result"
    }
   ],
   "source": [
    "workdays = days_of_the_week[1:6]\n",
    "workdays"
   ]
  },
  {
   "cell_type": "markdown",
   "metadata": {
    "id": "irS5ZeQewKbM"
   },
   "source": [
    "The same technique can be applied to strings:"
   ]
  },
  {
   "cell_type": "code",
   "execution_count": 46,
   "metadata": {
    "colab": {
     "base_uri": "https://localhost:8080/",
     "height": 35
    },
    "id": "U-gjD0LgwKbM",
    "outputId": "32658da1-1bdd-4882-8098-675ea157f63e"
   },
   "outputs": [
    {
     "data": {
      "text/plain": [
       "'Mon'"
      ]
     },
     "execution_count": 46,
     "metadata": {},
     "output_type": "execute_result"
    }
   ],
   "source": [
    "day = \"Monday\"\n",
    "abbreviation = day[:3]\n",
    "abbreviation"
   ]
  },
  {
   "cell_type": "markdown",
   "metadata": {
    "id": "Q6J8OBOQwKbN"
   },
   "source": [
    "If we really want to get fancy, we can pass a third element into the slice, which specifies a step length (just like a third argument to the `range()` function specifies the step):"
   ]
  },
  {
   "cell_type": "code",
   "execution_count": 47,
   "metadata": {
    "colab": {
     "base_uri": "https://localhost:8080/"
    },
    "id": "tqJMiBkCwKbN",
    "outputId": "0ca0c259-1851-40ff-9722-cc62547cba11"
   },
   "outputs": [
    {
     "data": {
      "text/plain": [
       "[2, 4, 6, 8, 10, 12, 14, 16, 18, 20, 22, 24, 26, 28, 30, 32, 34, 36, 38]"
      ]
     },
     "execution_count": 47,
     "metadata": {},
     "output_type": "execute_result"
    }
   ],
   "source": [
    "numbers = list(range(0, 40))\n",
    "evens = numbers[2::2]\n",
    "evens"
   ]
  },
  {
   "cell_type": "markdown",
   "metadata": {
    "id": "eUTB_LP6wKbN"
   },
   "source": [
    "Note that in this example the second argument was omitted, so that the slice started at 2, went to the end of the list, and took every second element, to generate the list of even numbers less that 40."
   ]
  },
  {
   "cell_type": "markdown",
   "metadata": {
    "id": "EkVLVUd7wKbN"
   },
   "source": [
    "## Booleans and Truth Testing\n",
    "\n",
    "Contrary to C, Python has builtin *boolean* variables, *i.e.* that can be either `True` or `False`, and can be used with `if` statements:"
   ]
  },
  {
   "cell_type": "code",
   "execution_count": 48,
   "metadata": {
    "colab": {
     "base_uri": "https://localhost:8080/"
    },
    "id": "t_7uxw8swKbN",
    "outputId": "7d9698eb-22d9-4e8f-f96c-293a0a0fddce"
   },
   "outputs": [
    {
     "name": "stdout",
     "output_type": "stream",
     "text": [
      "Go to work\n"
     ]
    }
   ],
   "source": [
    "if day == \"Sunday\":\n",
    "    print(\"Sleep in\")\n",
    "else:\n",
    "    print(\"Go to work\")"
   ]
  },
  {
   "cell_type": "markdown",
   "metadata": {
    "id": "rH1dLHMTwKbN"
   },
   "source": [
    "(note that the `day` variable was set in a previous cell). In Python, conditional expressions are also booleans. For instance:"
   ]
  },
  {
   "cell_type": "code",
   "execution_count": 49,
   "metadata": {
    "colab": {
     "base_uri": "https://localhost:8080/"
    },
    "id": "P0q3J3HTwKbN",
    "outputId": "8668c0a6-ea5f-4150-8e80-974e4d3b390b"
   },
   "outputs": [
    {
     "data": {
      "text/plain": [
       "False"
      ]
     },
     "execution_count": 49,
     "metadata": {},
     "output_type": "execute_result"
    }
   ],
   "source": [
    "day == \"Sunday\""
   ]
  },
  {
   "cell_type": "markdown",
   "metadata": {
    "id": "ONAPtBtUwKbN"
   },
   "source": [
    "As in C, the `==` operator performs *equality testing*. If the two items are equal, it returns `True`, otherwise it returns `False`. In this case, it is comparing two variables, the string `\"Sunday\"`, and whatever is stored in the variable `day`, which, in this case, is the other string `\"Saturday\"`. Since the two strings are not equal to each other, the truth test has the false value."
   ]
  },
  {
   "cell_type": "markdown",
   "metadata": {
    "id": "jLfGvMynwKbO"
   },
   "source": [
    "The if statement that contains the truth test is followed by a code block (a colon followed by an indented block of code). If the boolean is true, it executes the code in that block. Since it is false in the above example, we don't see that code executed.\n",
    "\n",
    "The first block of code is followed by an `else` statement, which is executed if nothing else in the above `if` statement is true. Since the value was false, this code is executed, which is why we see \"Go to work\".\n",
    "\n",
    "You can compare any data types in Python:"
   ]
  },
  {
   "cell_type": "code",
   "execution_count": 50,
   "metadata": {
    "colab": {
     "base_uri": "https://localhost:8080/"
    },
    "id": "DIY1bUoIwKbO",
    "outputId": "c7d9a842-477f-44d6-da32-f281bfe34a1e"
   },
   "outputs": [
    {
     "data": {
      "text/plain": [
       "False"
      ]
     },
     "execution_count": 50,
     "metadata": {},
     "output_type": "execute_result"
    }
   ],
   "source": [
    "1 == 2"
   ]
  },
  {
   "cell_type": "code",
   "execution_count": 51,
   "metadata": {
    "colab": {
     "base_uri": "https://localhost:8080/"
    },
    "id": "rGWOvrHLwKbO",
    "outputId": "0dc24fbb-e2c5-4a06-eab5-96ab64191f56"
   },
   "outputs": [
    {
     "data": {
      "text/plain": [
       "True"
      ]
     },
     "execution_count": 51,
     "metadata": {},
     "output_type": "execute_result"
    }
   ],
   "source": [
    "50 == 2*25"
   ]
  },
  {
   "cell_type": "code",
   "execution_count": 52,
   "metadata": {
    "colab": {
     "base_uri": "https://localhost:8080/"
    },
    "id": "0QjKSzcmwKbO",
    "outputId": "f0cda94c-a351-4318-a03c-14510e6c59ef"
   },
   "outputs": [
    {
     "data": {
      "text/plain": [
       "True"
      ]
     },
     "execution_count": 52,
     "metadata": {},
     "output_type": "execute_result"
    }
   ],
   "source": [
    "3 < 3.14159"
   ]
  },
  {
   "cell_type": "code",
   "execution_count": 53,
   "metadata": {
    "colab": {
     "base_uri": "https://localhost:8080/"
    },
    "id": "YWy58pxswKbO",
    "outputId": "80f15c54-2e18-4cd6-9283-ccc1b3153193"
   },
   "outputs": [
    {
     "data": {
      "text/plain": [
       "True"
      ]
     },
     "execution_count": 53,
     "metadata": {},
     "output_type": "execute_result"
    }
   ],
   "source": [
    "1 == 1.0"
   ]
  },
  {
   "cell_type": "code",
   "execution_count": 54,
   "metadata": {
    "colab": {
     "base_uri": "https://localhost:8080/"
    },
    "id": "dL4FMfISwKbO",
    "outputId": "cf03deb4-95be-41ed-e44e-897e5542f423"
   },
   "outputs": [
    {
     "data": {
      "text/plain": [
       "True"
      ]
     },
     "execution_count": 54,
     "metadata": {},
     "output_type": "execute_result"
    }
   ],
   "source": [
    "1 != 0"
   ]
  },
  {
   "cell_type": "code",
   "execution_count": 55,
   "metadata": {
    "colab": {
     "base_uri": "https://localhost:8080/"
    },
    "id": "pYrXkMPdwKbP",
    "outputId": "30de91da-e6ec-4e37-fc23-8a9f9362dd8b"
   },
   "outputs": [
    {
     "data": {
      "text/plain": [
       "True"
      ]
     },
     "execution_count": 55,
     "metadata": {},
     "output_type": "execute_result"
    }
   ],
   "source": [
    "1 <= 2"
   ]
  },
  {
   "cell_type": "code",
   "execution_count": 56,
   "metadata": {
    "colab": {
     "base_uri": "https://localhost:8080/"
    },
    "id": "F4FGwvqmwKbP",
    "outputId": "95f7fa6b-0657-4beb-f932-b813d70b8f0b"
   },
   "outputs": [
    {
     "data": {
      "text/plain": [
       "True"
      ]
     },
     "execution_count": 56,
     "metadata": {},
     "output_type": "execute_result"
    }
   ],
   "source": [
    "1 >= 1"
   ]
  },
  {
   "cell_type": "markdown",
   "metadata": {
    "id": "5NVydivmwKbP"
   },
   "source": [
    "We see a few other boolean operators here, all of which which should be self-explanatory. Less than, equality, non-equality, and so on.\n",
    "\n",
    "Particularly interesting is the 1 == 1.0 test, which is true, since even though the two objects are different data types (integer and floating point number), they have the same *value*."
   ]
  },
  {
   "cell_type": "markdown",
   "metadata": {
    "id": "yeE_GJetwKbP"
   },
   "source": [
    "We can do boolean tests on lists as well, although the behaviour is somehow counterintuitive: for equality, it works as you would expect, and the comparison is carried out element-wise:"
   ]
  },
  {
   "cell_type": "code",
   "execution_count": 57,
   "metadata": {
    "colab": {
     "base_uri": "https://localhost:8080/"
    },
    "id": "YacIYivKwKbP",
    "outputId": "bf39091c-2753-4a79-9979-aa27915ea107",
    "scrolled": true
   },
   "outputs": [
    {
     "data": {
      "text/plain": [
       "False"
      ]
     },
     "execution_count": 57,
     "metadata": {},
     "output_type": "execute_result"
    }
   ],
   "source": [
    "[1, 2, 3] == [1, 2, 4]"
   ]
  },
  {
   "cell_type": "markdown",
   "metadata": {},
   "source": [
    "For inequalities, the comparison is still done element-wise, although the comparison result is determined by the comparison of the first unequal elements. Any other subsequent element does not affect the result."
   ]
  },
  {
   "cell_type": "code",
   "execution_count": 58,
   "metadata": {
    "colab": {
     "base_uri": "https://localhost:8080/"
    },
    "id": "20cXjW3TwKbP",
    "outputId": "f8d29bd4-5b3d-41ee-83d4-e5e0ccd124d9"
   },
   "outputs": [
    {
     "data": {
      "text/plain": [
       "True"
      ]
     },
     "execution_count": 58,
     "metadata": {},
     "output_type": "execute_result"
    }
   ],
   "source": [
    "[1, 2, 3, 10] < [1, 2, 4, 3]"
   ]
  },
  {
   "cell_type": "markdown",
   "metadata": {
    "id": "-nduXjl0wKbQ"
   },
   "source": [
    "Finally, note that you can also string multiple comparisons together, which can result in very intuitive tests:"
   ]
  },
  {
   "cell_type": "code",
   "execution_count": 59,
   "metadata": {
    "colab": {
     "base_uri": "https://localhost:8080/"
    },
    "id": "ugN0nVogwKbQ",
    "outputId": "3cb96588-6869-45dd-82b3-89d24970e475"
   },
   "outputs": [
    {
     "data": {
      "text/plain": [
       "True"
      ]
     },
     "execution_count": 59,
     "metadata": {},
     "output_type": "execute_result"
    }
   ],
   "source": [
    "hours = 5\n",
    "0 < hours < 24"
   ]
  },
  {
   "cell_type": "markdown",
   "metadata": {
    "id": "CwGlQ2ahwKbQ"
   },
   "source": [
    "If statements can have `elif` parts (which is a contraction of \"else if\"), in addition to `if`/`else` blocks. For example:"
   ]
  },
  {
   "cell_type": "code",
   "execution_count": 60,
   "metadata": {
    "colab": {
     "base_uri": "https://localhost:8080/"
    },
    "id": "BSMi3sbXwKbQ",
    "outputId": "c6547891-4459-4437-acde-810a20776c60"
   },
   "outputs": [
    {
     "name": "stdout",
     "output_type": "stream",
     "text": [
      "Go to work\n"
     ]
    }
   ],
   "source": [
    "if day == \"Sunday\":\n",
    "    print( \"Sleep in\")\n",
    "elif day == \"Saturday\":\n",
    "    print( \"Do chores\")\n",
    "else:\n",
    "    print( \"Go to work\")"
   ]
  },
  {
   "cell_type": "markdown",
   "metadata": {
    "id": "aOWyFPrrwKbQ"
   },
   "source": [
    "Note that ordinary data types have boolean values associated with them. Indeed, casting anything that has a 0 value (the integer or floating point 0, an empty string `\"\"`, or an empty list `[]`) to a boolean will return False:"
   ]
  },
  {
   "cell_type": "code",
   "execution_count": 61,
   "metadata": {
    "colab": {
     "base_uri": "https://localhost:8080/"
    },
    "id": "UNx-FVdEwKbQ",
    "outputId": "701f5db3-4d7a-4731-cfa6-08c91603695f"
   },
   "outputs": [
    {
     "data": {
      "text/plain": [
       "True"
      ]
     },
     "execution_count": 61,
     "metadata": {},
     "output_type": "execute_result"
    }
   ],
   "source": [
    "bool(1)"
   ]
  },
  {
   "cell_type": "code",
   "execution_count": 62,
   "metadata": {
    "colab": {
     "base_uri": "https://localhost:8080/"
    },
    "id": "v-zAhmmcwKbR",
    "outputId": "4df6621e-0928-4fe4-aacf-fe427af550fa"
   },
   "outputs": [
    {
     "data": {
      "text/plain": [
       "False"
      ]
     },
     "execution_count": 62,
     "metadata": {},
     "output_type": "execute_result"
    }
   ],
   "source": [
    "bool(0.0)"
   ]
  },
  {
   "cell_type": "code",
   "execution_count": 63,
   "metadata": {
    "colab": {
     "base_uri": "https://localhost:8080/"
    },
    "id": "smLt63zHwKbR",
    "outputId": "cf3d1a86-b8aa-4429-df5a-7d139355b95a",
    "scrolled": true
   },
   "outputs": [
    {
     "data": {
      "text/plain": [
       "True"
      ]
     },
     "execution_count": 63,
     "metadata": {},
     "output_type": "execute_result"
    }
   ],
   "source": [
    "bool([\"This \",\" is \",\" a \",\" list\"])"
   ]
  },
  {
   "cell_type": "markdown",
   "metadata": {
    "id": "zU29_5qMwKbR"
   },
   "source": [
    "## Code Example: The Fibonacci Sequence\n",
    "The [Fibonacci sequence](http://en.wikipedia.org/wiki/Fibonacci_number) is a sequence in math that starts with 0 and 1, and then each successive entry is the sum of the previous two. Thus, the sequence goes 0, 1, 1, 2, 3, 5, 8, 13, 21, 34, 55, 89, ...\n",
    "\n",
    "A very common exercise in programming books is to compute the Fibonacci sequence up to some number **n**."
   ]
  },
  {
   "cell_type": "code",
   "execution_count": 64,
   "metadata": {
    "colab": {
     "base_uri": "https://localhost:8080/"
    },
    "id": "969LkN3AwKbR",
    "outputId": "8ee15837-df7b-4627-dd03-a999bd929df4"
   },
   "outputs": [
    {
     "name": "stdout",
     "output_type": "stream",
     "text": [
      "[0, 1, 1, 2, 3, 5, 8, 13, 21, 34]\n"
     ]
    }
   ],
   "source": [
    "n = 10\n",
    "sequence = [0, 1]\n",
    "for i in range(2, n): # loop to generate the sequence\n",
    "    sequence.append(sequence[i - 1] + sequence[i - 2])\n",
    "print(sequence)"
   ]
  },
  {
   "cell_type": "markdown",
   "metadata": {
    "id": "DVb4ToGYwKbR"
   },
   "source": [
    "Note that in Python `#` starts a comment."
   ]
  },
  {
   "cell_type": "markdown",
   "metadata": {
    "id": "3ENeUhjTwKbR"
   },
   "source": [
    "## Functions\n",
    "We might want to use the Fibonacci snippet with different sequence lengths. We could cut and paste the code into another cell, changing the value of `n`, but it's easier and more useful to make a function out of the previous snippet code:"
   ]
  },
  {
   "cell_type": "code",
   "execution_count": 65,
   "metadata": {
    "id": "XkMx2f2CwKbR"
   },
   "outputs": [],
   "source": [
    "def fibonacci(sequence_length):\n",
    "    \"Return the Fibonacci sequence of length *sequence_length*\"\n",
    "    \n",
    "    sequence = [0, 1]\n",
    "    if sequence_length < 1:\n",
    "        print(\"A Fibonacci sequence can be defined only for length 1 or greater\")\n",
    "        return\n",
    "    if 0 < sequence_length < 3:\n",
    "        return sequence[:sequence_length]\n",
    "    for i in range(2,sequence_length):\n",
    "        sequence.append(sequence[i-1]+sequence[i-2])\n",
    "    return sequence"
   ]
  },
  {
   "cell_type": "markdown",
   "metadata": {
    "id": "laAmpFg5wKbS"
   },
   "source": [
    "We can now call `fibonacci()` for different sequence_lengths:"
   ]
  },
  {
   "cell_type": "code",
   "execution_count": 66,
   "metadata": {
    "colab": {
     "base_uri": "https://localhost:8080/"
    },
    "id": "HUTcBEUvwKbS",
    "outputId": "0bf40f5e-b585-4364-eb70-cac996966f37"
   },
   "outputs": [
    {
     "data": {
      "text/plain": [
       "[0, 1]"
      ]
     },
     "execution_count": 66,
     "metadata": {},
     "output_type": "execute_result"
    }
   ],
   "source": [
    "fibonacci(2)"
   ]
  },
  {
   "cell_type": "code",
   "execution_count": 67,
   "metadata": {
    "colab": {
     "base_uri": "https://localhost:8080/"
    },
    "id": "8ZcuET31wKbS",
    "outputId": "c0199276-b063-49ce-f5b5-a1c430fa9263"
   },
   "outputs": [
    {
     "data": {
      "text/plain": [
       "[0, 1, 1, 2, 3, 5, 8, 13, 21, 34, 55, 89]"
      ]
     },
     "execution_count": 67,
     "metadata": {},
     "output_type": "execute_result"
    }
   ],
   "source": [
    "fibonacci(12)"
   ]
  },
  {
   "cell_type": "markdown",
   "metadata": {
    "id": "Nc6wQLeFwKbS"
   },
   "source": [
    "We've introduced a several new features here. First, note that the function itself is defined as a code block (a colon followed by an indented block). This is the standard way that Python delimits things. Next, note that the first line of the function is a single string. This is called a **docstring**, and is a special kind of comment that is often available to people using the function through the python command line:"
   ]
  },
  {
   "cell_type": "code",
   "execution_count": 68,
   "metadata": {
    "colab": {
     "base_uri": "https://localhost:8080/"
    },
    "id": "y6A-_nQSwKbS",
    "outputId": "7df23d70-511a-4992-ced6-4c974b3abc92"
   },
   "outputs": [
    {
     "name": "stdout",
     "output_type": "stream",
     "text": [
      "Help on function fibonacci in module __main__:\n",
      "\n",
      "fibonacci(sequence_length)\n",
      "    Return the Fibonacci sequence of length *sequence_length*\n",
      "\n"
     ]
    }
   ],
   "source": [
    "help(fibonacci)"
   ]
  },
  {
   "cell_type": "markdown",
   "metadata": {
    "id": "qy1qIGFGwKbS"
   },
   "source": [
    "If you define a docstring for all of your functions, it makes it easier for other people to use them, since they can get help on the arguments and return values of the function.\n",
    "\n",
    "Note that I have also added some `if`s to handle corner cases, and possibly issue a warning if the given length is not right."
   ]
  },
  {
   "cell_type": "markdown",
   "metadata": {
    "id": "oTT1jg--wKbS"
   },
   "source": [
    "## Recursion and Factorials\n",
    "Functions can also call themselves, something that is often called *recursion*. We're going to experiment with recursion by computing the factorial function. The factorial is defined for a positive integer **n** as\n",
    "    \n",
    "$$ n! = n(n-1)(n-2)\\cdots 1 $$\n",
    "\n",
    "First, note that we don't need to write a function at all, since this is a function built into the standard math library (`math.factorial`). However, for the sake of this example, we note that\n",
    "\n",
    "$$ n! = n(n-1)!$$\n",
    "\n",
    "and therefore we can define"
   ]
  },
  {
   "cell_type": "code",
   "execution_count": 70,
   "metadata": {
    "id": "5Olc-4SKwKbT"
   },
   "outputs": [],
   "source": [
    "def fact(n):\n",
    "    if n <= 0:\n",
    "        return 1\n",
    "    return n*fact(n-1)"
   ]
  },
  {
   "cell_type": "code",
   "execution_count": 73,
   "metadata": {
    "colab": {
     "base_uri": "https://localhost:8080/"
    },
    "id": "NeSPv90qwKbT",
    "outputId": "1115ccc2-ead7-4321-9a69-a72ff6a6bcd1"
   },
   "outputs": [
    {
     "data": {
      "text/plain": [
       "93326215443944152681699238856266700490715968264381621468592963895217599993229915608941463976156518286253697920827223758251185210916864000000000000000000000000"
      ]
     },
     "execution_count": 73,
     "metadata": {},
     "output_type": "execute_result"
    }
   ],
   "source": [
    "fact(100)"
   ]
  },
  {
   "cell_type": "markdown",
   "metadata": {
    "id": "U77C1wujwKbT"
   },
   "source": [
    "Recursion can be very elegant, and can lead to very simple programs, but can also lead to memory problems if the number of recursive calls is too large. By the way note that, contrary to C, Python has unbounded integers, so that there any integer can be represented. This means, of course, that the memory footprint of an integer depends on its value."
   ]
  },
  {
   "cell_type": "markdown",
   "metadata": {
    "id": "0gJoJkuJwKbT"
   },
   "source": [
    "## Two more data structures\n",
    "\n",
    "There are two more data structures that are very useful (and thus very common) in Python."
   ]
  },
  {
   "cell_type": "markdown",
   "metadata": {},
   "source": [
    "### Tuples\n",
    "\n",
    "A **tuple** is a sequence object like a list or a string. It's constructed by grouping a sequence of objects together with commas, either without brackets, or with parentheses:"
   ]
  },
  {
   "cell_type": "code",
   "execution_count": 76,
   "metadata": {
    "colab": {
     "base_uri": "https://localhost:8080/"
    },
    "id": "I2l4EfSawKbT",
    "outputId": "55b7bad8-c707-487f-8856-96777aa5ea3b"
   },
   "outputs": [
    {
     "data": {
      "text/plain": [
       "(1, 2, 'hi', 9.0)"
      ]
     },
     "execution_count": 76,
     "metadata": {},
     "output_type": "execute_result"
    }
   ],
   "source": [
    "t = (1, 2, 'hi', 9.0)\n",
    "t"
   ]
  },
  {
   "cell_type": "markdown",
   "metadata": {
    "id": "d6fTYgPSwKbU"
   },
   "source": [
    "Tuples are like lists, in that you can access the elements using indices:"
   ]
  },
  {
   "cell_type": "code",
   "execution_count": 77,
   "metadata": {
    "colab": {
     "base_uri": "https://localhost:8080/"
    },
    "id": "TpfBd3zFwKbU",
    "outputId": "0ba891a9-c37e-4dea-c4fa-bb378a578acd"
   },
   "outputs": [
    {
     "data": {
      "text/plain": [
       "2"
      ]
     },
     "execution_count": 77,
     "metadata": {},
     "output_type": "execute_result"
    }
   ],
   "source": [
    "t[1]"
   ]
  },
  {
   "cell_type": "markdown",
   "metadata": {
    "id": "h02eWAbvwKbU"
   },
   "source": [
    "However, tuples are *immutable* objects: elements cannot be added or removed, or even modified:"
   ]
  },
  {
   "cell_type": "code",
   "execution_count": 78,
   "metadata": {
    "colab": {
     "base_uri": "https://localhost:8080/",
     "height": 141
    },
    "id": "08cPCaSowKbU",
    "outputId": "4f675cdc-83fd-4553-a949-3d89b358648d"
   },
   "outputs": [
    {
     "ename": "AttributeError",
     "evalue": "'tuple' object has no attribute 'append'",
     "output_type": "error",
     "traceback": [
      "\u001b[0;31m---------------------------------------------------------------------------\u001b[0m",
      "\u001b[0;31mAttributeError\u001b[0m                            Traceback (most recent call last)",
      "Cell \u001b[0;32mIn[78], line 1\u001b[0m\n\u001b[0;32m----> 1\u001b[0m t\u001b[38;5;241m.\u001b[39mappend(\u001b[38;5;241m7\u001b[39m)\n",
      "\u001b[0;31mAttributeError\u001b[0m: 'tuple' object has no attribute 'append'"
     ]
    }
   ],
   "source": [
    "t.append(7)"
   ]
  },
  {
   "cell_type": "code",
   "execution_count": 79,
   "metadata": {
    "colab": {
     "base_uri": "https://localhost:8080/",
     "height": 141
    },
    "id": "_nDG-oLmwKbU",
    "outputId": "5508c0fe-3b28-4328-84ba-84f4c4a30060"
   },
   "outputs": [
    {
     "ename": "TypeError",
     "evalue": "'tuple' object does not support item assignment",
     "output_type": "error",
     "traceback": [
      "\u001b[0;31m---------------------------------------------------------------------------\u001b[0m",
      "\u001b[0;31mTypeError\u001b[0m                                 Traceback (most recent call last)",
      "Cell \u001b[0;32mIn[79], line 1\u001b[0m\n\u001b[0;32m----> 1\u001b[0m t[\u001b[38;5;241m1\u001b[39m] \u001b[38;5;241m=\u001b[39m \u001b[38;5;241m77\u001b[39m\n",
      "\u001b[0;31mTypeError\u001b[0m: 'tuple' object does not support item assignment"
     ]
    }
   ],
   "source": [
    "t[1] = 77"
   ]
  },
  {
   "cell_type": "markdown",
   "metadata": {
    "id": "xUgPBDU_wKbU"
   },
   "source": [
    "Tuples are useful anytime you want to group different pieces of data together in an object. Note that immutability in many cases is an excellent attribute, since it ensures that the resulting sequence will not be changed ever in the code."
   ]
  },
  {
   "cell_type": "markdown",
   "metadata": {
    "id": "JcUaQrxIwKbV"
   },
   "source": [
    "Tuples can be used when functions return more than one value. Say we wanted to compute the smallest x- and y-coordinates of out of a list. We could write:"
   ]
  },
  {
   "cell_type": "code",
   "execution_count": 80,
   "metadata": {
    "colab": {
     "base_uri": "https://localhost:8080/"
    },
    "id": "LjhVcI3TwKbY",
    "outputId": "670b7e1d-d0cc-443c-c36b-2da834575aa1"
   },
   "outputs": [
    {
     "name": "stdout",
     "output_type": "stream",
     "text": [
      "0.0 1.2\n"
     ]
    }
   ],
   "source": [
    "positions = [\n",
    "             ('Bob', 0.0, 21.0),\n",
    "             ('Cat', 2.5, 13.1),\n",
    "             ('Dog', 33.0, 1.2)\n",
    "             ]\n",
    "\n",
    "def minmax(objects):\n",
    "    minx = 1e20 # These are set to really big numbers\n",
    "    miny = 1e20\n",
    "    for obj in objects:\n",
    "        name, x, y = obj\n",
    "        if x < minx:\n",
    "            minx = x\n",
    "        if y < miny:\n",
    "            miny = y\n",
    "    return minx, miny\n",
    "\n",
    "x, y = minmax(positions)\n",
    "print(x, y)"
   ]
  },
  {
   "cell_type": "markdown",
   "metadata": {
    "id": "V4sqysG7wKbY"
   },
   "source": [
    "Here we did two things with tuples you haven't seen before. First, we unpacked an object into a set of named variables using *tuple assignment*, which is **very** handy:\n",
    "\n",
    "```python\n",
    "name, x, y = obj\n",
    "```\n",
    "\n",
    "We also returned multiple values `(minx, miny)`, which were then assigned to two other variables `(x, y)`, again by tuple assignment. Try writing something like this in C!\n",
    "\n",
    "A rather common use for tuple assignment is to swap variables:"
   ]
  },
  {
   "cell_type": "code",
   "execution_count": 85,
   "metadata": {
    "colab": {
     "base_uri": "https://localhost:8080/"
    },
    "id": "7LMwKzeXwKbY",
    "outputId": "f3a86d54-3d71-485b-8d79-e1b56b1f7e27"
   },
   "outputs": [
    {
     "name": "stdout",
     "output_type": "stream",
     "text": [
      "2 1\n"
     ]
    }
   ],
   "source": [
    "x, y = 1,2\n",
    "y, x = x, y\n",
    "print(x, y)"
   ]
  },
  {
   "cell_type": "markdown",
   "metadata": {
    "id": "sb2MvTv6wKbY"
   },
   "source": [
    "### Dictionaries\n",
    "\n",
    "A **dictionary** is an object that is often called \"map\" or \"associative array\" in other languages. Whereas a list associates an integer index with value, a dictionary associates a key to a value, where the key can be of (almost) any type. Whereas lists are formed with square brackets, `[]`, dictionaries use curly brackets, `{}`:"
   ]
  },
  {
   "cell_type": "code",
   "execution_count": 86,
   "metadata": {
    "colab": {
     "base_uri": "https://localhost:8080/"
    },
    "id": "IFKwub-qwKbZ",
    "outputId": "53cad474-c967-4cd2-9ee6-9050d44c2a67"
   },
   "outputs": [
    {
     "name": "stdout",
     "output_type": "stream",
     "text": [
      "Rick's age is  58\n"
     ]
    }
   ],
   "source": [
    "ages = {\"Rick\": 58, \"Bob\": 86, \"Fred\": 21}\n",
    "print(\"Rick's age is \", ages[\"Rick\"])"
   ]
  },
  {
   "cell_type": "markdown",
   "metadata": {
    "id": "3HfaG-iJwKbZ"
   },
   "source": [
    "There's also a convenient way to create dictionaries without having to quote the keys."
   ]
  },
  {
   "cell_type": "markdown",
   "metadata": {
    "id": "I6e_qRt2wKbZ"
   },
   "source": [
    "Note that the `len()` command works on both tuples and dictionaries:"
   ]
  },
  {
   "cell_type": "code",
   "execution_count": 87,
   "metadata": {
    "colab": {
     "base_uri": "https://localhost:8080/"
    },
    "id": "DpntYJ7VwKbZ",
    "outputId": "e735b0d0-a507-46ee-8814-be9e59db0497"
   },
   "outputs": [
    {
     "data": {
      "text/plain": [
       "3"
      ]
     },
     "execution_count": 87,
     "metadata": {},
     "output_type": "execute_result"
    }
   ],
   "source": [
    "len(t)"
   ]
  },
  {
   "cell_type": "code",
   "execution_count": 88,
   "metadata": {
    "colab": {
     "base_uri": "https://localhost:8080/"
    },
    "id": "nGHU4EQ8wKbZ",
    "outputId": "c5121e07-c35d-462e-c521-e8ee8da919bf"
   },
   "outputs": [
    {
     "data": {
      "text/plain": [
       "3"
      ]
     },
     "execution_count": 88,
     "metadata": {},
     "output_type": "execute_result"
    }
   ],
   "source": [
    "len(ages)"
   ]
  },
  {
   "cell_type": "markdown",
   "metadata": {
    "id": "E6lGcawYwKbZ"
   },
   "source": [
    "## Plotting with Matplotlib\n",
    "\n",
    "We can generally understand trends in data by using a plotting program to chart it. Python has a wonderful plotting library called [Matplotlib](https://matplotlib.org/).\n",
    "\n",
    "As an example, we have looked at two different functions, the Fibonacci function, and the factorial function, both of which grow faster than polynomially. Which one grows the fastest? Let's plot them. First, we generate the Fibonacci sequence of length 20:"
   ]
  },
  {
   "cell_type": "code",
   "execution_count": 89,
   "metadata": {
    "id": "VvZWj_UQwKba"
   },
   "outputs": [],
   "source": [
    "fibs = fibonacci(10)"
   ]
  },
  {
   "cell_type": "markdown",
   "metadata": {
    "id": "gUhR-0GqwKba"
   },
   "source": [
    "Next we generate the corresponding list of factorials:"
   ]
  },
  {
   "cell_type": "code",
   "execution_count": 90,
   "metadata": {
    "id": "0PjHQdnlwKba"
   },
   "outputs": [],
   "source": [
    "facts = []\n",
    "for i in range(10):\n",
    "    facts.append(fact(i))"
   ]
  },
  {
   "cell_type": "markdown",
   "metadata": {
    "id": "BwJkMk9jLMUL"
   },
   "source": [
    "Then we import the library:"
   ]
  },
  {
   "cell_type": "code",
   "execution_count": 92,
   "metadata": {
    "id": "KzS_8nMxLVb8"
   },
   "outputs": [],
   "source": [
    "import matplotlib.pyplot as plt"
   ]
  },
  {
   "cell_type": "markdown",
   "metadata": {
    "id": "3A-JP6krLajU"
   },
   "source": [
    "To make the code work in Jupyter notebooks, you may also have to include the command:"
   ]
  },
  {
   "cell_type": "code",
   "execution_count": 93,
   "metadata": {
    "id": "nRrkL_pZLo7F"
   },
   "outputs": [],
   "source": [
    "%matplotlib inline"
   ]
  },
  {
   "cell_type": "markdown",
   "metadata": {
    "id": "b1xLeBJhwKbb"
   },
   "source": [
    "Now we can plot the two sequences by using matplotlib's `plot` function:"
   ]
  },
  {
   "cell_type": "code",
   "execution_count": 94,
   "metadata": {
    "colab": {
     "base_uri": "https://localhost:8080/",
     "height": 466
    },
    "id": "9-iEvJkQwKbb",
    "outputId": "c15a40ad-d6a2-4632-8274-672f734f1345"
   },
   "outputs": [
    {
     "data": {
      "text/plain": [
       "<matplotlib.legend.Legend at 0x7d5689810790>"
      ]
     },
     "execution_count": 94,
     "metadata": {},
     "output_type": "execute_result"
    },
    {
     "data": {
      "image/png": "[encoded data removed]",
      "text/plain": [
       "<Figure size 640x480 with 1 Axes>"
      ]
     },
     "metadata": {},
     "output_type": "display_data"
    }
   ],
   "source": [
    "plt.plot(facts, label=\"factorial\")\n",
    "plt.plot(fibs, label=\"Fibonacci\")\n",
    "plt.xlabel(\"n\")\n",
    "plt.ylabel(\"Value\")\n",
    "plt.legend()"
   ]
  },
  {
   "cell_type": "markdown",
   "metadata": {
    "id": "OmvKXCUXwKbc"
   },
   "source": [
    "The factorial function grows much faster. In fact, you can't even see the Fibonacci sequence. It's not entirely surprising: a function where we multiply by n each iteration is bound to grow faster than one where we add (roughly) n each iteration.\n",
    "\n",
    "Let's plot these on a semilog plot so we can see them both a little more clearly:"
   ]
  },
  {
   "cell_type": "code",
   "execution_count": 95,
   "metadata": {
    "colab": {
     "base_uri": "https://localhost:8080/",
     "height": 466
    },
    "id": "qkd5P56GwKbc",
    "outputId": "4f9bf71c-2a4f-4f19-e75b-bcb5a02c9152"
   },
   "outputs": [
    {
     "data": {
      "text/plain": [
       "<matplotlib.legend.Legend at 0x7d56a90e3c10>"
      ]
     },
     "execution_count": 95,
     "metadata": {},
     "output_type": "execute_result"
    },
    {
     "data": {
      "image/png": "[encoded data removed]",
      "text/plain": [
       "<Figure size 640x480 with 1 Axes>"
      ]
     },
     "metadata": {},
     "output_type": "display_data"
    }
   ],
   "source": [
    "plt.plot(facts,label=\"factorial\")\n",
    "plt.plot(fibs,label=\"Fibonacci\")\n",
    "plt.yscale(\"log\")\n",
    "plt.xlabel(\"n\")\n",
    "plt.ylabel(\"Value\")\n",
    "plt.legend()"
   ]
  },
  {
   "cell_type": "markdown",
   "metadata": {
    "id": "O3XAKD0xwKbc"
   },
   "source": [
    "You can do many more things with matplotlib. Check the docs for [tutorials](https://matplotlib.org/stable/tutorials/index) and [examples](https://matplotlib.org/stable/gallery/index)."
   ]
  },
  {
   "cell_type": "markdown",
   "metadata": {
    "id": "vMVmAr1KwKbd"
   },
   "source": [
    "# Numpy and Scipy\n",
    "\n",
    "[Numpy](http://numpy.org) contains core routines for doing fast vector, matrix, and linear algebra-type operations in Python. [Scipy](http://scipy.org) contains additional routines for optimization, special functions, and so on. Both contain modules written in C and Fortran to improve the performance."
   ]
  },
  {
   "cell_type": "markdown",
   "metadata": {
    "id": "y3mXeTV9MqRN"
   },
   "source": [
    "First of all, we import numpy with"
   ]
  },
  {
   "cell_type": "code",
   "execution_count": 96,
   "metadata": {
    "id": "nT0FsSGuMq2X"
   },
   "outputs": [],
   "source": [
    "import numpy as np"
   ]
  },
  {
   "cell_type": "markdown",
   "metadata": {
    "id": "KIyPQzahMtNX"
   },
   "source": [
    "\n",
    "## Making vectors and matrices\n",
    "Fundamental to both Numpy and Scipy is the ability to work with vectors, matrices or their generalisations, tensors. You can create arrays from lists using the `np.array()` function:"
   ]
  },
  {
   "cell_type": "code",
   "execution_count": 97,
   "metadata": {
    "colab": {
     "base_uri": "https://localhost:8080/"
    },
    "id": "44998qdPwKbd",
    "outputId": "ec44402b-23b3-414a-c56a-a0432b6c0d19"
   },
   "outputs": [
    {
     "data": {
      "text/plain": [
       "array([1, 2, 3, 4, 5, 6])"
      ]
     },
     "execution_count": 97,
     "metadata": {},
     "output_type": "execute_result"
    }
   ],
   "source": [
    "np.array([1, 2, 3, 4, 5, 6])"
   ]
  },
  {
   "cell_type": "markdown",
   "metadata": {
    "id": "dMwaly8FwKbd"
   },
   "source": [
    "You can optionally pass in a second argument to `np.array` to choose a numeric type. There are a number of types [listed here](http://docs.scipy.org/doc/numpy/user/basics.types.html) that your array can be, comprising integer (`int`, `np.uint8` or `np.int64`, for instance) and floating point (*e.g.* `float`, `np.float32` or `np.complex64`) types."
   ]
  },
  {
   "cell_type": "code",
   "execution_count": 98,
   "metadata": {
    "colab": {
     "base_uri": "https://localhost:8080/"
    },
    "id": "A6qjb7-UwKbd",
    "outputId": "29a0c37e-d42b-4ee6-a429-1f2ae255a194"
   },
   "outputs": [
    {
     "data": {
      "text/plain": [
       "array([1, 2, 3, 4, 5, 6])"
      ]
     },
     "execution_count": 98,
     "metadata": {},
     "output_type": "execute_result"
    }
   ],
   "source": [
    "np.array([1, 2, 3, 4, 5, 6], dtype=np.int64)"
   ]
  },
  {
   "cell_type": "code",
   "execution_count": 99,
   "metadata": {
    "colab": {
     "base_uri": "https://localhost:8080/"
    },
    "id": "hLpN-cbxwKbd",
    "outputId": "5bc8b354-375e-42bd-8f0f-c8701a00bca0"
   },
   "outputs": [
    {
     "data": {
      "text/plain": [
       "array([1.+0.j, 2.+0.j, 3.+0.j, 4.+0.j, 5.+0.j, 6.+0.j])"
      ]
     },
     "execution_count": 99,
     "metadata": {},
     "output_type": "execute_result"
    }
   ],
   "source": [
    "np.array([1, 2, 3, 4, 5, 6], np.complex128)"
   ]
  },
  {
   "cell_type": "markdown",
   "metadata": {
    "id": "4gc3TayQwKbd"
   },
   "source": [
    "To build multidimensional arrays (such as matrices), you can use the array command with lists of lists:"
   ]
  },
  {
   "cell_type": "code",
   "execution_count": 100,
   "metadata": {
    "colab": {
     "base_uri": "https://localhost:8080/"
    },
    "id": "vqhsBgAQwKbe",
    "outputId": "2c6729b1-769d-40c3-bfe0-9a97dc91456f"
   },
   "outputs": [
    {
     "data": {
      "text/plain": [
       "array([[0., 1.],\n",
       "       [1., 0.]])"
      ]
     },
     "execution_count": 100,
     "metadata": {},
     "output_type": "execute_result"
    }
   ],
   "source": [
    "np.array([[0, 1],[1, 0]], dtype=float)"
   ]
  },
  {
   "cell_type": "markdown",
   "metadata": {
    "id": "IJTEwS4SwKbe"
   },
   "source": [
    "You can also define arrays of arbitrary shape using the `zeros` command:"
   ]
  },
  {
   "cell_type": "code",
   "execution_count": 101,
   "metadata": {
    "colab": {
     "base_uri": "https://localhost:8080/"
    },
    "id": "W4OES_fSwKbe",
    "outputId": "7bc0249f-2ae5-4b94-caba-09caeac532d6"
   },
   "outputs": [
    {
     "data": {
      "text/plain": [
       "array([[0., 0., 0.],\n",
       "       [0., 0., 0.],\n",
       "       [0., 0., 0.]])"
      ]
     },
     "execution_count": 101,
     "metadata": {},
     "output_type": "execute_result"
    }
   ],
   "source": [
    "np.zeros((3, 3), dtype=float)"
   ]
  },
  {
   "cell_type": "markdown",
   "metadata": {
    "id": "kqfiIUkWwKbe"
   },
   "source": [
    "where the first argument is a tuple containing the shape of the array, and the second is the data type argument, which follows the same conventions as in the array command.\n",
    "\n",
    "Note that you can define either row or column vectors:"
   ]
  },
  {
   "cell_type": "code",
   "execution_count": 102,
   "metadata": {
    "colab": {
     "base_uri": "https://localhost:8080/"
    },
    "id": "vkAsIIUswKbe",
    "outputId": "6017f164-c3d8-4c7d-ca82-0f6e210aee7a"
   },
   "outputs": [
    {
     "name": "stdout",
     "output_type": "stream",
     "text": [
      "Row vector: [0. 0. 0.]\n",
      "Column vector:\n",
      " [[0.]\n",
      " [0.]\n",
      " [0.]]\n"
     ]
    }
   ],
   "source": [
    "row_v = np.zeros(3, dtype=float) # using (1, 3) instead of 3 would yield the same result\n",
    "print(\"Row vector:\", row_v)\n",
    "col_v = np.zeros((3, 1), dtype=float)\n",
    "print(\"Column vector:\\n\", col_v)"
   ]
  },
  {
   "cell_type": "markdown",
   "metadata": {
    "id": "ymoX2Bv9wKbf"
   },
   "source": [
    "There's also an **identity** command that behaves as you'd expect:"
   ]
  },
  {
   "cell_type": "code",
   "execution_count": 103,
   "metadata": {
    "colab": {
     "base_uri": "https://localhost:8080/"
    },
    "id": "uHgrkWHzwKbf",
    "outputId": "de0e94a6-01bd-4449-a033-d9ab952e5d42"
   },
   "outputs": [
    {
     "data": {
      "text/plain": [
       "array([[1., 0., 0., 0.],\n",
       "       [0., 1., 0., 0.],\n",
       "       [0., 0., 1., 0.],\n",
       "       [0., 0., 0., 1.]])"
      ]
     },
     "execution_count": 103,
     "metadata": {},
     "output_type": "execute_result"
    }
   ],
   "source": [
    "np.identity(4, dtype=float)"
   ]
  },
  {
   "cell_type": "markdown",
   "metadata": {
    "id": "3C2it-SYwKbf"
   },
   "source": [
    "as well as a `ones()` function."
   ]
  },
  {
   "cell_type": "markdown",
   "metadata": {
    "id": "-xi1a3Y0wKbf"
   },
   "source": [
    "## Linspace, matrix functions, and plotting\n",
    "The **linspace** command makes a linear array of a specified number of points from a starting to an ending value:"
   ]
  },
  {
   "cell_type": "code",
   "execution_count": 104,
   "metadata": {
    "colab": {
     "base_uri": "https://localhost:8080/"
    },
    "id": "q6s6ZCP0wKbf",
    "outputId": "49813bd4-ae05-4b31-9d94-9e10180cdcba"
   },
   "outputs": [
    {
     "data": {
      "text/plain": [
       "array([0.        , 0.11111111, 0.22222222, 0.33333333, 0.44444444,\n",
       "       0.55555556, 0.66666667, 0.77777778, 0.88888889, 1.        ])"
      ]
     },
     "execution_count": 104,
     "metadata": {},
     "output_type": "execute_result"
    }
   ],
   "source": [
    "np.linspace(0, 1, 10)"
   ]
  },
  {
   "cell_type": "markdown",
   "metadata": {
    "id": "7o8Vw8bgwKbf"
   },
   "source": [
    "The optional third argument is the number of points, which defaults to 50."
   ]
  },
  {
   "cell_type": "code",
   "execution_count": 105,
   "metadata": {
    "colab": {
     "base_uri": "https://localhost:8080/"
    },
    "id": "ybXIgLQtwKbf",
    "outputId": "6cda735a-e927-44f2-8c59-89f39bcc173f"
   },
   "outputs": [
    {
     "data": {
      "text/plain": [
       "array([0. , 0.1, 0.2, 0.3, 0.4, 0.5, 0.6, 0.7, 0.8, 0.9, 1. ])"
      ]
     },
     "execution_count": 105,
     "metadata": {},
     "output_type": "execute_result"
    }
   ],
   "source": [
    "np.linspace(0, 1, 11)"
   ]
  },
  {
   "cell_type": "markdown",
   "metadata": {
    "id": "cS2gyFpJwKbg"
   },
   "source": [
    "`linspace()` is an easy way to make coordinates for plotting. Functions in the numpy library can act on an entire vector (or even a matrix) of points at once. Thus,"
   ]
  },
  {
   "cell_type": "code",
   "execution_count": 106,
   "metadata": {
    "colab": {
     "base_uri": "https://localhost:8080/"
    },
    "id": "7offZocGwKbg",
    "outputId": "c8388ecd-25d6-4107-be88-5fc8d33cf793"
   },
   "outputs": [
    {
     "data": {
      "text/plain": [
       "array([ 0.00000000e+00,  1.27877162e-01,  2.53654584e-01,  3.75267005e-01,\n",
       "        4.90717552e-01,  5.98110530e-01,  6.95682551e-01,  7.81831482e-01,\n",
       "        8.55142763e-01,  9.14412623e-01,  9.58667853e-01,  9.87181783e-01,\n",
       "        9.99486216e-01,  9.95379113e-01,  9.74927912e-01,  9.38468422e-01,\n",
       "        8.86599306e-01,  8.20172255e-01,  7.40277997e-01,  6.48228395e-01,\n",
       "        5.45534901e-01,  4.33883739e-01,  3.15108218e-01,  1.91158629e-01,\n",
       "        6.40702200e-02, -6.40702200e-02, -1.91158629e-01, -3.15108218e-01,\n",
       "       -4.33883739e-01, -5.45534901e-01, -6.48228395e-01, -7.40277997e-01,\n",
       "       -8.20172255e-01, -8.86599306e-01, -9.38468422e-01, -9.74927912e-01,\n",
       "       -9.95379113e-01, -9.99486216e-01, -9.87181783e-01, -9.58667853e-01,\n",
       "       -9.14412623e-01, -8.55142763e-01, -7.81831482e-01, -6.95682551e-01,\n",
       "       -5.98110530e-01, -4.90717552e-01, -3.75267005e-01, -2.53654584e-01,\n",
       "       -1.27877162e-01, -2.44929360e-16])"
      ]
     },
     "execution_count": 106,
     "metadata": {},
     "output_type": "execute_result"
    }
   ],
   "source": [
    "x = np.linspace(0, 2 * np.pi)\n",
    "np.sin(x)"
   ]
  },
  {
   "cell_type": "markdown",
   "metadata": {
    "id": "4IW67s2oNgz5"
   },
   "source": [
    "Note here that we used the numpy (and **not** the `math`) version of the sin function, which can take a vector of points. We also used the value of $\\pi$ built into the numpy library. This is a nice \"recipe\" to plot functions with matplotlib:"
   ]
  },
  {
   "cell_type": "code",
   "execution_count": 107,
   "metadata": {
    "colab": {
     "base_uri": "https://localhost:8080/",
     "height": 447
    },
    "id": "uCnlUw0WwKbh",
    "outputId": "432594e2-442d-4e38-bf39-ea577803e48a"
   },
   "outputs": [
    {
     "data": {
      "text/plain": [
       "[<matplotlib.lines.Line2D at 0x7d5689392b50>]"
      ]
     },
     "execution_count": 107,
     "metadata": {},
     "output_type": "execute_result"
    },
    {
     "data": {
      "image/png": "[encoded data removed]",
      "text/plain": [
       "<Figure size 640x480 with 1 Axes>"
      ]
     },
     "metadata": {},
     "output_type": "display_data"
    }
   ],
   "source": [
    "plt.plot(x, np.sin(x))"
   ]
  },
  {
   "cell_type": "markdown",
   "metadata": {
    "id": "F0WcEJjKwKbh"
   },
   "source": [
    "## Matrix operations\n",
    "Matrix objects act sensibly when multiplied by scalars:"
   ]
  },
  {
   "cell_type": "code",
   "execution_count": 108,
   "metadata": {
    "colab": {
     "base_uri": "https://localhost:8080/"
    },
    "id": "O8mJQs-7wKbh",
    "outputId": "ad8c7e75-3d78-4559-8e07-fbd72662e741"
   },
   "outputs": [
    {
     "data": {
      "text/plain": [
       "array([[0.125, 0.   , 0.   ],\n",
       "       [0.   , 0.125, 0.   ],\n",
       "       [0.   , 0.   , 0.125]])"
      ]
     },
     "execution_count": 108,
     "metadata": {},
     "output_type": "execute_result"
    }
   ],
   "source": [
    "0.125 * np.identity(3, dtype=float)"
   ]
  },
  {
   "cell_type": "markdown",
   "metadata": {
    "id": "fERJtVNqwKbh"
   },
   "source": [
    "Same-shape matrices can be added together:"
   ]
  },
  {
   "cell_type": "code",
   "execution_count": 109,
   "metadata": {
    "colab": {
     "base_uri": "https://localhost:8080/"
    },
    "id": "MB_eCAWYwKbh",
    "outputId": "44ed8af3-62d0-485e-b1b2-746d055c7f41"
   },
   "outputs": [
    {
     "data": {
      "text/plain": [
       "array([[2., 1.],\n",
       "       [1., 3.]])"
      ]
     },
     "execution_count": 109,
     "metadata": {},
     "output_type": "execute_result"
    }
   ],
   "source": [
    "np.identity(2, dtype=float) + np.array([[1, 1], [1, 2]])"
   ]
  },
  {
   "cell_type": "markdown",
   "metadata": {
    "id": "TMscc9cowKbh"
   },
   "source": [
    "Note that the `*` operator acts in an element-wise way:"
   ]
  },
  {
   "cell_type": "code",
   "execution_count": 110,
   "metadata": {
    "colab": {
     "base_uri": "https://localhost:8080/"
    },
    "id": "njb49CxbwKbi",
    "outputId": "9d798e45-3224-434e-ab82-fa0fc5e07ba2"
   },
   "outputs": [
    {
     "data": {
      "text/plain": [
       "array([[1., 0.],\n",
       "       [0., 1.]])"
      ]
     },
     "execution_count": 110,
     "metadata": {},
     "output_type": "execute_result"
    }
   ],
   "source": [
    "np.identity(2) * np.ones((2,2))"
   ]
  },
  {
   "cell_type": "markdown",
   "metadata": {
    "id": "hA4ubMY9wKbi"
   },
   "source": [
    "To get matrix multiplication, you use the `@` operator:"
   ]
  },
  {
   "cell_type": "code",
   "execution_count": 111,
   "metadata": {
    "colab": {
     "base_uri": "https://localhost:8080/"
    },
    "id": "_Z7WYPRcwKbi",
    "outputId": "ac74a61a-630e-463e-f3fd-f68f773ba2b8"
   },
   "outputs": [
    {
     "data": {
      "text/plain": [
       "array([[1., 1.],\n",
       "       [1., 1.]])"
      ]
     },
     "execution_count": 111,
     "metadata": {},
     "output_type": "execute_result"
    }
   ],
   "source": [
    "np.identity(2) @ np.ones((2, 2))"
   ]
  },
  {
   "cell_type": "markdown",
   "metadata": {
    "id": "UjBBy_aDwKbi"
   },
   "source": [
    "There are `determinant()`, `inverse()`, and `transpose()` functions that act as you would suppose. Transpose can be abbreviated with `.T` at the end of a matrix object:"
   ]
  },
  {
   "cell_type": "code",
   "execution_count": 112,
   "metadata": {
    "colab": {
     "base_uri": "https://localhost:8080/"
    },
    "id": "ZZiBfQFIwKbi",
    "outputId": "981b3d00-71f1-4611-fe1f-7002916091ab"
   },
   "outputs": [
    {
     "data": {
      "text/plain": [
       "array([[1, 3],\n",
       "       [2, 4]])"
      ]
     },
     "execution_count": 112,
     "metadata": {},
     "output_type": "execute_result"
    }
   ],
   "source": [
    "m = np.array([[1,2],[3,4]])\n",
    "m.T"
   ]
  },
  {
   "cell_type": "markdown",
   "metadata": {
    "id": "K78C_c07wKbj"
   },
   "source": [
    "## Matrix Solvers\n",
    "You can solve systems of linear equations using the `np.linalg.solve()` function:"
   ]
  },
  {
   "cell_type": "code",
   "execution_count": 113,
   "metadata": {
    "colab": {
     "base_uri": "https://localhost:8080/"
    },
    "id": "ZnYjqO-ywKbj",
    "outputId": "9334d43b-4230-4e0c-9e69-205bb951b7c8"
   },
   "outputs": [
    {
     "data": {
      "text/plain": [
       "array([ 5.,  3., -2.])"
      ]
     },
     "execution_count": 113,
     "metadata": {},
     "output_type": "execute_result"
    }
   ],
   "source": [
    "A = np.array([[1, 1, 1], [0, 2, 5], [2, 5, -1]]) # matrix\n",
    "b = np.array([6, -4, 27]) # coefficients\n",
    "np.linalg.solve(A, b)"
   ]
  },
  {
   "cell_type": "markdown",
   "metadata": {
    "id": "dDzFw4kGwKbj"
   },
   "source": [
    "There are also a number of routines to compute eigenvalues and eigenvectors that can be useful for scientific computing:\n",
    "\n",
    "* `eigvals()` returns the eigenvalues of a matrix\n",
    "* `eigvalsh()` returns the eigenvalues of a Hermitian matrix\n",
    "* `eig()` returns the eigenvalues and eigenvectors of a matrix\n",
    "* `eigh()` returns the eigenvalues and eigenvectors of a Hermitian matrix."
   ]
  },
  {
   "cell_type": "code",
   "execution_count": 114,
   "metadata": {
    "colab": {
     "base_uri": "https://localhost:8080/"
    },
    "id": "qv7u89gfwKbj",
    "outputId": "6318d6ff-17e9-475d-b191-4c9b70f79ef9"
   },
   "outputs": [
    {
     "data": {
      "text/plain": [
       "array([ 5., 15.])"
      ]
     },
     "execution_count": 114,
     "metadata": {},
     "output_type": "execute_result"
    }
   ],
   "source": [
    "A = np.array([[13, -4],[-4, 7]],'d')\n",
    "np.linalg.eigvalsh(A)"
   ]
  },
  {
   "cell_type": "code",
   "execution_count": 115,
   "metadata": {
    "colab": {
     "base_uri": "https://localhost:8080/"
    },
    "id": "6r0AtEd7wKbj",
    "outputId": "78f59c7e-1460-48ca-8712-bb6ccd41399d"
   },
   "outputs": [
    {
     "data": {
      "text/plain": [
       "EighResult(eigenvalues=array([ 5., 15.]), eigenvectors=array([[-0.4472136 , -0.89442719],\n",
       "       [-0.89442719,  0.4472136 ]]))"
      ]
     },
     "execution_count": 115,
     "metadata": {},
     "output_type": "execute_result"
    }
   ],
   "source": [
    "np.linalg.eigh(A)"
   ]
  },
  {
   "cell_type": "code",
   "execution_count": 116,
   "metadata": {
    "id": "emLPktVEwKbj"
   },
   "outputs": [],
   "source": [
    "def nderiv(y, x):\n",
    "    \"Finite difference derivative of the function f\"\n",
    "    n = len(y)\n",
    "    d = np.zeros(n, dtype=float) # assume double\n",
    "    # Use centered differences for the interior points, one-sided differences for the ends\n",
    "    for i in range(1,n-1):\n",
    "        d[i] = (y[i+1]-y[i-1])/(x[i+1]-x[i-1])\n",
    "    d[0] = (y[1]-y[0])/(x[1]-x[0])\n",
    "    d[n-1] = (y[n-1]-y[n-2])/(x[n-1]-x[n-2])\n",
    "    return d"
   ]
  },
  {
   "cell_type": "markdown",
   "metadata": {
    "id": "RXay---HwKbk"
   },
   "source": [
    "We know that the derivative of the `sin` function is the `cos` function. Let's see whether this is the case using the numeric derivative:"
   ]
  },
  {
   "cell_type": "code",
   "execution_count": 117,
   "metadata": {
    "colab": {
     "base_uri": "https://localhost:8080/",
     "height": 469
    },
    "id": "ueqRxb2EwKbk",
    "outputId": "d6d05119-d30a-4c61-df68-ddc166a8bdd2"
   },
   "outputs": [
    {
     "data": {
      "text/plain": [
       "<matplotlib.legend.Legend at 0x7d56894eacd0>"
      ]
     },
     "execution_count": 117,
     "metadata": {},
     "output_type": "execute_result"
    },
    {
     "data": {
      "image/png": "[encoded data removed]",
      "text/plain": [
       "<Figure size 640x480 with 1 Axes>"
      ]
     },
     "metadata": {},
     "output_type": "display_data"
    }
   ],
   "source": [
    "x = np.linspace(0,2*np.pi)\n",
    "dsin = nderiv(np.sin(x),x)\n",
    "plt.plot(x, dsin, label='numerical')\n",
    "plt.plot(x, np.cos(x), label='analytical')\n",
    "plt.title(\"Comparison of numerical and analytical derivatives of sin(x)\")\n",
    "plt.legend()"
   ]
  },
  {
   "cell_type": "markdown",
   "metadata": {
    "id": "Nbh57H0XwKbk"
   },
   "source": [
    "Pretty close!"
   ]
  },
  {
   "cell_type": "markdown",
   "metadata": {
    "id": "SnD__hOwwKbo"
   },
   "source": [
    "## Monte Carlo, random numbers, and computing $\\pi$\n",
    "Many methods in scientific computing rely on Monte Carlo integration, where a sequence of (pseudo) random numbers are used to approximate the integral of a function. Python has good random number generators in the standard library. The **random()** function gives pseudorandom numbers uniformly distributed between 0 and 1:"
   ]
  },
  {
   "cell_type": "code",
   "execution_count": 118,
   "metadata": {
    "colab": {
     "base_uri": "https://localhost:8080/",
     "height": 447
    },
    "id": "Ke6N3fh-wKbo",
    "outputId": "3958962c-5dad-4ad5-a5a0-8c8f07788349"
   },
   "outputs": [
    {
     "data": {
      "text/plain": [
       "[<matplotlib.lines.Line2D at 0x7d568921e610>]"
      ]
     },
     "execution_count": 118,
     "metadata": {},
     "output_type": "execute_result"
    },
    {
     "data": {
      "image/png": "[encoded data removed]",
      "text/plain": [
       "<Figure size 640x480 with 1 Axes>"
      ]
     },
     "metadata": {},
     "output_type": "display_data"
    }
   ],
   "source": [
    "from random import random\n",
    "rands = []\n",
    "for i in range(100):\n",
    "    rands.append(random())\n",
    "plt.plot(rands)"
   ]
  },
  {
   "cell_type": "markdown",
   "metadata": {
    "id": "RPfyOm1fwKbo"
   },
   "source": [
    "Note that `random()` uses the [Mersenne Twister](http://www.math.sci.hiroshima-u.ac.jp/~m-mat/MT/emt.html) algorithm, which is more sophisticated (and has better statistical properties) than the linear congruential generator that C uses by default. There are also functions to generate random integers, to randomly shuffle a list, and functions to pick random numbers from a particular distribution, like the normal distribution:"
   ]
  },
  {
   "cell_type": "code",
   "execution_count": 119,
   "metadata": {
    "colab": {
     "base_uri": "https://localhost:8080/",
     "height": 447
    },
    "id": "3GAlg9uNwKbo",
    "outputId": "db296b06-c0d6-4934-87b5-aceab4452d90"
   },
   "outputs": [
    {
     "data": {
      "text/plain": [
       "[<matplotlib.lines.Line2D at 0x7d56890e2f10>]"
      ]
     },
     "execution_count": 119,
     "metadata": {},
     "output_type": "execute_result"
    },
    {
     "data": {
      "image/png": "[encoded data removed]",
      "text/plain": [
       "<Figure size 640x480 with 1 Axes>"
      ]
     },
     "metadata": {},
     "output_type": "display_data"
    }
   ],
   "source": [
    "from random import gauss\n",
    "grands = []\n",
    "for i in range(100):\n",
    "    grands.append(gauss(0,1))\n",
    "plt.plot(grands)"
   ]
  },
  {
   "cell_type": "markdown",
   "metadata": {
    "id": "ziRVQsWtwKbo"
   },
   "source": [
    "It is generally more efficient to generate a list of random numbers all at once, particularly if you're drawing from a non-uniform distribution. Numpy has functions to generate vectors and matrices of particular types of random distributions."
   ]
  },
  {
   "cell_type": "code",
   "execution_count": 120,
   "metadata": {
    "colab": {
     "base_uri": "https://localhost:8080/",
     "height": 447
    },
    "id": "TFGnoPoIwKbo",
    "outputId": "71ae39be-f1f0-4639-c3b0-89d2971ab4a8"
   },
   "outputs": [
    {
     "data": {
      "text/plain": [
       "[<matplotlib.lines.Line2D at 0x7d5689197550>]"
      ]
     },
     "execution_count": 120,
     "metadata": {},
     "output_type": "execute_result"
    },
    {
     "data": {
      "image/png": "[encoded data removed]",
      "text/plain": [
       "<Figure size 640x480 with 1 Axes>"
      ]
     },
     "metadata": {},
     "output_type": "display_data"
    }
   ],
   "source": [
    "plt.plot(np.random.rand(100))"
   ]
  },
  {
   "cell_type": "markdown",
   "metadata": {
    "id": "Z_r-eQw7wKbp"
   },
   "source": [
    "As an example, consider the following snippet, which estimates the value of $\\pi$ by taking random numbers as $x$ and $y$ coordinates, and counting how many of them are in the unit circle:"
   ]
  },
  {
   "cell_type": "code",
   "execution_count": 150,
   "metadata": {
    "colab": {
     "base_uri": "https://localhost:8080/",
     "height": 469
    },
    "id": "-0m-ZUH-wKbp",
    "outputId": "899fc047-46fb-4a29-9e0b-9217b52b9c43"
   },
   "outputs": [
    {
     "data": {
      "text/plain": [
       "[<matplotlib.lines.Line2D at 0x7a5558036c80>]"
      ]
     },
     "execution_count": 150,
     "metadata": {},
     "output_type": "execute_result"
    },
    {
     "data": {
      "image/png": "[encoded data removed]",
      "text/plain": [
       "<Figure size 640x480 with 1 Axes>"
      ]
     },
     "metadata": {},
     "output_type": "display_data"
    }
   ],
   "source": [
    "npts = 5000\n",
    "xs = 2 * np.random.rand(npts) - 1\n",
    "ys = 2 * np.random.rand(npts) - 1\n",
    "r2 = xs**2 + ys**2\n",
    "ninside = (r2 < 1).sum()\n",
    "\n",
    "plt.title(\"Approximation to pi = %f\" % (4 * ninside / npts))\n",
    "plt.gca().set_aspect('equal', adjustable='box') # makes the two axes equally long so that the plot is a perfect square\n",
    "plt.plot(xs[r2 < 1],ys[r2 < 1],'b.')\n",
    "plt.plot(xs[r2 > 1],ys[r2 > 1],'r.')"
   ]
  },
  {
   "cell_type": "markdown",
   "metadata": {
    "id": "phxbYHDswKbp"
   },
   "source": [
    "## Numerical Integration\n",
    "Integration can be hard, and sometimes it's easier to work out a definite integral using an approximation. For example, suppose we wanted to figure out the integral:\n",
    "\n",
    "$$\\int_0^\\infty\\exp(-x)dx=1$$"
   ]
  },
  {
   "cell_type": "code",
   "execution_count": 112,
   "metadata": {
    "colab": {
     "base_uri": "https://localhost:8080/",
     "height": 447
    },
    "id": "9CknflrowKbp",
    "outputId": "8a35d477-515b-4471-b07b-6c29f58d291d"
   },
   "outputs": [
    {
     "data": {
      "text/plain": [
       "[<matplotlib.lines.Line2D at 0x7a5558a46170>]"
      ]
     },
     "execution_count": 112,
     "metadata": {},
     "output_type": "execute_result"
    },
    {
     "data": {
      "image/png": "[encoded data removed]",
      "text/plain": [
       "<Figure size 640x480 with 1 Axes>"
      ]
     },
     "metadata": {},
     "output_type": "display_data"
    }
   ],
   "source": [
    "def f(x): \n",
    "    return np.exp(-x)\n",
    "    \n",
    "x = np.linspace(0,10)\n",
    "plt.plot(x,np.exp(-x))"
   ]
  },
  {
   "cell_type": "markdown",
   "metadata": {
    "id": "LjHu7f8VwKbp"
   },
   "source": [
    "Scipy has a numerical integration routine `quad()` (since sometimes numerical integration is called *quadrature*) that we can use for this:"
   ]
  },
  {
   "cell_type": "code",
   "execution_count": 113,
   "metadata": {
    "colab": {
     "base_uri": "https://localhost:8080/"
    },
    "id": "ztQB8mROwKbq",
    "outputId": "a3344ee9-6a1c-4dd6-c80d-c938cef09d14"
   },
   "outputs": [
    {
     "data": {
      "text/plain": [
       "(1.0000000000000002, 5.842606742906004e-11)"
      ]
     },
     "execution_count": 113,
     "metadata": {},
     "output_type": "execute_result"
    }
   ],
   "source": [
    "from scipy.integrate import quad\n",
    "quad(f, 0, np.inf)"
   ]
  },
  {
   "cell_type": "markdown",
   "metadata": {
    "id": "G4NCQQg3wKbq"
   },
   "source": [
    "There are also 2d and 3d numerical integrators in Scipy. [See the docs](http://docs.scipy.org/doc/scipy/reference/integrate.html) for more information."
   ]
  },
  {
   "cell_type": "markdown",
   "metadata": {
    "id": "9juuqiP3wKbq"
   },
   "source": [
    "# Intermediate Python"
   ]
  },
  {
   "cell_type": "markdown",
   "metadata": {},
   "source": [
    "Consider the following (long) string:"
   ]
  },
  {
   "cell_type": "code",
   "execution_count": 114,
   "metadata": {
    "id": "-GpVCwbcwKbq"
   },
   "outputs": [],
   "source": [
    "myoutput = \"\"\"\\\n",
    "@ Step       Energy      Delta E   Gmax     Grms     Xrms     Xmax   Walltime\n",
    "@ ---- ---------------- -------- -------- -------- -------- -------- --------\n",
    "@    0   -6095.12544083  0.0D+00  0.03686  0.00936  0.00000  0.00000   1391.5\n",
    "@    1   -6095.25762870 -1.3D-01  0.00732  0.00168  0.32456  0.84140  10468.0\n",
    "@    2   -6095.26325979 -5.6D-03  0.00233  0.00056  0.06294  0.14009  11963.5\n",
    "@    3   -6095.26428124 -1.0D-03  0.00109  0.00024  0.03245  0.10269  13331.9\n",
    "@    4   -6095.26463203 -3.5D-04  0.00057  0.00013  0.02737  0.09112  14710.8\n",
    "@    5   -6095.26477615 -1.4D-04  0.00043  0.00009  0.02259  0.08615  20211.1\n",
    "@    6   -6095.26482624 -5.0D-05  0.00015  0.00002  0.00831  0.03147  21726.1\n",
    "@    7   -6095.26483584 -9.6D-06  0.00021  0.00004  0.01473  0.05265  24890.5\n",
    "@    8   -6095.26484405 -8.2D-06  0.00005  0.00001  0.00555  0.01929  26448.7\n",
    "@    9   -6095.26484599 -1.9D-06  0.00003  0.00001  0.00164  0.00564  27258.1\n",
    "@   10   -6095.26484676 -7.7D-07  0.00003  0.00001  0.00161  0.00553  28155.3\n",
    "@   11   -6095.26484693 -1.8D-07  0.00002  0.00000  0.00054  0.00151  28981.7\n",
    "@   11   -6095.26484693 -1.8D-07  0.00002  0.00000  0.00054  0.00151  28981.7\"\"\""
   ]
  },
  {
   "cell_type": "markdown",
   "metadata": {
    "id": "PRSgmpipwKbq"
   },
   "source": [
    "First, note that the data is entered into a multi-line string. When Python sees three quote marks `\"\"\"` or `'''` it treats everything following as part of a single string, including newlines, tabs, and anything else, until it sees the same three quote marks (`\"\"\"` has to be followed by another `\"\"\"`, and `'''` has to be followed by another `'''`) again.\n",
    "\n",
    "We start by splitting this big string into a list of strings, since each line corresponds to a separate piece of data. We use `split(\"\\n\")`, which breaks a string into a new element every time it sees a newline (`\\n) character:"
   ]
  },
  {
   "cell_type": "code",
   "execution_count": 115,
   "metadata": {
    "colab": {
     "base_uri": "https://localhost:8080/"
    },
    "id": "-nrBiushwKbr",
    "outputId": "6562643a-b028-42a1-afaf-65013e466603"
   },
   "outputs": [
    {
     "data": {
      "text/plain": [
       "['@ Step       Energy      Delta E   Gmax     Grms     Xrms     Xmax   Walltime',\n",
       " '@ ---- ---------------- -------- -------- -------- -------- -------- --------',\n",
       " '@    0   -6095.12544083  0.0D+00  0.03686  0.00936  0.00000  0.00000   1391.5',\n",
       " '@    1   -6095.25762870 -1.3D-01  0.00732  0.00168  0.32456  0.84140  10468.0',\n",
       " '@    2   -6095.26325979 -5.6D-03  0.00233  0.00056  0.06294  0.14009  11963.5',\n",
       " '@    3   -6095.26428124 -1.0D-03  0.00109  0.00024  0.03245  0.10269  13331.9',\n",
       " '@    4   -6095.26463203 -3.5D-04  0.00057  0.00013  0.02737  0.09112  14710.8',\n",
       " '@    5   -6095.26477615 -1.4D-04  0.00043  0.00009  0.02259  0.08615  20211.1',\n",
       " '@    6   -6095.26482624 -5.0D-05  0.00015  0.00002  0.00831  0.03147  21726.1',\n",
       " '@    7   -6095.26483584 -9.6D-06  0.00021  0.00004  0.01473  0.05265  24890.5',\n",
       " '@    8   -6095.26484405 -8.2D-06  0.00005  0.00001  0.00555  0.01929  26448.7',\n",
       " '@    9   -6095.26484599 -1.9D-06  0.00003  0.00001  0.00164  0.00564  27258.1',\n",
       " '@   10   -6095.26484676 -7.7D-07  0.00003  0.00001  0.00161  0.00553  28155.3',\n",
       " '@   11   -6095.26484693 -1.8D-07  0.00002  0.00000  0.00054  0.00151  28981.7',\n",
       " '@   11   -6095.26484693 -1.8D-07  0.00002  0.00000  0.00054  0.00151  28981.7']"
      ]
     },
     "execution_count": 115,
     "metadata": {},
     "output_type": "execute_result"
    }
   ],
   "source": [
    "lines = myoutput.split(\"\\n\")\n",
    "lines"
   ]
  },
  {
   "cell_type": "markdown",
   "metadata": {
    "id": "6aaTjiy3wKbr"
   },
   "source": [
    "We now want to do three things:\n",
    "\n",
    "* Skip over the lines that don't carry any information\n",
    "* Break apart each line that does carry information and grab the pieces we want\n",
    "* Turn the resulting data into something that we can plot.\n",
    "\n",
    "For this data, we really only want the Energy column, the Gmax column (which contains the maximum gradient at each step), and perhaps the Walltime column.\n",
    "\n",
    "Since the data is now in a list of lines, we can iterate over it:"
   ]
  },
  {
   "cell_type": "code",
   "execution_count": 116,
   "metadata": {
    "id": "6stP2s6iwKbr"
   },
   "outputs": [],
   "source": [
    "for line in lines[2:]:\n",
    "    # do something with each line\n",
    "    words = line.split()"
   ]
  },
  {
   "cell_type": "markdown",
   "metadata": {
    "id": "u225QF4XwKbr"
   },
   "source": [
    "Let's examine what we just did: first, we used a **for** loop to iterate over each line. However, we skipped the first two, since`lines[2:]` only takes the lines starting from index 2, since `lines[0]` contained the title information, and `lines[1]` contained underscores.\n",
    "\n",
    "We then split each line into chunks (which we're calling \"words\", even though in most cases they're numbers) using the string `split()` function on a string. If called without arguments, `split()` will split a string every time a whitespace is encountered:"
   ]
  },
  {
   "cell_type": "code",
   "execution_count": 117,
   "metadata": {
    "colab": {
     "base_uri": "https://localhost:8080/"
    },
    "id": "E0vYvnZbwKbs",
    "outputId": "07942109-08b7-4076-8e5c-22d1d1416c08"
   },
   "outputs": [
    {
     "data": {
      "text/plain": [
       "['@',\n",
       " '0',\n",
       " '-6095.12544083',\n",
       " '0.0D+00',\n",
       " '0.03686',\n",
       " '0.00936',\n",
       " '0.00000',\n",
       " '0.00000',\n",
       " '1391.5']"
      ]
     },
     "execution_count": 117,
     "metadata": {},
     "output_type": "execute_result"
    }
   ],
   "source": [
    "lines[2].split()"
   ]
  },
  {
   "cell_type": "markdown",
   "metadata": {
    "id": "b_94JpZRwKbt"
   },
   "source": [
    "This is almost exactly what we want. Now we can get the columns that we want:"
   ]
  },
  {
   "cell_type": "code",
   "execution_count": 118,
   "metadata": {
    "colab": {
     "base_uri": "https://localhost:8080/"
    },
    "id": "XkkdmFDMwKbt",
    "outputId": "1853839e-6a8a-4f4f-bd18-5a7c8795c512"
   },
   "outputs": [
    {
     "name": "stdout",
     "output_type": "stream",
     "text": [
      "-6095.12544083 0.03686 1391.5\n",
      "-6095.25762870 0.00732 10468.0\n",
      "-6095.26325979 0.00233 11963.5\n",
      "-6095.26428124 0.00109 13331.9\n",
      "-6095.26463203 0.00057 14710.8\n",
      "-6095.26477615 0.00043 20211.1\n",
      "-6095.26482624 0.00015 21726.1\n",
      "-6095.26483584 0.00021 24890.5\n",
      "-6095.26484405 0.00005 26448.7\n",
      "-6095.26484599 0.00003 27258.1\n",
      "-6095.26484676 0.00003 28155.3\n",
      "-6095.26484693 0.00002 28981.7\n",
      "-6095.26484693 0.00002 28981.7\n"
     ]
    }
   ],
   "source": [
    "for line in lines[2:]:\n",
    "    # do something with each line\n",
    "    words = line.split()\n",
    "    energy = words[2]\n",
    "    gmax = words[4]\n",
    "    time = words[8]\n",
    "    print(energy,gmax,time)"
   ]
  },
  {
   "cell_type": "markdown",
   "metadata": {
    "id": "gOY0yVYhwKbu"
   },
   "source": [
    "This is fine for printing things out, but if we want to do something with the data, either make a calculation with it or pass it into a plotting, we need to convert the strings into regular floating point numbers. We can use the `float()` function for this. We also need to save it in some form. I'll do this as follows:"
   ]
  },
  {
   "cell_type": "code",
   "execution_count": 119,
   "metadata": {
    "id": "kKBBbG3HwKbu"
   },
   "outputs": [],
   "source": [
    "data = []\n",
    "for line in lines[2:]:\n",
    "    # do something with each line\n",
    "    words = line.split()\n",
    "    energy = float(words[2])\n",
    "    gmax = float(words[4])\n",
    "    time = float(words[8])\n",
    "    data.append((energy,gmax,time))\n",
    "data = np.array(data)"
   ]
  },
  {
   "cell_type": "markdown",
   "metadata": {
    "id": "-3EIJswFwKbu"
   },
   "source": [
    "We now have our data in a numpy array, so we can choose columns to print. With numpy matrices, multidimensional arrays can be accessed by using \"slice tuples\". For instance, if we want the first column of a matrix such as `data`, we can use `data[:,0]`:"
   ]
  },
  {
   "cell_type": "code",
   "execution_count": 120,
   "metadata": {
    "colab": {
     "base_uri": "https://localhost:8080/",
     "height": 504
    },
    "id": "DWTpe8o3wKbu",
    "outputId": "02f12c52-b6ab-4e95-cc48-25ac0b274c43"
   },
   "outputs": [
    {
     "data": {
      "text/plain": [
       "Text(0.5, 1.0, 'Energy convergence')"
      ]
     },
     "execution_count": 120,
     "metadata": {},
     "output_type": "execute_result"
    },
    {
     "data": {
      "image/png": "[encoded data removed]",
      "text/plain": [
       "<Figure size 640x480 with 1 Axes>"
      ]
     },
     "metadata": {},
     "output_type": "display_data"
    }
   ],
   "source": [
    "plt.plot(data[:,0])\n",
    "plt.xlabel('step')\n",
    "plt.ylabel('Energy [a.u.]')\n",
    "plt.title('Energy convergence')"
   ]
  },
  {
   "cell_type": "markdown",
   "metadata": {
    "id": "lZys0qnXwKbx"
   },
   "source": [
    "## More Sophisticated String Formatting and Processing\n",
    "Strings are a big deal in most modern languages, and hopefully the previous sections helped underscore how versatile Python's string processing techniques are. We will continue this topic in this chapter.\n",
    "\n",
    "We can print out lines in Python using the print command."
   ]
  },
  {
   "cell_type": "code",
   "execution_count": 121,
   "metadata": {
    "colab": {
     "base_uri": "https://localhost:8080/"
    },
    "id": "qYRYSNuMwKbx",
    "outputId": "2d0d96c1-8697-4ca1-de86-ebd105dabad8"
   },
   "outputs": [
    {
     "name": "stdout",
     "output_type": "stream",
     "text": [
      "I have 3 errands to run\n"
     ]
    }
   ],
   "source": [
    "print(\"I have 3 errands to run\")"
   ]
  },
  {
   "cell_type": "markdown",
   "metadata": {
    "id": "GKxYp1GowKbx"
   },
   "source": [
    "In Jupyter notebooks we don't even need the print command, since it will display the last expression not assigned to a variable."
   ]
  },
  {
   "cell_type": "code",
   "execution_count": 122,
   "metadata": {
    "colab": {
     "base_uri": "https://localhost:8080/",
     "height": 35
    },
    "id": "s0icyg9pwKbx",
    "outputId": "29b9fe3e-802c-4bdb-96bf-059dad63fb0e"
   },
   "outputs": [
    {
     "data": {
      "text/plain": [
       "'I have 3 errands to run'"
      ]
     },
     "execution_count": 122,
     "metadata": {},
     "output_type": "execute_result"
    }
   ],
   "source": [
    "\"I have 3 errands to run\""
   ]
  },
  {
   "cell_type": "markdown",
   "metadata": {
    "id": "cjqCFolvwKby"
   },
   "source": [
    "`print()` even converts some arguments to strings for us:"
   ]
  },
  {
   "cell_type": "code",
   "execution_count": 123,
   "metadata": {
    "colab": {
     "base_uri": "https://localhost:8080/"
    },
    "id": "fqCoSmxZwKby",
    "outputId": "4764b746-49c5-4c28-845b-345d47625f12"
   },
   "outputs": [
    {
     "name": "stdout",
     "output_type": "stream",
     "text": [
      "The variables are  1 2 3\n"
     ]
    }
   ],
   "source": [
    "a, b, c = 1, 2, 3\n",
    "print(\"The variables are \", 1, 2, 3)"
   ]
  },
  {
   "cell_type": "markdown",
   "metadata": {
    "id": "-Xu1LM1dwKby"
   },
   "source": [
    "As versatile as this is, you typically need more freedom over the data you print out. For example, what if we want to print a bunch of data to exactly 4 decimal places? We can do this using formatted strings.\n",
    "\n",
    "Formatted strings share a syntax with the C **printf** statement. We make a string that has some funny *format characters* in it, and then pass a bunch of variables into the string that fill out those characters in different ways.\n",
    "\n",
    "For example,"
   ]
  },
  {
   "cell_type": "code",
   "execution_count": 124,
   "metadata": {
    "colab": {
     "base_uri": "https://localhost:8080/"
    },
    "id": "S9z9CwX-wKby",
    "outputId": "611e59aa-70b1-4fe8-ba93-4f9a4c073702"
   },
   "outputs": [
    {
     "name": "stdout",
     "output_type": "stream",
     "text": [
      "Pi as a decimal = 3\n",
      "Pi as a float = 3.141593\n",
      "Pi with 4 decimal places = 3.1416\n",
      "Pi with overall fixed length of 10 spaces, with 6 decimal places =   3.141593\n",
      "Pi as in exponential format = 3.141593e+00\n"
     ]
    }
   ],
   "source": [
    "print(\"Pi as a decimal = %d\" % np.pi)\n",
    "print(\"Pi as a float = %f\" % np.pi)\n",
    "print(\"Pi with 4 decimal places = %.4f\" % np.pi)\n",
    "print(\"Pi with overall fixed length of 10 spaces, with 6 decimal places = %10.6f\" % np.pi)\n",
    "print(\"Pi as in exponential format = %e\" % np.pi)"
   ]
  },
  {
   "cell_type": "markdown",
   "metadata": {
    "id": "vsHPUcVGwKby"
   },
   "source": [
    "The other use of the percent sign is after the string, to pipe a set of variables in. You can pass in multiple variables (if your formatting string supports it) by putting a tuple after the percent. Thus,"
   ]
  },
  {
   "cell_type": "code",
   "execution_count": 125,
   "metadata": {
    "colab": {
     "base_uri": "https://localhost:8080/"
    },
    "id": "ny_TF2ZtwKby",
    "outputId": "b3957401-fb2e-4966-fc54-5b9c3d45582b"
   },
   "outputs": [
    {
     "name": "stdout",
     "output_type": "stream",
     "text": [
      "The variables specified earlier are 1, 2, and 3\n"
     ]
    }
   ],
   "source": [
    "print(\"The variables specified earlier are %d, %d, and %d\" % (a,b,c))"
   ]
  },
  {
   "cell_type": "markdown",
   "metadata": {
    "id": "Lvs-bty_wKb0"
   },
   "source": [
    "## Optional arguments\n",
    "You will recall that the `linspace()` function can take either two arguments (for the starting and ending points):"
   ]
  },
  {
   "cell_type": "code",
   "execution_count": 126,
   "metadata": {
    "colab": {
     "base_uri": "https://localhost:8080/"
    },
    "id": "pyw7sBIYwKb0",
    "outputId": "6c18a49a-7397-471e-ca10-6d0e1a4a4aad"
   },
   "outputs": [
    {
     "data": {
      "text/plain": [
       "array([0.        , 0.02040816, 0.04081633, 0.06122449, 0.08163265,\n",
       "       0.10204082, 0.12244898, 0.14285714, 0.16326531, 0.18367347,\n",
       "       0.20408163, 0.2244898 , 0.24489796, 0.26530612, 0.28571429,\n",
       "       0.30612245, 0.32653061, 0.34693878, 0.36734694, 0.3877551 ,\n",
       "       0.40816327, 0.42857143, 0.44897959, 0.46938776, 0.48979592,\n",
       "       0.51020408, 0.53061224, 0.55102041, 0.57142857, 0.59183673,\n",
       "       0.6122449 , 0.63265306, 0.65306122, 0.67346939, 0.69387755,\n",
       "       0.71428571, 0.73469388, 0.75510204, 0.7755102 , 0.79591837,\n",
       "       0.81632653, 0.83673469, 0.85714286, 0.87755102, 0.89795918,\n",
       "       0.91836735, 0.93877551, 0.95918367, 0.97959184, 1.        ])"
      ]
     },
     "execution_count": 126,
     "metadata": {},
     "output_type": "execute_result"
    }
   ],
   "source": [
    "np.linspace(0, 1)"
   ]
  },
  {
   "cell_type": "markdown",
   "metadata": {
    "id": "dyKyq8YcwKb0"
   },
   "source": [
    "or it can take three arguments, for the starting point, the ending point, and the number of points:"
   ]
  },
  {
   "cell_type": "code",
   "execution_count": 127,
   "metadata": {
    "colab": {
     "base_uri": "https://localhost:8080/"
    },
    "id": "sdB2DUwEwKb0",
    "outputId": "85e36587-5f86-4c4e-caef-606fbed22f60"
   },
   "outputs": [
    {
     "data": {
      "text/plain": [
       "array([0.  , 0.25, 0.5 , 0.75, 1.  ])"
      ]
     },
     "execution_count": 127,
     "metadata": {},
     "output_type": "execute_result"
    }
   ],
   "source": [
    "np.linspace(0, 1, 5)"
   ]
  },
  {
   "cell_type": "markdown",
   "metadata": {
    "id": "iSgMxle2wKb0"
   },
   "source": [
    "You can also pass in keywords to exclude the endpoint:"
   ]
  },
  {
   "cell_type": "code",
   "execution_count": 128,
   "metadata": {
    "colab": {
     "base_uri": "https://localhost:8080/"
    },
    "id": "lbT0u2TBwKb0",
    "outputId": "a8acf702-f24e-4413-8d48-bb9011a37402"
   },
   "outputs": [
    {
     "data": {
      "text/plain": [
       "array([0. , 0.2, 0.4, 0.6, 0.8])"
      ]
     },
     "execution_count": 128,
     "metadata": {},
     "output_type": "execute_result"
    }
   ],
   "source": [
    "np.linspace(0, 1, 5, endpoint=False)"
   ]
  },
  {
   "cell_type": "markdown",
   "metadata": {
    "id": "EhM0XOcVwKb0"
   },
   "source": [
    "Right now, we only know how to specify functions that have a fixed number of arguments. We'll learn how to do the more general cases here.\n",
    "\n",
    "If we're defining a simple version of linspace, we would start with:"
   ]
  },
  {
   "cell_type": "code",
   "execution_count": 129,
   "metadata": {
    "colab": {
     "base_uri": "https://localhost:8080/"
    },
    "id": "332u5SEJwKb0",
    "outputId": "c811541f-f5b4-4184-bcdd-f62126277b6f"
   },
   "outputs": [
    {
     "data": {
      "text/plain": [
       "[0.0, 0.25, 0.5, 0.75, 1.0]"
      ]
     },
     "execution_count": 129,
     "metadata": {},
     "output_type": "execute_result"
    }
   ],
   "source": [
    "def my_linspace(start, end):\n",
    "    npoints = 5\n",
    "    v = []\n",
    "    d = (end - start) / float(npoints - 1)\n",
    "    for i in range(npoints):\n",
    "        v.append(start + i * d)\n",
    "    return v\n",
    "my_linspace(0, 1)"
   ]
  },
  {
   "cell_type": "markdown",
   "metadata": {
    "id": "ch4UpuCWwKb1"
   },
   "source": [
    "We can add an optional argument by specifying a default value in the argument list:"
   ]
  },
  {
   "cell_type": "code",
   "execution_count": 130,
   "metadata": {
    "id": "0Gq0DG7KwKb1"
   },
   "outputs": [],
   "source": [
    "def my_linspace(start, end, npoints=5):\n",
    "    v = []\n",
    "    d = (end - start) / float(npoints - 1)\n",
    "    for i in range(npoints):\n",
    "        v.append(start + i * d)\n",
    "    return v"
   ]
  },
  {
   "cell_type": "markdown",
   "metadata": {
    "id": "-nRgTOf2wKb1"
   },
   "source": [
    "This gives exactly the same result if we don't specify anything:"
   ]
  },
  {
   "cell_type": "code",
   "execution_count": 131,
   "metadata": {
    "colab": {
     "base_uri": "https://localhost:8080/"
    },
    "id": "GXpjLjANwKb1",
    "outputId": "ccb1a5dc-dc5f-4569-a956-0c88479b420d"
   },
   "outputs": [
    {
     "data": {
      "text/plain": [
       "[0.0, 0.25, 0.5, 0.75, 1.0]"
      ]
     },
     "execution_count": 131,
     "metadata": {},
     "output_type": "execute_result"
    }
   ],
   "source": [
    "my_linspace(0, 1)"
   ]
  },
  {
   "cell_type": "markdown",
   "metadata": {
    "id": "gIl4W8iUwKb1"
   },
   "source": [
    "But also let's us override the default value with a third argument:"
   ]
  },
  {
   "cell_type": "code",
   "execution_count": 132,
   "metadata": {
    "colab": {
     "base_uri": "https://localhost:8080/"
    },
    "id": "YE0YhZTZwKb1",
    "outputId": "f431243c-5208-445d-9ada-e06dede953ba"
   },
   "outputs": [
    {
     "data": {
      "text/plain": [
       "[0.0,\n",
       " 0.1111111111111111,\n",
       " 0.2222222222222222,\n",
       " 0.3333333333333333,\n",
       " 0.4444444444444444,\n",
       " 0.5555555555555556,\n",
       " 0.6666666666666666,\n",
       " 0.7777777777777777,\n",
       " 0.8888888888888888,\n",
       " 1.0]"
      ]
     },
     "execution_count": 132,
     "metadata": {},
     "output_type": "execute_result"
    }
   ],
   "source": [
    "my_linspace(0, 1, 10)"
   ]
  },
  {
   "cell_type": "markdown",
   "metadata": {
    "id": "ahA0wSuxwKb1"
   },
   "source": [
    "We can add arbitrary keyword arguments to the function definition by putting a keyword argument \\*\\*kwargs handle in:"
   ]
  },
  {
   "cell_type": "code",
   "execution_count": 133,
   "metadata": {
    "colab": {
     "base_uri": "https://localhost:8080/"
    },
    "id": "jWPbwbVIwKb1",
    "outputId": "7ee59669-584a-4145-c95b-5e835896fa9e"
   },
   "outputs": [
    {
     "data": {
      "text/plain": [
       "[0.0,\n",
       " 0.1,\n",
       " 0.2,\n",
       " 0.30000000000000004,\n",
       " 0.4,\n",
       " 0.5,\n",
       " 0.6000000000000001,\n",
       " 0.7000000000000001,\n",
       " 0.8,\n",
       " 0.9]"
      ]
     },
     "execution_count": 133,
     "metadata": {},
     "output_type": "execute_result"
    }
   ],
   "source": [
    "def my_linspace(start, end, npoints=5, **kwargs):\n",
    "    endpoint = kwargs.get('endpoint', True)\n",
    "    v = []\n",
    "    if endpoint:\n",
    "        d = (end - start) / float(npoints - 1)\n",
    "    else:\n",
    "        d = (end - start) / float(npoints)\n",
    "    for i in range(npoints):\n",
    "        v.append(start + i * d)\n",
    "    return v\n",
    "    \n",
    "my_linspace(0, 1, 10, endpoint=False)"
   ]
  },
  {
   "cell_type": "markdown",
   "metadata": {
    "id": "dH4spu6rwKb2"
   },
   "source": [
    "What the keyword argument construction does is to take any additional keyword arguments (*i.e.* arguments specified by name, like `endpoint=False`), and stick them into a dictionary called `kwargs` (you can call it anything you like, but it has to be preceded by two stars). You can then grab items out of the dictionary using the `get` command, which also lets you specify a default value. I realize it takes a little getting used to, but it is a common construction in Python code, and you should be able to recognize it."
   ]
  },
  {
   "cell_type": "markdown",
   "metadata": {
    "id": "GolF7sADwKb2"
   },
   "source": [
    "## List Comprehensions and Generators\n",
    "List comprehensions are a streamlined way to make lists. They look something like a list definition, with some logic thrown in. For example:"
   ]
  },
  {
   "cell_type": "code",
   "execution_count": 134,
   "metadata": {
    "colab": {
     "base_uri": "https://localhost:8080/"
    },
    "id": "FzAakNnywKb2",
    "outputId": "7f665483-9a7a-4cc3-d494-f5b114f22fa0"
   },
   "outputs": [
    {
     "name": "stdout",
     "output_type": "stream",
     "text": [
      "[1, 3, 5, 7, 9, 11, 13, 15, 17, 19]\n"
     ]
    }
   ],
   "source": [
    "odds = [2 * i + 1 for i in range(10)]\n",
    "print(odds)"
   ]
  },
  {
   "cell_type": "markdown",
   "metadata": {
    "id": "QpyYjI5twKb2"
   },
   "source": [
    "You can also put some boolean testing into the construct:"
   ]
  },
  {
   "cell_type": "code",
   "execution_count": 135,
   "metadata": {
    "colab": {
     "base_uri": "https://localhost:8080/"
    },
    "id": "LLJz7JIOwKb2",
    "outputId": "160e894e-80e5-4f1f-b0fb-1784d55f09d6"
   },
   "outputs": [
    {
     "name": "stdout",
     "output_type": "stream",
     "text": [
      "[1, 3, 5, 7, 9, 11, 13, 15, 17, 19]\n"
     ]
    }
   ],
   "source": [
    "odds = [i for i in range(20) if i % 2 == 1]\n",
    "print(odds)"
   ]
  },
  {
   "cell_type": "code",
   "execution_count": 136,
   "metadata": {
    "colab": {
     "base_uri": "https://localhost:8080/"
    },
    "id": "c5PW7AAbwKb4",
    "outputId": "2abc89e6-ab01-4f42-b928-b895f6c100ec"
   },
   "outputs": [
    {
     "data": {
      "text/plain": [
       "3"
      ]
     },
     "execution_count": 136,
     "metadata": {},
     "output_type": "execute_result"
    }
   ],
   "source": [
    "from operator import add, mul\n",
    "add(1, 2)"
   ]
  },
  {
   "cell_type": "code",
   "execution_count": 137,
   "metadata": {
    "colab": {
     "base_uri": "https://localhost:8080/"
    },
    "id": "z3qXGRNtwKb5",
    "outputId": "d93198e5-ec78-44e6-833b-409912049ab3"
   },
   "outputs": [
    {
     "data": {
      "text/plain": [
       "12"
      ]
     },
     "execution_count": 137,
     "metadata": {},
     "output_type": "execute_result"
    }
   ],
   "source": [
    "mul(3, 4)"
   ]
  },
  {
   "cell_type": "markdown",
   "metadata": {
    "id": "vZ12bvMQwKb5"
   },
   "source": [
    "These are useful building blocks for functional programming."
   ]
  },
  {
   "cell_type": "markdown",
   "metadata": {
    "id": "k4_PVZYKwKb5"
   },
   "source": [
    "The **lambda** operator allows us to build *anonymous functions*, which are simply functions that aren't defined by a normal **def** statement with a name. For example, a function that doubles the input is:"
   ]
  },
  {
   "cell_type": "code",
   "execution_count": 138,
   "metadata": {
    "colab": {
     "base_uri": "https://localhost:8080/"
    },
    "id": "aMcwK9XBwKb5",
    "outputId": "1233d348-9290-4bc9-ce0a-50f5c3695e04"
   },
   "outputs": [
    {
     "data": {
      "text/plain": [
       "34"
      ]
     },
     "execution_count": 138,
     "metadata": {},
     "output_type": "execute_result"
    }
   ],
   "source": [
    "def doubler(x): return 2*x\n",
    "doubler(17)"
   ]
  },
  {
   "cell_type": "markdown",
   "metadata": {
    "id": "iPBPPOEgwKb5"
   },
   "source": [
    "We could also write this as:"
   ]
  },
  {
   "cell_type": "code",
   "execution_count": 139,
   "metadata": {
    "colab": {
     "base_uri": "https://localhost:8080/"
    },
    "id": "PLCYbn1YwKb5",
    "outputId": "86d676e9-6326-4d67-c83e-ab2408166b9b"
   },
   "outputs": [
    {
     "data": {
      "text/plain": [
       "<function __main__.<lambda>(x)>"
      ]
     },
     "execution_count": 139,
     "metadata": {},
     "output_type": "execute_result"
    }
   ],
   "source": [
    "lambda x: 2*x"
   ]
  },
  {
   "cell_type": "markdown",
   "metadata": {
    "id": "S-rK2qTFwKb5"
   },
   "source": [
    "And assign it to a function separately:"
   ]
  },
  {
   "cell_type": "code",
   "execution_count": 140,
   "metadata": {
    "colab": {
     "base_uri": "https://localhost:8080/"
    },
    "id": "ct2BjVFvwKb5",
    "outputId": "af76157e-ace9-4fb8-a4ac-3edbed3389ba"
   },
   "outputs": [
    {
     "data": {
      "text/plain": [
       "38"
      ]
     },
     "execution_count": 140,
     "metadata": {},
     "output_type": "execute_result"
    }
   ],
   "source": [
    "another_doubler = lambda x: 2*x\n",
    "another_doubler(19)"
   ]
  },
  {
   "cell_type": "markdown",
   "metadata": {
    "id": "gOPAefU4wKb5"
   },
   "source": [
    "`lambda` is particularly convenient (as we'll see below) in passing simple functions as arguments to other functions."
   ]
  },
  {
   "cell_type": "markdown",
   "metadata": {
    "id": "dyKLJ2JSwKb5"
   },
   "source": [
    "`map` is a way to repeatedly apply a function to a list:"
   ]
  },
  {
   "cell_type": "code",
   "execution_count": 141,
   "metadata": {
    "colab": {
     "base_uri": "https://localhost:8080/"
    },
    "id": "h6kydilLwKb6",
    "outputId": "176af096-9856-44d5-c01f-3bd8dd2f1ff9"
   },
   "outputs": [
    {
     "data": {
      "text/plain": [
       "[1.0, 2.0, 3.0, 4.0, 5.0]"
      ]
     },
     "execution_count": 141,
     "metadata": {},
     "output_type": "execute_result"
    }
   ],
   "source": [
    "list(map(float,'1 2 3 4 5'.split()))"
   ]
  },
  {
   "cell_type": "markdown",
   "metadata": {
    "id": "U89Xx7VVwKb6"
   },
   "source": [
    "`reduce` is a way to repeatedly apply a function to the first two items of the list. There already is a `sum` function in Python that is a reduction:"
   ]
  },
  {
   "cell_type": "code",
   "execution_count": 142,
   "metadata": {
    "colab": {
     "base_uri": "https://localhost:8080/"
    },
    "id": "49NvkdF2wKb6",
    "outputId": "a3394eaa-dcfc-440d-f048-478bea22b675"
   },
   "outputs": [
    {
     "data": {
      "text/plain": [
       "15"
      ]
     },
     "execution_count": 142,
     "metadata": {},
     "output_type": "execute_result"
    }
   ],
   "source": [
    "sum([1, 2, 3, 4, 5])"
   ]
  },
  {
   "cell_type": "markdown",
   "metadata": {
    "id": "LV7yw9_6wKcB"
   },
   "source": [
    "We can use `reduce` to define an analogous `prod` function:"
   ]
  },
  {
   "cell_type": "code",
   "execution_count": 143,
   "metadata": {
    "colab": {
     "base_uri": "https://localhost:8080/"
    },
    "id": "RANHVCJBwKcB",
    "outputId": "a320d8ba-0e47-4d6e-f5c6-450e04852ac3"
   },
   "outputs": [
    {
     "data": {
      "text/plain": [
       "120"
      ]
     },
     "execution_count": 143,
     "metadata": {},
     "output_type": "execute_result"
    }
   ],
   "source": [
    "from functools import reduce\n",
    "\n",
    "def prod(l): \n",
    "    return reduce(mul, l)\n",
    "    \n",
    "prod([1, 2, 3, 4, 5])"
   ]
  },
  {
   "cell_type": "markdown",
   "metadata": {
    "id": "k3xfkfDXwKcB"
   },
   "source": [
    "## Object Oriented Programming"
   ]
  },
  {
   "cell_type": "markdown",
   "metadata": {
    "id": "D3YZQ60fwKcB"
   },
   "source": [
    "We've seen a lot of examples of **objects** in Python. We create a string object with quote marks:"
   ]
  },
  {
   "cell_type": "code",
   "execution_count": 144,
   "metadata": {
    "id": "qkhsLPCawKcC"
   },
   "outputs": [],
   "source": [
    "mystring = \"Hi there\""
   ]
  },
  {
   "cell_type": "markdown",
   "metadata": {
    "id": "Xx4wKJKwwKcC"
   },
   "source": [
    "and we have a bunch of methods we can use on the object:"
   ]
  },
  {
   "cell_type": "code",
   "execution_count": 145,
   "metadata": {
    "colab": {
     "base_uri": "https://localhost:8080/"
    },
    "id": "oK1q_3pdwKcC",
    "outputId": "51713d52-3f52-4e6b-8c9f-a54f93373f2c"
   },
   "outputs": [
    {
     "data": {
      "text/plain": [
       "['Hi', 'there']"
      ]
     },
     "execution_count": 145,
     "metadata": {},
     "output_type": "execute_result"
    }
   ],
   "source": [
    "mystring.split()"
   ]
  },
  {
   "cell_type": "code",
   "execution_count": 146,
   "metadata": {
    "colab": {
     "base_uri": "https://localhost:8080/"
    },
    "id": "ZNr25EzIwKcC",
    "outputId": "d468296a-b902-4d82-b19d-b5cb10bffc34"
   },
   "outputs": [
    {
     "data": {
      "text/plain": [
       "True"
      ]
     },
     "execution_count": 146,
     "metadata": {},
     "output_type": "execute_result"
    }
   ],
   "source": [
    "mystring.startswith('Hi')"
   ]
  },
  {
   "cell_type": "code",
   "execution_count": 147,
   "metadata": {
    "colab": {
     "base_uri": "https://localhost:8080/"
    },
    "id": "f5hnyccVwKcC",
    "outputId": "38dff1c5-308d-4ad0-f005-26c30037445e"
   },
   "outputs": [
    {
     "data": {
      "text/plain": [
       "8"
      ]
     },
     "execution_count": 147,
     "metadata": {},
     "output_type": "execute_result"
    }
   ],
   "source": [
    "len(mystring)"
   ]
  },
  {
   "cell_type": "markdown",
   "metadata": {
    "id": "OeYGR7_3wKcC"
   },
   "source": [
    "Object oriented programming simply gives you the tools to define objects and methods for yourself. It's useful anytime you want to keep some data (like the characters in the string) tightly coupled to the functions that act on the data (length, split, startswith, etc.).\n",
    "\n",
    "As an example, we can write a very primitive immutable 3D vector:"
   ]
  },
  {
   "cell_type": "code",
   "execution_count": 148,
   "metadata": {
    "id": "KDov98H8wKcD"
   },
   "outputs": [],
   "source": [
    "class Vector:\n",
    "    \"\"\"\n",
    "    Vector: a terrible 3D vector\n",
    "    \"\"\"\n",
    "    def __init__(self, x, y, z):\n",
    "        self._coords = np.array([x, y, z], dtype=float)\n",
    "\n",
    "    def x(self):\n",
    "        return self._coords[0]\n",
    "\n",
    "    def y(self):\n",
    "        return self._coords[1]\n",
    "\n",
    "    def z(self):\n",
    "        return self._coords[2]\n",
    "\n",
    "    def dot(self, w):\n",
    "        return np.dot(self._coords, w._coords)\n",
    "\n",
    "    def __add__(self, other):\n",
    "         return self._coords + other._coords\n",
    "\n",
    "    def __sub__(self, other):\n",
    "        return self._coords - other._coords"
   ]
  },
  {
   "cell_type": "markdown",
   "metadata": {
    "id": "kY2SdnpDwKcD"
   },
   "source": [
    "The `__init__()` function specifies the operations to perform when the object is created. The `self` argument is the object itself, and we don't pass it in. Note that we define some functions to access the three coordinates, as well as a function to compute the dot product.\n",
    "Finally, we \"overload\" two operators, `+` and `-`. The class can be used like this:"
   ]
  },
  {
   "cell_type": "code",
   "execution_count": 149,
   "metadata": {},
   "outputs": [
    {
     "name": "stdout",
     "output_type": "stream",
     "text": [
      "0.0\n",
      "[1. 1. 0.]\n",
      "[ 1. -1.  0.]\n"
     ]
    }
   ],
   "source": [
    "a = Vector(1, 0, 0)\n",
    "b = Vector(0, 1, 0)\n",
    "\n",
    "print(a.dot(b))\n",
    "print(a + b)\n",
    "print(a - b)"
   ]
  }
 ],
 "metadata": {
  "colab": {
   "include_colab_link": true,
   "provenance": []
  },
  "kernelspec": {
   "display_name": "Python 3 (ipykernel)",
   "language": "python",
   "name": "python3"
  },
  "language_info": {
   "codemirror_mode": {
    "name": "ipython",
    "version": 3
   },
   "file_extension": ".py",
   "mimetype": "text/x-python",
   "name": "python",
   "nbconvert_exporter": "python",
   "pygments_lexer": "ipython3",
   "version": "3.11.9"
  }
 },
 "nbformat": 4,
 "nbformat_minor": 4
}
