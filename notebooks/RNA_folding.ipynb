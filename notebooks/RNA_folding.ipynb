{
 "cells": [
  {
   "cell_type": "markdown",
   "id": "ad3e22c7-ce2e-4241-8a30-627de55dd795",
   "metadata": {},
   "source": [
    "# RNA folding\n",
    "\n",
    "In the examples below, the secondary structure of the RNA strand is plotted with the [draw_rna](https://github.com/DasLab/draw_rna) lib, which can be installed with `pip install draw_rna`."
   ]
  },
  {
   "cell_type": "markdown",
   "id": "c944f15f-33ee-44a0-8804-132a513e4db5",
   "metadata": {},
   "source": [
    "## Nussinov's algorithm"
   ]
  },
  {
   "cell_type": "code",
   "execution_count": 8,
   "id": "3c737359-f6e2-4eac-ba53-89d3370ba9b7",
   "metadata": {},
   "outputs": [],
   "source": [
    "import numpy as np\n",
    "from draw_rna.ipynb_draw import draw_struct\n",
    "\n",
    "def initialize_nussinov_matrices(N):\n",
    "    \"\"\"\n",
    "    Initialize the dynamic programming matrix for the Nussinov's algorithm.\n",
    "    The size of the matrix is N x N, where N is the length of the sequence.\n",
    "    \"\"\"\n",
    "    # Initialize the matrix with zeros\n",
    "    F = np.zeros((N, N), dtype=float)\n",
    "    K = np.zeros((N, N), dtype=int)  # Traceback matrix\n",
    "    return F, K\n",
    "\n",
    "def is_complementary(base1, base2):\n",
    "    \"\"\"\n",
    "    Check if two bases are complementary.\n",
    "    \"\"\"\n",
    "    possible_pairs = [\"AU\", \"UA\", \"CG\", \"GC\", \"GU\", \"UG\"]\n",
    "    return base1 + base2 in possible_pairs\n",
    "\n",
    "def nussinov_algorithm(sequence):\n",
    "    \"\"\"\n",
    "    Nussinov's algorithm to calculate the optimal secondary structure for a given RNA sequence.\n",
    "    sequence: A string representing the RNA sequence.\n",
    "    Returns the table, the optimal energy score, and the traceback matrix.\n",
    "    \"\"\"\n",
    "    N = len(sequence)\n",
    "    F, K = initialize_nussinov_matrices(N)\n",
    "    \n",
    "    # fill the dynamic programming table\n",
    "    for i in range(N - 1, -1, -1):  # beginning of the subsequence\n",
    "        for j in range(i + 1, N):  # end of the subsequence            \n",
    "            # case 1: Base i is unpaired\n",
    "            F[i, j] = F[i + 1, j]\n",
    "            K[i, j] = 0  # Traceback: i is unpaired\n",
    "            \n",
    "            # case 2: Base i is paired with k\n",
    "            for k in range(i + 1, j + 1):\n",
    "                if is_complementary(sequence[i], sequence[k]):\n",
    "                    energy = F[i + 1, k - 1] - 1  # assume s_{i,k} = 1 for valid pair\n",
    "                    if k < j: # make sure that we don't go out of bounds\n",
    "                        energy += F[k + 1, j]\n",
    "                    if energy < F[i, j]:  # update if this pairing gives better energy\n",
    "                        F[i, j] = energy\n",
    "                        K[i, j] = k  # traceback: i is paired with k\n",
    "    \n",
    "    # the optimal energy is stored in F[0, n-1]\n",
    "    return F, F[0, N - 1], K\n",
    "\n",
    "def traceback(K, sequence, i, j):\n",
    "    \"\"\"\n",
    "    Traceback function to recover the base pairs from the DP matrix.\n",
    "    \"\"\"\n",
    "    P = []  # list to store the base pairs\n",
    "    \n",
    "    def recursive_traceback(i, j):\n",
    "        if i >= j:\n",
    "            return\n",
    "        \n",
    "        k = K[i, j]\n",
    "        if k == 0:  # i is unpaired\n",
    "            recursive_traceback(i + 1, j)\n",
    "        else:  # i is paired with k\n",
    "            P.append((i, k))\n",
    "            recursive_traceback(i + 1, k - 1)\n",
    "            recursive_traceback(k + 1, j)\n",
    "    \n",
    "    recursive_traceback(i, j)\n",
    "\n",
    "    dot_parens = [\".\", ]  * len(sequence)\n",
    "    for pair in P:\n",
    "        dot_parens[pair[0]] = \"(\"\n",
    "        dot_parens[pair[1]] = \")\"\n",
    "    \n",
    "    return P, \"\".join(dot_parens)"
   ]
  },
  {
   "cell_type": "code",
   "execution_count": 11,
   "id": "a8863c37-2dd6-4a53-b738-2bf1f8d97b8d",
   "metadata": {},
   "outputs": [
    {
     "name": "stdout",
     "output_type": "stream",
     "text": [
      "Optimal folding energy: -3.0\n",
      "Base pairs: [(0, 1), (3, 4), (6, 7)]\n",
      "Dot-parens: ().().()\n",
      "Error occured while drawing RNA 1 0\n",
      "Cannot draw this structure: it probably has a non-physical secondary structure\n"
     ]
    }
   ],
   "source": [
    "# Example usage\n",
    "sequence = \"GCACGACG\"\n",
    "F, optimal_energy, K = nussinov_algorithm(sequence)\n",
    "base_pairs, dot_parens = traceback(K, sequence, 0, len(sequence) - 1)\n",
    "\n",
    "print(f\"Optimal folding energy: {optimal_energy}\")\n",
    "print(f\"Base pairs: {base_pairs}\")\n",
    "print(f\"Dot-parens: {dot_parens}\")\n",
    "\n",
    "# we need this try-except block since the lib we use sometimes fail for short strands with weird secondary structures\n",
    "try:\n",
    "    draw_struct(sequence, dot_parens)\n",
    "except Exception:\n",
    "    print(\"Cannot draw this structure: it probably has a non-physical secondary structure\")\n"
   ]
  },
  {
   "cell_type": "markdown",
   "id": "55650ec8-9b97-4c25-9995-cb80ea3f3520",
   "metadata": {},
   "source": [
    "## Zuker's algorithm"
   ]
  },
  {
   "cell_type": "code",
   "execution_count": null,
   "id": "5c1f4d24-d38a-4bb5-9bc8-4588c7180bb9",
   "metadata": {},
   "outputs": [],
   "source": []
  }
 ],
 "metadata": {
  "kernelspec": {
   "display_name": "Python 3 (ipykernel)",
   "language": "python",
   "name": "python3"
  },
  "language_info": {
   "codemirror_mode": {
    "name": "ipython",
    "version": 3
   },
   "file_extension": ".py",
   "mimetype": "text/x-python",
   "name": "python",
   "nbconvert_exporter": "python",
   "pygments_lexer": "ipython3",
   "version": "3.11.9"
  }
 },
 "nbformat": 4,
 "nbformat_minor": 5
}
