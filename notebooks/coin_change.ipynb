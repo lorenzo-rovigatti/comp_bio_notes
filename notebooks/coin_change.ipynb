{
 "cells": [
  {
   "cell_type": "markdown",
   "id": "cc09e7c7",
   "metadata": {},
   "source": [
    "# The coin change problem\n",
    "\n",
    "## Brute-force algorithm\n",
    "\n",
    "The `find_min_coins_brute_force` function takes as parameters\n",
    "\n",
    "1. the set of possible coins, C\n",
    "2. the amount to change, N\n",
    "\n",
    "and returns the minimum number of coins required to change N.\n",
    "\n",
    "The function uses recursion to extensively check all combinations and select the optimal one."
   ]
  },
  {
   "cell_type": "code",
   "execution_count": 4,
   "id": "70d8b433-4812-40c4-b54d-d94a8acafd96",
   "metadata": {},
   "outputs": [],
   "source": [
    "import sys\n",
    "def find_min_coins_brute_force(C, curr_N):\n",
    "    if curr_N == 0:\n",
    "        return 0\n",
    "    \n",
    "    min_coins = sys.maxsize\n",
    "    for c in C:\n",
    "        if c <= curr_N:\n",
    "            res = find_min_coins_brute_force(C, curr_N - c) + 1\n",
    "            min_coins = min(res, min_coins)\n",
    "            \n",
    "    return min_coins"
   ]
  },
  {
   "cell_type": "code",
   "execution_count": 5,
   "id": "9dae2c05",
   "metadata": {},
   "outputs": [
    {
     "name": "stdout",
     "output_type": "stream",
     "text": [
      "The minimum number of coins is 9\n"
     ]
    }
   ],
   "source": [
    "min_coins = find_min_coins_brute_force([1, 4, 5], 41)\n",
    "\n",
    "print(\"The minimum number of coins is\", min_coins)"
   ]
  },
  {
   "cell_type": "markdown",
   "id": "9b9b41da",
   "metadata": {},
   "source": [
    "## Dynamic programming algorithm\n",
    "\n",
    "The `find_min_coins_dynamic_programming` takes as parameters\n",
    "\n",
    "1. the set of possible coins, C\n",
    "2. the amount to change, N\n",
    "\n",
    "The function returns a list containing\n",
    "\n",
    "1. the minimum number of coins required to change N\n",
    "2. the dynamic programming table\n",
    "3. an optimal solution\n",
    "\n",
    "The function uses the algorithm discussed in class, whereby a recursive relation is used to fill a table. The last entry of the table is the optimal solution, and then the table itself can be used to trace back the solution in terms of coins."
   ]
  },
  {
   "cell_type": "code",
   "execution_count": 6,
   "id": "d0c9f69e-8fec-4bfc-af64-a909a1a92135",
   "metadata": {},
   "outputs": [],
   "source": [
    "# recursive relation\n",
    "def compute_w(table, x, c):\n",
    "    if x - c >= 0:\n",
    "        return table[x - c] + 1\n",
    "    else:\n",
    "        return sys.maxsize\n",
    "\n",
    "# the first argument should be the set of possible coins, the second is the amount to change\n",
    "def find_min_coins_dynamic_programming(C, N):\n",
    "    # fill in\n",
    "    table = [0, ] * (N + 1)\n",
    "    for x in range(1, N + 1):\n",
    "        table[x] = min([compute_w(table, x, c) for c in C])\n",
    "\n",
    "    # trace back\n",
    "    curr_x = N\n",
    "    S = []\n",
    "    while curr_x > 0:\n",
    "        to_find = table[curr_x] - 1\n",
    "        for c in C:\n",
    "            if curr_x - c >= 0 and table[curr_x - c] == to_find:\n",
    "                break\n",
    "        # some thing as above, but with a one-liner: perhaps less readable, but we avoid a python loop and a break\n",
    "        # c = list(filter(lambda c: curr_x - c >= 0 and table[curr_x - c] == to_find, C))[0]\n",
    "        S.append(c)\n",
    "        curr_x -= c\n",
    "\n",
    "    return table[-1], table, S"
   ]
  },
  {
   "cell_type": "code",
   "execution_count": 7,
   "id": "f43ded12-648c-49e3-a42a-a78154fcbcce",
   "metadata": {},
   "outputs": [
    {
     "name": "stdout",
     "output_type": "stream",
     "text": [
      "The minimum number of coins is 3\n",
      "\n",
      "The dynamic programming table is\n",
      "\n",
      "|  0 |  1 |  2 |  3 |  4 |  5 |  6 |  7 |  8 |  9 | 10 | 11 | 12 | 13 | 14 | 15 |\n",
      "|----|----|----|----|----|----|----|----|----|----|----|----|----|----|----|----|\n",
      "|  0 |  1 |  2 |  3 |  1 |  1 |  2 |  3 |  2 |  2 |  2 |  3 |  3 |  3 |  3 |  3 |\n",
      "\n",
      "An optimal solution is: [5, 5, 5]\n"
     ]
    }
   ],
   "source": [
    "min_coins, table, S = find_min_coins_dynamic_programming([1, 4, 5], 15)\n",
    "\n",
    "print(\"The minimum number of coins is\", min_coins)\n",
    "\n",
    "print(\"\\nThe dynamic programming table is\\n\")\n",
    "print(\"|\", \" | \".join([\"{:2d}\".format(x) for x in range(len(table))]), \"|\")\n",
    "print(\"|\" + \"----|\" * len(table))\n",
    "print(\"|\", \" | \".join([\"{:2d}\".format(x) for x in table]), \"|\\n\")\n",
    "\n",
    "print(\"An optimal solution is:\", S)"
   ]
  },
  {
   "cell_type": "markdown",
   "id": "d57ab23d",
   "metadata": {},
   "source": [
    "## A simple exercise\n",
    "\n",
    "Find the time complexity of the two solutions in terms of the length of C and of the amount of money to change N. In order to do so, one option is to extend the following example"
   ]
  },
  {
   "cell_type": "code",
   "execution_count": 11,
   "id": "dca34bbc",
   "metadata": {},
   "outputs": [
    {
     "name": "stdout",
     "output_type": "stream",
     "text": [
      "Brute force elapsed time: 6.19 s\n",
      "Dynamic programming elapsed time: 1.19e-04 s\n"
     ]
    }
   ],
   "source": [
    "import time\n",
    "\n",
    "bf_start_time = time.time()\n",
    "find_min_coins_brute_force([1, 4, 5], 41)\n",
    "bf_end_time = time.time()\n",
    "\n",
    "dp_start_time = time.time()\n",
    "find_min_coins_dynamic_programming([1, 4, 5], 41)\n",
    "dp_end_time = time.time()\n",
    "\n",
    "print(f\"Brute force elapsed time: {bf_end_time - bf_start_time:.2f} s\")\n",
    "print(f\"Dynamic programming elapsed time: {dp_end_time - dp_start_time:.2e} s\")"
   ]
  },
  {
   "cell_type": "code",
   "execution_count": null,
   "id": "97d7a319",
   "metadata": {},
   "outputs": [],
   "source": []
  }
 ],
 "metadata": {
  "kernelspec": {
   "display_name": "Python 3 (ipykernel)",
   "language": "python",
   "name": "python3"
  },
  "language_info": {
   "codemirror_mode": {
    "name": "ipython",
    "version": 3
   },
   "file_extension": ".py",
   "mimetype": "text/x-python",
   "name": "python",
   "nbconvert_exporter": "python",
   "pygments_lexer": "ipython3",
   "version": "3.11.9"
  }
 },
 "nbformat": 4,
 "nbformat_minor": 5
}
