{
 "cells": [
  {
   "cell_type": "markdown",
   "id": "29fd0fd6",
   "metadata": {},
   "source": [
    "---\n",
    "title: Dihedrals and Ramachandran plots\n",
    "---"
   ]
  },
  {
   "cell_type": "markdown",
   "id": "b864b157",
   "metadata": {},
   "source": [
    "This notebook requires biopython and PeptideBuilder, which can be installed through pip with\n",
    "\n",
    "```\n",
    "pip install biopython PeptideBuilder\n",
    "```"
   ]
  },
  {
   "cell_type": "code",
   "execution_count": 1,
   "id": "7122d97d",
   "metadata": {},
   "outputs": [],
   "source": [
    "import Bio\n",
    "import PeptideBuilder as PB\n",
    "import itertools\n",
    "import numpy as np"
   ]
  },
  {
   "cell_type": "code",
   "execution_count": 90,
   "id": "7fd39646",
   "metadata": {},
   "outputs": [],
   "source": [
    "VDW_RADII = {\n",
    "    \"H\" : 1.20,\n",
    "    \"C\" : 1.70,\n",
    "    \"N\" : 1.55,\n",
    "    \"O\" : 1.52,\n",
    "    \"P\" : 1.80,\n",
    "    \"S\" : 1.80,\n",
    "}\n",
    "\n",
    "# return 1 if there are overlaps, 0 otherwise\n",
    "def energy(structure):\n",
    "    atoms = structure.get_atoms()\n",
    "    # N^2 computation, not efficient but good enough for small molecules\n",
    "    for p, q in itertools.combinations(atoms, 2):\n",
    "        if abs(p.parent.id[1] - q.parent.id[1]) != 1: # we check only consecutive residues\n",
    "            continue\n",
    "        elif p.name == \"C\" and q.name == \"N\" or p.name == \"N\" and q.name == \"C\":\n",
    "            continue\n",
    "\n",
    "        p_elem = p.name[0]\n",
    "        q_elem = q.name[0]\n",
    "        radius = (VDW_RADII[p_elem] + VDW_RADII[q_elem]) * 0.72 # heuristic rescaling factor\n",
    "        if np.linalg.norm(p - q) < radius:\n",
    "            print(q_elem, p_elem)\n",
    "            return 1\n",
    "    return 0"
   ]
  },
  {
   "cell_type": "code",
   "execution_count": 91,
   "id": "b4c0b3b4",
   "metadata": {},
   "outputs": [
    {
     "name": "stdout",
     "output_type": "stream",
     "text": [
      "C C\n",
      "1\n",
      "('X', 0, 'A', (' ', 1, ' '), ('N', ' '))\n",
      "('X', 0, 'A', (' ', 1, ' '), ('CA', ' '))\n",
      "('X', 0, 'A', (' ', 1, ' '), ('C', ' '))\n",
      "('X', 0, 'A', (' ', 1, ' '), ('O', ' '))\n",
      "('X', 0, 'A', (' ', 2, ' '), ('N', ' '))\n",
      "('X', 0, 'A', (' ', 2, ' '), ('CA', ' '))\n",
      "('X', 0, 'A', (' ', 2, ' '), ('C', ' '))\n",
      "('X', 0, 'A', (' ', 2, ' '), ('O', ' '))\n",
      "('X', 0, 'A', (' ', 3, ' '), ('N', ' '))\n",
      "('X', 0, 'A', (' ', 3, ' '), ('CA', ' '))\n",
      "('X', 0, 'A', (' ', 3, ' '), ('C', ' '))\n",
      "('X', 0, 'A', (' ', 3, ' '), ('O', ' '))\n"
     ]
    }
   ],
   "source": [
    "geo_ends = PB.Geometry.geometry(\"G\")\n",
    "structure = PB.initialize_res(geo_ends)\n",
    "PB.add_residue(structure, \"G\", -5, 0)\n",
    "PB.add_residue(structure, geo_ends)\n",
    "\n",
    "print(energy(structure))\n",
    "\n",
    "for a in structure.get_atoms():\n",
    "    print(a.get_full_id())"
   ]
  },
  {
   "cell_type": "code",
   "execution_count": 92,
   "id": "18288963",
   "metadata": {
    "scrolled": false
   },
   "outputs": [
    {
     "name": "stdout",
     "output_type": "stream",
     "text": [
      "C C\n",
      "C C\n",
      "C C\n",
      "C C\n",
      "C C\n",
      "C C\n",
      "C C\n",
      "C C\n",
      "C C\n",
      "C C\n",
      "C C\n",
      "C C\n",
      "C C\n",
      "C C\n",
      "C C\n",
      "C C\n"
     ]
    }
   ],
   "source": [
    "import matplotlib.pyplot as plt\n",
    "from matplotlib import colors\n",
    "\n",
    "# create a peptide consisting of 3 glycines, adapter from PeptideBuilder's example\n",
    "phis = np.array(list(range(-175, 180, 100)))\n",
    "psis = np.array(list(range(-175, 180, 100)))\n",
    "forbidden_psi = []\n",
    "forbidden_phi = []\n",
    "energies = np.zeros((phis.shape[0], psis.shape[0]))\n",
    "for i, phi in enumerate(phis):\n",
    "    for j, psi in enumerate(psis):\n",
    "        geo_ends = PB.Geometry.geometry(\"G\")\n",
    "        structure = PB.initialize_res(geo_ends)\n",
    "        PB.add_residue(structure, \"G\", phi, psi)\n",
    "        PB.add_residue(structure, geo_ends)\n",
    "        \n",
    "        E = energy(structure)\n",
    "        energies[j, i] = E\n",
    "        if E == 1:\n",
    "            forbidden_phi.append(phi)\n",
    "            forbidden_psi.append(psi)\n",
    "            \n",
    "np.savetxt(\"combs.dat\", energies)"
   ]
  },
  {
   "cell_type": "code",
   "execution_count": 89,
   "id": "c3d673bb",
   "metadata": {},
   "outputs": [
    {
     "data": {
      "image/png": "[encoded data removed]",
      "text/plain": [
       "<Figure size 432x288 with 1 Axes>"
      ]
     },
     "metadata": {
      "needs_background": "light"
     },
     "output_type": "display_data"
    }
   ],
   "source": [
    "def format_axis(axis):\n",
    "    zero_lines_kwargs = {\n",
    "        \"colors\" : [\"Grey\"], \n",
    "        \"alpha\" : 0.4, \n",
    "        \"zorder\" : 3, \n",
    "        \"linewidths\" : [1]\n",
    "        }\n",
    "\n",
    "    axis.grid(alpha=0.4, linestyle=\"--\", linewidth=1, color=\"Grey\", zorder=3)\n",
    "    axis.hlines(0, -180, 180, **zero_lines_kwargs)\n",
    "    axis.vlines(0, -180, 180, **zero_lines_kwargs)\n",
    "    \n",
    "    axis.set_xlim((-180, 180))\n",
    "    axis.set_ylim((-180, 180))\n",
    "    axis.set_xlabel(u\"$\\phi$ (\\u00B0)\")\t# phi\n",
    "    axis.set_ylabel(u\"$\\psi$ (\\u00B0)\")\t# psi\n",
    "\n",
    "    axis.set_xticks([-180, -90, 0, 90, 180])\n",
    "    axis.set_yticks([-180, -90, 0, 90, 180])\n",
    "\n",
    "    ax_linewidth = 2\n",
    "    axis.spines[\"left\"].set_linewidth(ax_linewidth)\n",
    "    axis.spines[\"bottom\"].set_linewidth(ax_linewidth)\n",
    "    \n",
    "fig, ax = plt.subplots()\n",
    "kwargs = {\n",
    "    \"bins\" : 140, \n",
    "    \"norm\" : colors.PowerNorm(0.1),\n",
    "    \"alpha\" : 1}\n",
    "ax.hist2d(forbidden_phi, forbidden_psi, **kwargs)\n",
    "format_axis(ax)"
   ]
  },
  {
   "cell_type": "code",
   "execution_count": 93,
   "id": "907fc2e1",
   "metadata": {},
   "outputs": [],
   "source": [
    "out = Bio.PDB.PDBIO()\n",
    "out.set_structure(structure)\n",
    "out.save(\"example.pdb\")"
   ]
  },
  {
   "cell_type": "code",
   "execution_count": null,
   "id": "3943c18e",
   "metadata": {},
   "outputs": [],
   "source": []
  }
 ],
 "metadata": {
  "kernelspec": {
   "display_name": "Python 3 (ipykernel)",
   "language": "python",
   "name": "python3"
  },
  "language_info": {
   "codemirror_mode": {
    "name": "ipython",
    "version": 3
   },
   "file_extension": ".py",
   "mimetype": "text/x-python",
   "name": "python",
   "nbconvert_exporter": "python",
   "pygments_lexer": "ipython3",
   "version": "3.10.9"
  }
 },
 "nbformat": 4,
 "nbformat_minor": 5
}
