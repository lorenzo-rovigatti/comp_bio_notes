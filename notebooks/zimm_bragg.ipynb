{
 "cells": [
  {
   "cell_type": "markdown",
   "id": "7e5c156e",
   "metadata": {},
   "source": [
    "# The Zimm-Bragg model"
   ]
  },
  {
   "cell_type": "code",
   "execution_count": 381,
   "id": "116add40",
   "metadata": {},
   "outputs": [],
   "source": [
    "import numpy as np\n",
    "import math"
   ]
  },
  {
   "cell_type": "markdown",
   "id": "047ef223",
   "metadata": {},
   "source": [
    "## The theoretical value\n",
    "\n",
    "The theoretical value of the helicity has been derived in the notes, and can be written as a function of the transfer matrix eigenvalues $\\lambda_1$ and $\\lambda_2$ as\n",
    "\n",
    "$$\n",
    "\\theta_N = \\frac{\\lambda_1 - 1}{\\lambda_1 - \\lambda_2} \\frac{1 + \\left( \\frac{\\lambda_2}{\\lambda_1} \\right)^{N+1} - \\frac{2}{N}\\frac{\\lambda_2}{\\lambda_1 - \\lambda_2} \\left[ 1 - \\left( \\frac{\\lambda_2}{\\lambda_1} \\right)^{N} \\right]}{1 + \\frac{\\lambda_1 - 1}{1 - \\lambda_2}\\left( \\frac{\\lambda_2}{\\lambda_1} \\right)^{N+1}}\n",
    "$$\n",
    "\n",
    "The following function computes and returns it for the given values of the chain length $N$ and the Zimm-Bragg parameters $s$ and $\\sigma$. Note that extreme values of the parameters will give raise to numerical issues (and possibly errors). Those can be avoid by taking care of edge cases, and/or by explicitly using the expressions for $\\lambda_1$ and $\\lambda_2$ to simplify the relation above."
   ]
  },
  {
   "cell_type": "code",
   "execution_count": 382,
   "id": "5561da09",
   "metadata": {},
   "outputs": [],
   "source": [
    "def theoretical_zimm_bragg(N, s, sigma):\n",
    "    l_1 = 1 + (s - 1) / 2 + math.sqrt(((s - 1) / 2)**2 + sigma * s)\n",
    "    l_2 = 1 + (s - 1) / 2 - math.sqrt(((s - 1) / 2)**2 + sigma * s)\n",
    "    \n",
    "    r = l_2 / l_1\n",
    "    \n",
    "    theta = (l_1 - 1) / (l_1 - l_2)\n",
    "    theta *= 1 + r**(N + 1) - 2 / N * l_2 / (l_1 - l_2) * (1 - r**N)\n",
    "    theta /= 1 + (l_1 - 1) / (1 - l_2) * r**(N + 1)\n",
    "    \n",
    "    return theta"
   ]
  },
  {
   "cell_type": "markdown",
   "id": "e0e301c3",
   "metadata": {},
   "source": [
    "## The Monte Carlo Metropolis method"
   ]
  },
  {
   "cell_type": "markdown",
   "id": "6b8a61f1",
   "metadata": {},
   "source": [
    "### Introduction\n",
    "\n",
    "The model prescribes (or makes it possible to compute) the statistical weight of any chain configuration. We can leverage this knowledge to sample the available configurations in equilibrium by using a specific Monte Carlo (MC) technique known as the Metropolis method.\n",
    "\n",
    "The discussion below is taken from the Frenkel and Smit book.\n",
    "\n",
    "Consider the whole phase space of the system. By definition, each state $i$ is visited with a probability given by its statistical weight, $W_i$. We now wish to find a way of sampling the phase space so that the equilibrium distribution, given by the weights $\\lbrace W \\rbrace$, is retained. In order to do so we define the transition probability matrix $A_{i \\to j}$ to go from state $i$ to state $j$, with the obvious constraint that its elements have to be such that the equilibrium distribution is conserved. A sufficient condition to fulfill such a constraint is that, for each pair $i, j$,\n",
    "\n",
    "$$\n",
    "W_i A_{i \\to j} = W_j A_{j \\to i},\n",
    "$$\n",
    "\n",
    "which is also known as \"detailed balance\". The transition matrix can be decoupled as a product of two matrices,\n",
    "\n",
    "$$\n",
    "A_{i \\to j} = \\alpha(i \\to j) P(i \\to j),\n",
    "$$\n",
    "\n",
    "where $\\alpha(i \\to j)$ is the probability of proposing the $i\\to j$ change, and $P(i \\to j)$ is the probability to accept the change, also known as \"acceptance probability\". In the simple scheme we will consider the matrix $\\alpha$ is chosen to be symmetric, so that the first equation of this section can be written as\n",
    "\n",
    "$$\n",
    "W_i P_{i \\to j} = W_j P_{j \\to i},\n",
    "$$\n",
    "\n",
    "and therefore\n",
    "\n",
    "$$\n",
    "\\frac{P_{i \\to j}}{P_{j \\to i}} = \\frac{W_i}{W_j}.\n",
    "$$\n",
    "\n",
    "Any choice of the elements $P_{i \\to j}$ that satisfy the above condition will sample the phase space in equilibrium (given enough simulation time). The choice made by Metropolis et al, which is by far the most common, is\n",
    "\n",
    "$$\n",
    "P(i \\to j) = \\min \\left\\lbrace 1, \\frac{W_j}{W_i} \\right\\rbrace.\n",
    "$$\n",
    "\n",
    "In a microscopic system (*i.e.* a system where it is possible to specify a Hamiltonian), the statistical weight takes a simple (and famous) form:\n",
    "\n",
    "$$\n",
    "W_i = e^{-\\beta E_i},\n",
    "$$\n",
    "\n",
    "where $E_i$ is the energy of configuration $i$, so that the acceptance probability is just\n",
    "\n",
    "$$\n",
    "P(i \\to j) = \\min \\left\\lbrace 1, e^{-\\beta \\Delta E_{ij}} \\right\\rbrace,\n",
    "$$\n",
    "\n",
    "where $\\Delta E = E_j - E_i$ is the energy difference between the two configurations."
   ]
  },
  {
   "cell_type": "markdown",
   "id": "71bbcb82",
   "metadata": {},
   "source": [
    "### Observables\n",
    "\n",
    "In the statistical mechanics approach, a quantity of interest $O$ can be evaluated by taking an average over the ensemble of the equilibrium configurations:\n",
    "\n",
    "$$\n",
    "\\langle O \\rangle = \\frac{\\sum_i O_i W_i}{\\sum_i W_i},\n",
    "$$\n",
    "\n",
    "where $O_i$ is the value of $O$ for the configuration $i$. Since with the MC method sketched above we sample equilibrium configurations, we can approximate the above relation as\n",
    "\n",
    "$$\n",
    "\\langle O \\rangle \\approx \\frac{1}{N} \\sum_t O_t,\n",
    "$$\n",
    "\n",
    "where $t$ runs over the simulation iterations. Note that in most MC schemes (like the one considered here), configurations that are \"close in time\" (*i.e.* are separated by few iterations) are correlated. As a result, it is often sufficient to update the averages every $N_t t$ iterations rather than after each iteration.\n",
    "\n",
    "**Nota Bene:** in real systems it is not possible to sample the *whole* phase space, but we need to simulate for long enough so that enough representative states are sampled. A necessary, but by no means sufficient, condition to judge the quality of the sampling is that the average value $\\langle O \\rangle$ plotted against the simulation time converges to some value, perhaps with small fluctuations."
   ]
  },
  {
   "cell_type": "markdown",
   "id": "1202f727",
   "metadata": {},
   "source": [
    "### Implementation in the Zimm-Bragg model\n",
    "\n",
    "Here we implement the Monte Carlo Metropolis algorithm in this way:\n",
    "\n",
    "1. We start with a configuration $i$, which has a statistical weight $W_i$\n",
    "2. We propose a new configuration $j$, which has a statistical weight $W_j$, which is identical to $i$ but for the conformation of a single residue, which is randomly chosen and flipped (`c` $\\to$ `h` or `h` $\\to$ `c`).\n",
    "3. We accept the change (*i.e.* the chain acquires the new configuration $j$) with probability\n",
    "$$\n",
    "P(i \\to j) = \\min \\left\\lbrace 1, \\frac{W_j}{W_i} \\right\\rbrace\n",
    "$$\n",
    "4. We go back to step 1, regardless of whether we accepted or rejected the flipping.\n",
    "\n",
    "By iterating this procedure many times, we sample the phase space of the configurations. In the code below, we first run a certain amount of \"Monte Carlo steps\", where each MC step is defined as $N$ iterations, where $N$ is the length of the chain, to \"equilibrate\" the system, *i.e.* to obtain a typical equilibrium configuration. After this equilibration we begin to keep track of the helicity, so that at the end of the simulation we can return its value, averaged over the ensemble of generated configurations.\n",
    "\n",
    "We now have to discuss how to evaluate the statistical weight associated to a configuration. First of all, note that we don't need the single statistical weights of the $i$ and $j$ configurations, but only their ratio. Moreover, in the Zimm-Bragg model the total weight of the chain can be decomposed in the product of the weights associated to each residue, *viz.*\n",
    "\n",
    "$$\n",
    "W_i = \\Pi_{\\gamma = 1}^N W_i^\\gamma,\n",
    "$$\n",
    "\n",
    "where $W_i^\\gamma$ is the statistical weight of residue $\\gamma$ and depends on its state (`h` or `c`) and possibly to its interaction with its neighbours. These are all the possibilities:\n",
    "\n",
    "1. $\\gamma$ is in the coil state: $W_i^\\gamma = 1$\n",
    "2. $\\gamma$ is in the helical state, and the residue before it is also `h`: $W_i^\\gamma = s$\n",
    "3. $\\gamma$ is in the helical state, but the residue before it is a `c`: $W_i^\\gamma = s\\sigma$\n",
    "\n",
    "Since each weight is the product of the single weights associated to each residue, all the weights relative to the non-flipping residues cancel out. Therefore, if the randomly chosen residue is $\\gamma$ we have that\n",
    "\n",
    "$$\n",
    "P(i \\to j) = \\min \\left\\lbrace 1, \\frac{W_j^\\gamma}{W_i^\\gamma} \\right\\rbrace\n",
    "$$\n",
    "\n",
    "When computing the weight ratio, there are two components, one due to the propagation term, and one due to the cooperative (initiation) term. The former is easy to compute, as it is $s$ if the $\\gamma$ flips to `h`, and $1/s$ if it flips to `c`. The latter is slightly more complicated, as we have to take into account several possibilities:\n",
    "\n",
    "* if $\\gamma$ is not the first nor the last residue of the chain, there are two cases that result in a cooperative contribution:\n",
    "  1. if the new state is `h` and the two residues preceding and following $\\gamma$ are `c`, the flipping creates a new helix and therefore we have to pay the cooperative price and multiply the weight ratio by $\\sigma$\n",
    "  2. if the new state is `c` and the two residues preceding and following $\\gamma$ are `h`, the flipping joins two helices and therefore we get back the cooperative price and divide the weight ratio by $\\sigma$\n",
    "* If $\\gamma$ is the first residue and the one that follows it is in the `c` state:\n",
    "  1. if the new state is `h` we are creating a new helix, so we multiply the weight ratio by $\\sigma$\n",
    "  2. if the new state is `c` we are removing a helix, so we divide the weight ratio by $\\sigma$\n",
    "* Similarly, if $\\gamma$ is the last residue and the one that precedes it is in the `c` state:\n",
    "  1. if the new state is `h` we are creating a new helix, so we multiply the weight ratio by $\\sigma$\n",
    "  2. if the new state is `c` we are removing a helix, so we divide the weight ratio by $\\sigma$\n",
    "  \n",
    "The code below checks for these alternatives in the (hopefully) clearest possible way."
   ]
  },
  {
   "cell_type": "code",
   "execution_count": 376,
   "id": "961f3a95",
   "metadata": {},
   "outputs": [],
   "source": [
    "def metropolis_zimm_bragg(N, s, sigma):\n",
    "    # initialize the chain randomly (1 for helix, 0 for coil)\n",
    "    chain = np.random.choice([0, 1], size=N)\n",
    "\n",
    "    # return the ratio between the statistical weights due to the flipping of the index-th residue\n",
    "    def change_probability(chain, index):\n",
    "        current_state = chain[index]\n",
    "        new_state = 1 - current_state\n",
    "\n",
    "        # calculate the ratio due to the propagation term\n",
    "        if new_state == 0:\n",
    "            prob = 1 / s\n",
    "        else:\n",
    "            prob = s\n",
    "        \n",
    "        # and that relative to the cooperative (initiation) term\n",
    "        if index == 0: # first residue\n",
    "            if chain[index + 1] == 0:\n",
    "                if new_state == 1:\n",
    "                    prob *= sigma\n",
    "                else:\n",
    "                    prob /= sigma\n",
    "        elif index == N - 1: # last residue\n",
    "            if chain[index - 1] == 0:\n",
    "                if new_state == 1:\n",
    "                    prob *= sigma\n",
    "                else:\n",
    "                    prob /= sigma\n",
    "        # here we take into account two cases: either a helix is split in two or a helix is created\n",
    "        # in both cases we pay the cooperative price\n",
    "        elif new_state != chain[index - 1] and new_state != chain[index + 1]:\n",
    "            prob *= sigma\n",
    "        # here we take into account the case where the flipped residue was the only helical one\n",
    "        elif new_state == 0 and chain[index - 1] == 0 and chain[index + 1] == 0:\n",
    "            prob /= sigma\n",
    "        \n",
    "        return prob\n",
    "  \n",
    "    # Monte Carlo simulation\n",
    "    fraction_helical = 0\n",
    "    count = 0\n",
    "    for i in range(steps):\n",
    "        for _ in range(N):\n",
    "            # randomly pick a residue to flip\n",
    "            index = np.random.randint(N)\n",
    "\n",
    "            # calculate the probability change\n",
    "            prob = change_probability(chain, index)\n",
    "\n",
    "            # accept or reject the change\n",
    "            if prob > 1 or np.random.rand() < prob:\n",
    "                chain[index] = 1 - chain[index]\n",
    "            \n",
    "        # skip the first steps to let the chain equilibrate\n",
    "        if i > steps // 10:\n",
    "            fraction_helical += np.mean(chain)\n",
    "            count += 1\n",
    "\n",
    "    return fraction_helical / count"
   ]
  },
  {
   "cell_type": "markdown",
   "id": "472f6a8e",
   "metadata": {},
   "source": [
    "## A simple test\n",
    "\n",
    "Here we test the two functions on a chain made of $20$ residues, for a specific pair of $\\sigma$ and $s$ values. Feel free to play around with these values and see if what happens aligns with your intuition."
   ]
  },
  {
   "cell_type": "code",
   "execution_count": 377,
   "id": "8aea1145",
   "metadata": {},
   "outputs": [
    {
     "name": "stdout",
     "output_type": "stream",
     "text": [
      "Theoretical fraction of helical content: 0.8986045167135377\n",
      "Numerical fraction of helical content: 0.8917768640959784\n"
     ]
    }
   ],
   "source": [
    "N = 20\n",
    "sigma = 1e-3\n",
    "s = 2\n",
    "steps = 10000  # number of Monte Carlo steps\n",
    "\n",
    "theta_th = theoretical_zimm_bragg(N, s, sigma)\n",
    "theta_MC = metropolis_zimm_bragg(N, s, sigma)\n",
    "print(f\"Theoretical fraction of helical content: {theta_th}\")\n",
    "print(f\"Numerical fraction of helical content: {theta_MC}\")"
   ]
  },
  {
   "cell_type": "markdown",
   "id": "bdd48ed3",
   "metadata": {},
   "source": [
    "## The melting curve\n",
    "\n",
    "Here I show a slightly more complicated example where we use the two functions above to evaluate the fraction of helicity of a chain as a function of temperature. Note that to make it more realistic we consider $f_h$ to have an enthalpic contribution, $\\Delta H$, and an entropic contribution, $\\Delta S$. If you recall, in the two-state (uncooperative) model, the melting temperature is just\n",
    "\n",
    "$$\n",
    "T_M = \\frac{\\Delta H}{\\Delta S}.\n",
    "$$\n",
    "\n",
    "Here I chose to set $\\Delta S = \\Delta H$ so that $T_M = 1$ if $\\sigma = 1$. I then set $\\Delta H = -1$ and $\\sigma = 10^{-3}$. Since it has an enthalpic component, $s$ is temperature-dependent, and therefore should be recomputed every time $T$ varies. This is done within the loop.\n",
    "\n",
    "Note that I'm using arbitrary units of measurements chosen so that the most important parameters are of order 1."
   ]
  },
  {
   "cell_type": "code",
   "execution_count": 375,
   "id": "9842a4f9",
   "metadata": {},
   "outputs": [
    {
     "name": "stdout",
     "output_type": "stream",
     "text": [
      "Evaluating temperature 0.2\n",
      "Evaluating temperature 0.4\n",
      "Evaluating temperature 0.6\n",
      "Evaluating temperature 0.8\n",
      "Evaluating temperature 1.0\n",
      "Evaluating temperature 1.2\n"
     ]
    },
    {
     "data": {
      "image/png": "[encoded data removed]",
      "text/plain": [
       "<Figure size 432x288 with 1 Axes>"
      ]
     },
     "metadata": {
      "needs_background": "light"
     },
     "output_type": "display_data"
    }
   ],
   "source": [
    "import matplotlib.pyplot as plt\n",
    "\n",
    "theta_th = []\n",
    "theta_MC = []\n",
    "\n",
    "N = 10\n",
    "sigma = 1e-3\n",
    "s_delta_H = -1\n",
    "s_delta_S = -1\n",
    "steps = 10000\n",
    "\n",
    "Ts = (0.2, 0.4, 0.6, 0.8, 1.0, 1.2)\n",
    "\n",
    "for temperature in Ts:\n",
    "    print(\"Evaluating temperature\", temperature)\n",
    "    beta_f_h = (s_delta_H - temperature * s_delta_S) / temperature\n",
    "    s = math.exp(-beta_f_h)\n",
    "    theta_th.append(theoretical_zimm_bragg(N, s, sigma))\n",
    "    theta_MC.append(metropolis_zimm_bragg(N, s, sigma))\n",
    "\n",
    "plt.plot(Ts, theta_th, 'o-', label=\"Theory\")\n",
    "plt.plot(Ts, theta_MC, 'x-', label=\"Simulation\")\n",
    "plt.xlabel(\"Temperature\")\n",
    "plt.ylabel(r\"Helicity $\\theta$\") # note the r before the \", which makes it possible to use latex notation\n",
    "plt.legend()\n",
    "plt.show() # not strictly required in a notebook"
   ]
  },
  {
   "cell_type": "code",
   "execution_count": null,
   "id": "dc794be5",
   "metadata": {},
   "outputs": [],
   "source": []
  }
 ],
 "metadata": {
  "kernelspec": {
   "display_name": "Python 3 (ipykernel)",
   "language": "python",
   "name": "python3"
  },
  "language_info": {
   "codemirror_mode": {
    "name": "ipython",
    "version": 3
   },
   "file_extension": ".py",
   "mimetype": "text/x-python",
   "name": "python",
   "nbconvert_exporter": "python",
   "pygments_lexer": "ipython3",
   "version": "3.10.9"
  }
 },
 "nbformat": 4,
 "nbformat_minor": 5
}
